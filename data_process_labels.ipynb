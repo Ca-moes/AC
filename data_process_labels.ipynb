{
 "cells": [
  {
   "cell_type": "markdown",
   "id": "fcddeb73-439d-4a50-b87b-7ccc16f1684a",
   "metadata": {
    "tags": []
   },
   "source": [
    "# Data Processing\n",
    "\n",
    "1. Read .csv files\n",
    "2. Clean tables\n",
    "3. Merge Tables\n",
    "4. Feature Selection"
   ]
  },
  {
   "cell_type": "code",
   "execution_count": 1,
   "id": "26a32933-1298-4d68-9f71-43c2d6112104",
   "metadata": {
    "tags": []
   },
   "outputs": [],
   "source": [
    "import pandas as pd\n",
    "import numpy as np\n",
    "import seaborn as sb\n",
    "import matplotlib.pyplot as plt\n",
    "from datetime import date as d\n",
    "from sklearn.preprocessing import LabelEncoder\n",
    "\n",
    "pd.set_option('display.max_columns', 500)\n",
    "pd.set_option('display.width', 1000)"
   ]
  },
  {
   "cell_type": "markdown",
   "id": "4d8d2f91-e3c1-48fc-9a2b-5dfc55f5ede0",
   "metadata": {},
   "source": [
    "#### Utils functions"
   ]
  },
  {
   "cell_type": "code",
   "execution_count": 2,
   "id": "736625e9-0e57-4721-b4aa-17e730680ea0",
   "metadata": {},
   "outputs": [],
   "source": [
    "def read_file(file_name, date=False):\n",
    "    return pd.read_csv('data/' + file_name + '.csv', sep=';', parse_dates=date, na_values=['NA', ''], low_memory=False).rename(str.strip, axis = 'columns')"
   ]
  },
  {
   "cell_type": "code",
   "execution_count": 3,
   "id": "6cf02220-187b-42e4-ba31-5c983403246b",
   "metadata": {},
   "outputs": [],
   "source": [
    "# Convert dates in yymmdd format to yyyy-mm-dd\n",
    "def parse_date(date):\n",
    "    return pd.to_datetime('19'+str(date)[0:2] + str(date)[2:4] + str(date)[4:6])\n",
    "\n",
    "# Returns current age\n",
    "def calc_age(date):\n",
    "    today = d.today()\n",
    "    return today.year - date.year - ((today.month, today.day) < (date.month, date.day))"
   ]
  },
  {
   "cell_type": "markdown",
   "id": "8c88458e-0121-41db-9a6e-93150459a3eb",
   "metadata": {},
   "source": [
    "Read files, clean data and select features"
   ]
  },
  {
   "cell_type": "code",
   "execution_count": 4,
   "id": "b7dc8a5b-c2ce-44b3-96ec-7924fa3abf2c",
   "metadata": {
    "tags": []
   },
   "outputs": [],
   "source": [
    "def process_account():\n",
    "    account_df = read_file('account', ['date'])\n",
    "    \n",
    "    # Calculate account age\n",
    "    account_df['date'] = account_df['date'].apply(lambda date: calc_age(date))\n",
    "    account_df.rename(columns={'date':'age_acc'}, inplace=True)\n",
    "    \n",
    "    le = LabelEncoder()\n",
    "    account_df['frequency'] = le.fit_transform(account_df['frequency'])\n",
    "    \n",
    "    return account_df"
   ]
  },
  {
   "cell_type": "code",
   "execution_count": 5,
   "id": "2b3205f9-a70a-4ed7-9253-551ea8c573b9",
   "metadata": {},
   "outputs": [],
   "source": [
    "def process_card(type_d):\n",
    "    card_df = read_file('card_'+type_d, ['issued'])\n",
    "    \n",
    "    card_df.rename(columns={'type':'type_card'}, inplace=True)\n",
    "    \n",
    "    # issued date in a better format\n",
    "    #card_df['issued'] = card_df['issued'].apply(lambda date: parse_date(date))\n",
    "    \n",
    "    # Remove issued date\n",
    "    card_df.drop(columns='issued', inplace=True)\n",
    "    \n",
    "    return card_df"
   ]
  },
  {
   "cell_type": "code",
   "execution_count": 6,
   "id": "d2127763-0d5d-4f6d-a8d0-045564d1ced7",
   "metadata": {},
   "outputs": [],
   "source": [
    "def process_client():\n",
    "    client_df = read_file('client')\n",
    "    \n",
    "    # Extract client's age and gender from birthnumber\n",
    "    ages = []\n",
    "    genders = []\n",
    "    for bn in client_df['birth_number']:\n",
    "        month = int(str(bn)[2:4])\n",
    "    \n",
    "        # Gender\n",
    "        if month > 12:\n",
    "            genders.append(0) # Female\n",
    "            bn -= 5000\n",
    "        else:\n",
    "            genders.append(1) # Male\n",
    "\n",
    "        # Age\n",
    "        ages.append(calc_age(parse_date(bn)))\n",
    "    \n",
    "    client_df['age_clt'] = ages\n",
    "    client_df['gender_clt'] = genders\n",
    "    client_df.drop(columns='birth_number', inplace=True)\n",
    "    \n",
    "    return client_df"
   ]
  },
  {
   "cell_type": "code",
   "execution_count": 7,
   "id": "a62f3e0d-aa8c-4baa-88a8-82db6c5e5663",
   "metadata": {},
   "outputs": [],
   "source": [
    "def process_disposition():\n",
    "    disp_df = read_file('disp')\n",
    "    \n",
    "    # Only owners can ask for loans\n",
    "    disp_df = disp_df.loc[disp_df.type == 'OWNER']\n",
    "    disp_df = disp_df.drop(labels='type', axis=1)\n",
    "    disp_df.rename(columns={'type':'type_disp'}, inplace=True)\n",
    "    \n",
    "    return disp_df"
   ]
  },
  {
   "cell_type": "code",
   "execution_count": 8,
   "id": "622960ef-53d0-4efa-afff-fd361eecf7ab",
   "metadata": {},
   "outputs": [],
   "source": [
    "def process_district():\n",
    "    district_df = read_file('district')\n",
    "    \n",
    "    district_df.drop(columns='name', inplace=True)\n",
    "    \n",
    "    le = LabelEncoder()\n",
    "    district_df['region'] = le.fit_transform(district_df['region'])\n",
    "    \n",
    "    # Assign '96 values to missing values' cells from '95\n",
    "    district_df[\"unemploymant rate '95\"] = np.where(district_df[\"unemploymant rate '95\"] == '?', district_df[\"unemploymant rate '96\"], district_df[\"unemploymant rate '95\"])\n",
    "    district_df[\"no. of commited crimes '95\"] = np.where(district_df[\"no. of commited crimes '95\"] == '?', district_df[\"no. of commited crimes '96\"], district_df[\"no. of commited crimes '95\"])\n",
    "    district_df[\"unemploymant rate '95\"] = pd.to_numeric(district_df[\"unemploymant rate '95\"])\n",
    "    district_df[\"no. of commited crimes '95\"] = pd.to_numeric(district_df[\"no. of commited crimes '95\"])\n",
    "    \n",
    "    district_df.rename(columns={'code': 'district_id'}, inplace=True)\n",
    "    \n",
    "    return district_df"
   ]
  },
  {
   "cell_type": "code",
   "execution_count": 9,
   "id": "504430d9-0261-4c05-9f32-705e0274bcd7",
   "metadata": {},
   "outputs": [],
   "source": [
    "def process_loan(type_d):\n",
    "    loan_df = read_file('loan_'+type_d, ['date'])\n",
    "    \n",
    "    loan_df.rename(columns={'amount': 'amount_loan'}, inplace=True)\n",
    "    loan_df.rename(columns={'date':'date_loan'}, inplace=True)\n",
    "    #loan_df.drop(columns='date', inplace=True)\n",
    "    \n",
    "    return loan_df"
   ]
  },
  {
   "cell_type": "code",
   "execution_count": 10,
   "id": "38992bac-5c84-4b34-80a7-4f0a9d36bf04",
   "metadata": {},
   "outputs": [],
   "source": [
    "def process_trans(type_d):\n",
    "    trans_df = read_file('trans_'+type_d, ['date'])\n",
    "    \n",
    "    # When the Operation is Null k_symbol has info\n",
    "    trans_df.loc[trans_df['operation'].isna(),'operation'] = trans_df.loc[trans_df['operation'].isna(),'k_symbol']\n",
    "    \n",
    "    # Convert 'withdrawal in cash' to 'withdrawal' in type\n",
    "    trans_df.loc[trans_df['type']=='withdrawal in cash','type'] = 'withdrawal'\n",
    "    \n",
    "    trans_df.rename(columns={'type': 'type_trans', 'amount': 'amount_trans'}, inplace=True)\n",
    "    #trans_df.rename(columns={'date':'date_trans'}, inplace=True)\n",
    "    trans_df.drop(columns=['date', 'k_symbol', 'bank', 'account'], inplace=True) #date\n",
    "    \n",
    "    return trans_df"
   ]
  },
  {
   "cell_type": "markdown",
   "id": "dad57296-d7aa-41fd-955e-e385c415bd7a",
   "metadata": {},
   "source": [
    "#### Merge data"
   ]
  },
  {
   "cell_type": "code",
   "execution_count": 11,
   "id": "1057e88d-ca1b-493b-ae8e-b09b7cc364bf",
   "metadata": {
    "tags": []
   },
   "outputs": [],
   "source": [
    "def process_merge_data(type_d):\n",
    "    account_df = process_account()\n",
    "    card_df = process_card(type_d)\n",
    "    client_df = process_client()\n",
    "    disp_df = process_disposition()\n",
    "    district_df = process_district()\n",
    "    loan_df = process_loan(type_d)\n",
    "    trans_df = process_trans(type_d)\n",
    "    \n",
    "    data = loan_df.merge(disp_df, on='account_id')\n",
    "    data = data.merge(client_df, on='client_id')\n",
    "    data = data.merge(account_df, on='account_id', suffixes=('_clt', '_acc'))\n",
    "    data = data.merge(district_df, left_on='district_id_clt', right_on='district_id')\n",
    "    data = data.merge(trans_df, on='account_id')\n",
    "    #data = data.merge(card_df, on='disp_id')\n",
    "    \n",
    "    data = data.drop(columns={'account_id', 'disp_id', 'district_id_clt', 'district_id_acc', 'district_id', 'client_id', 'trans_id',\n",
    "                              'no. of municipalities with inhabitants < 499',\n",
    "                              'no. of municipalities with inhabitants 500-1999', \n",
    "                              'no. of municipalities with inhabitants 2000-9999',\n",
    "                              'no. of municipalities with inhabitants >10000',\n",
    "                              'no. of cities',\n",
    "                              'ratio of urban inhabitants'\n",
    "                             })\n",
    "    \n",
    "    return data"
   ]
  },
  {
   "cell_type": "markdown",
   "id": "b5ce2322-29e2-4dad-a16c-aca3e0373930",
   "metadata": {},
   "source": [
    "#### Get Train and Test Data"
   ]
  },
  {
   "cell_type": "code",
   "execution_count": 12,
   "id": "4f34e442-94e5-470e-80f3-b57f6fa06a30",
   "metadata": {
    "tags": []
   },
   "outputs": [
    {
     "name": "stdout",
     "output_type": "stream",
     "text": [
      "<Train Data>\n",
      "<class 'pandas.core.frame.DataFrame'>\n",
      "Int64Index: 24494 entries, 0 to 24493\n",
      "Data columns (total 22 columns):\n",
      " #   Column                                     Non-Null Count  Dtype         \n",
      "---  ------                                     --------------  -----         \n",
      " 0   loan_id                                    24494 non-null  int64         \n",
      " 1   date_loan                                  24494 non-null  datetime64[ns]\n",
      " 2   amount_loan                                24494 non-null  int64         \n",
      " 3   duration                                   24494 non-null  int64         \n",
      " 4   payments                                   24494 non-null  int64         \n",
      " 5   status                                     24494 non-null  int64         \n",
      " 6   age_clt                                    24494 non-null  int64         \n",
      " 7   gender_clt                                 24494 non-null  int64         \n",
      " 8   frequency                                  24494 non-null  int32         \n",
      " 9   age_acc                                    24494 non-null  int64         \n",
      " 10  region                                     24494 non-null  int32         \n",
      " 11  no. of inhabitants                         24494 non-null  int64         \n",
      " 12  average salary                             24494 non-null  int64         \n",
      " 13  unemploymant rate '95                      24494 non-null  float64       \n",
      " 14  unemploymant rate '96                      24494 non-null  float64       \n",
      " 15  no. of enterpreneurs per 1000 inhabitants  24494 non-null  int64         \n",
      " 16  no. of commited crimes '95                 24494 non-null  int64         \n",
      " 17  no. of commited crimes '96                 24494 non-null  int64         \n",
      " 18  type_trans                                 24494 non-null  object        \n",
      " 19  operation                                  24494 non-null  object        \n",
      " 20  amount_trans                               24494 non-null  float64       \n",
      " 21  balance                                    24494 non-null  float64       \n",
      "dtypes: datetime64[ns](1), float64(4), int32(2), int64(13), object(2)\n",
      "memory usage: 4.1+ MB\n",
      "None\n",
      "\n",
      "<Test Data>\n",
      "<class 'pandas.core.frame.DataFrame'>\n",
      "Int64Index: 30200 entries, 0 to 30199\n",
      "Data columns (total 22 columns):\n",
      " #   Column                                     Non-Null Count  Dtype         \n",
      "---  ------                                     --------------  -----         \n",
      " 0   loan_id                                    30200 non-null  int64         \n",
      " 1   date_loan                                  30200 non-null  datetime64[ns]\n",
      " 2   amount_loan                                30200 non-null  int64         \n",
      " 3   duration                                   30200 non-null  int64         \n",
      " 4   payments                                   30200 non-null  int64         \n",
      " 5   status                                     0 non-null      float64       \n",
      " 6   age_clt                                    30200 non-null  int64         \n",
      " 7   gender_clt                                 30200 non-null  int64         \n",
      " 8   frequency                                  30200 non-null  int32         \n",
      " 9   age_acc                                    30200 non-null  int64         \n",
      " 10  region                                     30200 non-null  int32         \n",
      " 11  no. of inhabitants                         30200 non-null  int64         \n",
      " 12  average salary                             30200 non-null  int64         \n",
      " 13  unemploymant rate '95                      30200 non-null  float64       \n",
      " 14  unemploymant rate '96                      30200 non-null  float64       \n",
      " 15  no. of enterpreneurs per 1000 inhabitants  30200 non-null  int64         \n",
      " 16  no. of commited crimes '95                 30200 non-null  int64         \n",
      " 17  no. of commited crimes '96                 30200 non-null  int64         \n",
      " 18  type_trans                                 30200 non-null  object        \n",
      " 19  operation                                  30200 non-null  object        \n",
      " 20  amount_trans                               30200 non-null  float64       \n",
      " 21  balance                                    30200 non-null  float64       \n",
      "dtypes: datetime64[ns](1), float64(5), int32(2), int64(12), object(2)\n",
      "memory usage: 5.1+ MB\n",
      "None\n"
     ]
    }
   ],
   "source": [
    "train_data = process_merge_data('train')\n",
    "test_data = process_merge_data('test')\n",
    "\n",
    "print(\"<Train Data>\")\n",
    "print(train_data.info())\n",
    "print(\"\\n<Test Data>\")\n",
    "print(test_data.info())"
   ]
  },
  {
   "cell_type": "markdown",
   "id": "a93ebd70-81d7-491a-aa82-d266a2304824",
   "metadata": {},
   "source": [
    "#### Data aggregation"
   ]
  },
  {
   "cell_type": "code",
   "execution_count": 13,
   "id": "1dbd937c-37c2-4660-b9dc-82bff84cba9f",
   "metadata": {},
   "outputs": [],
   "source": [
    "def abs_min(x):\n",
    "    return x.abs().min()\n",
    "def rangev(x):\n",
    "    return x.max() - x.min()\n",
    "\n",
    "def count_withdrawal(x):\n",
    "    return sum(x=='withdrawal')\n",
    "def count_credit(x):\n",
    "    return sum(x=='credit')\n",
    "\n",
    "def mean_withdrawal(x):\n",
    "    return np.mean(x=='withdrawal')\n",
    "def mean_credit(x):\n",
    "    return np.mean(x=='credit')\n",
    "\n",
    "def cov_withdrawal(x):\n",
    "    return np.cov(x=='withdrawal')\n",
    "def cov_credit(x):\n",
    "    return np.cov(x=='credit')"
   ]
  },
  {
   "cell_type": "code",
   "execution_count": 14,
   "id": "4edf87ce-3bf4-48ae-862d-af7bab3b5ad9",
   "metadata": {},
   "outputs": [],
   "source": [
    "def aggregate_data(df):\n",
    "    # Keep all columns except the ones we are aggregating\n",
    "    keep_columns = train_data.columns.to_list()\n",
    "    keep_columns.remove('type_trans')\n",
    "    keep_columns.remove('operation')\n",
    "    keep_columns.remove('amount_trans')\n",
    "    keep_columns.remove('balance')\n",
    "\n",
    "    df = df.groupby(keep_columns, as_index=False, group_keys=False).agg({\n",
    "        'type_trans': [count_withdrawal, count_credit, mean_withdrawal, mean_credit, cov_withdrawal, cov_credit],\n",
    "        'operation': ['count'],\n",
    "        'amount_trans': ['mean','min','max','std','last', abs_min],\n",
    "        'balance': ['mean','min','max','std','last', abs_min]\n",
    "    })\n",
    "    df.columns = ['%s%s' % (a, '_%s' % b if b else '') for a, b in df.columns]\n",
    "    \n",
    "    return df"
   ]
  },
  {
   "cell_type": "code",
   "execution_count": 15,
   "id": "9013813e-d70f-4ef2-88dc-a82515f73138",
   "metadata": {},
   "outputs": [
    {
     "name": "stdout",
     "output_type": "stream",
     "text": [
      "<Train Data>\n",
      "<class 'pandas.core.frame.DataFrame'>\n",
      "Int64Index: 328 entries, 38 to 327\n",
      "Data columns (total 36 columns):\n",
      " #   Column                                     Non-Null Count  Dtype  \n",
      "---  ------                                     --------------  -----  \n",
      " 0   loan_id                                    328 non-null    int64  \n",
      " 1   amount_loan                                328 non-null    int64  \n",
      " 2   duration                                   328 non-null    int64  \n",
      " 3   payments                                   328 non-null    int64  \n",
      " 4   status                                     328 non-null    int64  \n",
      " 5   age_clt                                    328 non-null    int64  \n",
      " 6   gender_clt                                 328 non-null    int64  \n",
      " 7   frequency                                  328 non-null    int64  \n",
      " 8   age_acc                                    328 non-null    int64  \n",
      " 9   region                                     328 non-null    int64  \n",
      " 10  no. of inhabitants                         328 non-null    int64  \n",
      " 11  average salary                             328 non-null    int64  \n",
      " 12  unemploymant rate '95                      328 non-null    float64\n",
      " 13  unemploymant rate '96                      328 non-null    float64\n",
      " 14  no. of enterpreneurs per 1000 inhabitants  328 non-null    int64  \n",
      " 15  no. of commited crimes '95                 328 non-null    int64  \n",
      " 16  no. of commited crimes '96                 328 non-null    int64  \n",
      " 17  type_trans_count_withdrawal                328 non-null    int64  \n",
      " 18  type_trans_count_credit                    328 non-null    int64  \n",
      " 19  type_trans_mean_withdrawal                 328 non-null    float64\n",
      " 20  type_trans_mean_credit                     328 non-null    float64\n",
      " 21  type_trans_cov_withdrawal                  328 non-null    float64\n",
      " 22  type_trans_cov_credit                      328 non-null    float64\n",
      " 23  operation_count                            328 non-null    int64  \n",
      " 24  amount_trans_mean                          328 non-null    float64\n",
      " 25  amount_trans_min                           328 non-null    float64\n",
      " 26  amount_trans_max                           328 non-null    float64\n",
      " 27  amount_trans_std                           328 non-null    float64\n",
      " 28  amount_trans_last                          328 non-null    float64\n",
      " 29  amount_trans_abs_min                       328 non-null    float64\n",
      " 30  balance_mean                               328 non-null    float64\n",
      " 31  balance_min                                328 non-null    float64\n",
      " 32  balance_max                                328 non-null    float64\n",
      " 33  balance_std                                328 non-null    float64\n",
      " 34  balance_last                               328 non-null    float64\n",
      " 35  balance_abs_min                            328 non-null    float64\n",
      "dtypes: float64(18), int64(18)\n",
      "memory usage: 94.8 KB\n",
      "None\n",
      "\n",
      "<Test Data>\n",
      "<class 'pandas.core.frame.DataFrame'>\n",
      "Int64Index: 354 entries, 0 to 353\n",
      "Data columns (total 37 columns):\n",
      " #   Column                                     Non-Null Count  Dtype         \n",
      "---  ------                                     --------------  -----         \n",
      " 0   loan_id                                    354 non-null    int64         \n",
      " 1   date_loan                                  354 non-null    datetime64[ns]\n",
      " 2   amount_loan                                354 non-null    int64         \n",
      " 3   duration                                   354 non-null    int64         \n",
      " 4   payments                                   354 non-null    int64         \n",
      " 5   status                                     354 non-null    object        \n",
      " 6   age_clt                                    354 non-null    int64         \n",
      " 7   gender_clt                                 354 non-null    int64         \n",
      " 8   frequency                                  354 non-null    int64         \n",
      " 9   age_acc                                    354 non-null    int64         \n",
      " 10  region                                     354 non-null    int64         \n",
      " 11  no. of inhabitants                         354 non-null    int64         \n",
      " 12  average salary                             354 non-null    int64         \n",
      " 13  unemploymant rate '95                      354 non-null    float64       \n",
      " 14  unemploymant rate '96                      354 non-null    float64       \n",
      " 15  no. of enterpreneurs per 1000 inhabitants  354 non-null    int64         \n",
      " 16  no. of commited crimes '95                 354 non-null    int64         \n",
      " 17  no. of commited crimes '96                 354 non-null    int64         \n",
      " 18  type_trans_count_withdrawal                354 non-null    int64         \n",
      " 19  type_trans_count_credit                    354 non-null    int64         \n",
      " 20  type_trans_mean_withdrawal                 354 non-null    float64       \n",
      " 21  type_trans_mean_credit                     354 non-null    float64       \n",
      " 22  type_trans_cov_withdrawal                  354 non-null    float64       \n",
      " 23  type_trans_cov_credit                      354 non-null    float64       \n",
      " 24  operation_count                            354 non-null    int64         \n",
      " 25  amount_trans_mean                          354 non-null    float64       \n",
      " 26  amount_trans_min                           354 non-null    float64       \n",
      " 27  amount_trans_max                           354 non-null    float64       \n",
      " 28  amount_trans_std                           354 non-null    float64       \n",
      " 29  amount_trans_last                          354 non-null    float64       \n",
      " 30  amount_trans_abs_min                       354 non-null    float64       \n",
      " 31  balance_mean                               354 non-null    float64       \n",
      " 32  balance_min                                354 non-null    float64       \n",
      " 33  balance_max                                354 non-null    float64       \n",
      " 34  balance_std                                354 non-null    float64       \n",
      " 35  balance_last                               354 non-null    float64       \n",
      " 36  balance_abs_min                            354 non-null    float64       \n",
      "dtypes: datetime64[ns](1), float64(18), int64(17), object(1)\n",
      "memory usage: 105.1+ KB\n",
      "None\n"
     ]
    }
   ],
   "source": [
    "train_data_agg = aggregate_data(train_data)\n",
    "\n",
    "# we should sort by loan data to have a realistic train/test split while training\n",
    "train_data_agg.sort_values(by=['date_loan'], inplace=True)\n",
    "train_data_agg.drop(columns='date_loan', inplace=True)\n",
    "\n",
    "# XGBoost need labels from 0...[num_class -1], also makes status a 'boolean', to loan or not\n",
    "train_data_agg.loc[train_data_agg['status'] == -1, 'status'] = 0\n",
    "\n",
    "test_data.status = test_data.status.fillna('')\n",
    "test_data_agg = aggregate_data(test_data)\n",
    "\n",
    "print(\"<Train Data>\")\n",
    "print(train_data_agg.info())\n",
    "print(\"\\n<Test Data>\")\n",
    "print(test_data_agg.info())"
   ]
  },
  {
   "cell_type": "markdown",
   "id": "1fe6f2aa-8a47-4ceb-9618-ed81f77250ea",
   "metadata": {},
   "source": [
    "**ToDo** : Pôr os ficheiros de baixo dentro de uma pasta `model_data`"
   ]
  },
  {
   "cell_type": "code",
   "execution_count": 16,
   "id": "785d3f88-db12-417c-9b2e-622682f040e9",
   "metadata": {},
   "outputs": [],
   "source": [
    "train_data_agg.to_pickle('train_data.pkl')\n",
    "test_data_agg.to_pickle('test_data.pkl')"
   ]
  }
 ],
 "metadata": {
  "kernelspec": {
   "display_name": "Python 3",
   "language": "python",
   "name": "python3"
  },
  "language_info": {
   "codemirror_mode": {
    "name": "ipython",
    "version": 3
   },
   "file_extension": ".py",
   "mimetype": "text/x-python",
   "name": "python",
   "nbconvert_exporter": "python",
   "pygments_lexer": "ipython3",
   "version": "3.8.8"
  }
 },
 "nbformat": 4,
 "nbformat_minor": 5
}
