{
 "cells": [
  {
   "cell_type": "markdown",
   "id": "d385e443-1054-4c76-9e97-28f0350b4b94",
   "metadata": {},
   "source": [
    "# Parameter Tuning\n",
    "\n",
    "Exhaustive search over specified parameter values for an estimator, tuning the models."
   ]
  },
  {
   "cell_type": "code",
   "execution_count": 56,
   "id": "b22a74f8-0528-4d01-af74-ee77dbbe333f",
   "metadata": {},
   "outputs": [],
   "source": [
    "import pandas as pd\n",
    "\n",
    "from sklearn.model_selection import train_test_split\n",
    "from imblearn.over_sampling import SMOTE\n",
    "from sklearn.preprocessing import StandardScaler\n",
    "\n",
    "from sklearn.model_selection import GridSearchCV\n",
    "\n",
    "from sklearn.tree import DecisionTreeClassifier\n",
    "from sklearn.ensemble import RandomForestClassifier\n",
    "from sklearn.neighbors import KNeighborsClassifier\n",
    "from sklearn.svm import SVC\n",
    "from sklearn.gaussian_process import GaussianProcessClassifier\n",
    "from sklearn.ensemble import AdaBoostClassifier\n",
    "from sklearn.ensemble import GradientBoostingClassifier\n",
    "from xgboost import XGBClassifier\n",
    "\n",
    "from sklearn import metrics"
   ]
  },
  {
   "cell_type": "markdown",
   "id": "d808e6f3-c16a-4e7f-a551-301f8f963dbe",
   "metadata": {},
   "source": [
    "Getting data"
   ]
  },
  {
   "cell_type": "code",
   "execution_count": 57,
   "id": "0befccd4-978e-4724-8dc1-b0e9b2d0ca19",
   "metadata": {},
   "outputs": [],
   "source": [
    "# Train Test Split\n",
    "train_data = pd.read_pickle(\"train_data.pkl\")\n",
    "test_data = pd.read_pickle(\"test_data.pkl\")\n",
    "\n",
    "features = list(train_data.columns)\n",
    "features.remove('status')\n",
    "features.remove('loan_id')\n",
    "\n",
    "x = train_data[features]\n",
    "y = train_data['status']\n",
    "\n",
    "x_train, x_test, y_train, y_test = train_test_split(x, y, test_size=0.3, random_state=0)\n",
    "\n",
    "# Resampling - Smote\n",
    "smote = SMOTE()\n",
    "x_train, y_train = smote.fit_resample(x_train, y_train)\n",
    "\n",
    "# Normalizing data\n",
    "scaler = StandardScaler()\n",
    "\n",
    "scaler.fit(x_train)\n",
    "x_train = scaler.fit_transform(x_train)\n",
    "x_test = scaler.fit_transform(x_test)"
   ]
  },
  {
   "cell_type": "markdown",
   "id": "bb43e278-29e0-496d-93ee-7f3a1f6f90be",
   "metadata": {},
   "source": [
    "Applying grid search"
   ]
  },
  {
   "cell_type": "code",
   "execution_count": 58,
   "id": "24e3515f-0b95-4150-85c9-ecbdc9ecb96a",
   "metadata": {},
   "outputs": [],
   "source": [
    "def grid_search(model, parameter_grid):\n",
    "    grid_search = GridSearchCV(model,\n",
    "                               param_grid=parameter_grid,\n",
    "                               scoring='roc_auc',\n",
    "                               cv=5,\n",
    "                               verbose=4,\n",
    "                               n_jobs=-1)\n",
    "\n",
    "    grid_search.fit(x_train, y_train)\n",
    "\n",
    "    print(f\"\\nBest score: {grid_search.best_score_}\")\n",
    "    print(f\"Best parameters: {grid_search.best_params_}\")\n",
    "    print(f\"Best estimator: {grid_search.best_estimator_}\")\n",
    "    \n",
    "    best_model = model = grid_search.best_estimator_\n",
    "    best_model_pred = best_model.predict(x_test)\n",
    "    best_model_pred_proba = best_model.predict_proba(x_test)[:, -1]\n",
    "\n",
    "    # Metrics\n",
    "    print(\"\\nAUC Score: \", metrics.roc_auc_score(y_test, best_model_pred_proba))\n",
    "    print(f\"Confusion matrix:\\n{metrics.confusion_matrix(y_test, best_model_pred)}\\n\")\n",
    "    print(f\"Classification report:\\n{metrics.classification_report(y_test, best_model_pred)}\\n\")"
   ]
  },
  {
   "cell_type": "markdown",
   "id": "a23ed17f-770c-4036-a0db-cc3b51331118",
   "metadata": {
    "tags": []
   },
   "source": [
    "## Decision Tree Classifier"
   ]
  },
  {
   "cell_type": "code",
   "execution_count": 29,
   "id": "d5ae38d3-14ed-4024-bc37-b529b19eb989",
   "metadata": {},
   "outputs": [
    {
     "name": "stdout",
     "output_type": "stream",
     "text": [
      "Fitting 5 folds for each of 72 candidates, totalling 360 fits\n",
      "\n",
      "Best score: 0.9102892833662064\n",
      "Best parameters: {'criterion': 'gini', 'max_features': None, 'min_samples_leaf': 4, 'min_samples_split': 10, 'splitter': 'best'}\n",
      "Best estimator: DecisionTreeClassifier(min_samples_leaf=4, min_samples_split=10, random_state=0)\n",
      "\n",
      "AUC Score:  0.6567226890756304\n",
      "Confusion matrix:\n",
      "[[11  3]\n",
      " [41 44]]\n",
      "\n",
      "Classification report:\n",
      "              precision    recall  f1-score   support\n",
      "\n",
      "          -1       0.21      0.79      0.33        14\n",
      "           1       0.94      0.52      0.67        85\n",
      "\n",
      "    accuracy                           0.56        99\n",
      "   macro avg       0.57      0.65      0.50        99\n",
      "weighted avg       0.83      0.56      0.62        99\n",
      "\n",
      "\n"
     ]
    }
   ],
   "source": [
    "model = DecisionTreeClassifier(random_state=0)\n",
    "\n",
    "parameter_grid = {'criterion': ['gini', 'entropy'],\n",
    "                  'splitter': ['best', 'random'],\n",
    "                  'min_samples_split': [2, 5, 10],\n",
    "                  'min_samples_leaf': [1, 2, 4],\n",
    "                  'max_features': ['auto', None]}\n",
    "\n",
    "grid_search(model, parameter_grid)"
   ]
  },
  {
   "cell_type": "markdown",
   "id": "280fd101-1eb2-4668-a0c5-e27a0a9baf01",
   "metadata": {},
   "source": [
    "## Random Forest"
   ]
  },
  {
   "cell_type": "code",
   "execution_count": 30,
   "id": "dbd440dc-b90e-4bb9-8923-b579a531bdfe",
   "metadata": {},
   "outputs": [
    {
     "name": "stdout",
     "output_type": "stream",
     "text": [
      "Fitting 5 folds for each of 144 candidates, totalling 720 fits\n",
      "\n",
      "Best score: 0.994595660749507\n",
      "Best parameters: {'criterion': 'gini', 'max_features': 'auto', 'min_samples_leaf': 1, 'min_samples_split': 2, 'n_estimators': 1500}\n",
      "Best estimator: RandomForestClassifier(n_estimators=1500, random_state=0)\n",
      "\n",
      "AUC Score:  0.7495798319327731\n",
      "Confusion matrix:\n",
      "[[ 9  5]\n",
      " [31 54]]\n",
      "\n",
      "Classification report:\n",
      "              precision    recall  f1-score   support\n",
      "\n",
      "          -1       0.23      0.64      0.33        14\n",
      "           1       0.92      0.64      0.75        85\n",
      "\n",
      "    accuracy                           0.64        99\n",
      "   macro avg       0.57      0.64      0.54        99\n",
      "weighted avg       0.82      0.64      0.69        99\n",
      "\n",
      "\n"
     ]
    }
   ],
   "source": [
    "model = RandomForestClassifier(random_state=0)\n",
    "\n",
    "parameter_grid = {'n_estimators': [1000, 1500, 1800, 2000],\n",
    "                  'criterion': ['gini', 'entropy'],\n",
    "                  'min_samples_split': [2, 5, 10],\n",
    "                  'min_samples_leaf': [1, 2, 4],\n",
    "                  'max_features': ['auto', None]}\n",
    "\n",
    "grid_search(model, parameter_grid)"
   ]
  },
  {
   "cell_type": "markdown",
   "id": "6550df1a-a43e-45c5-aa6f-55ec7999ce75",
   "metadata": {},
   "source": [
    "## KNN"
   ]
  },
  {
   "cell_type": "code",
   "execution_count": 31,
   "id": "cd5d1429-156d-4fc8-9784-c0740c4b59f0",
   "metadata": {},
   "outputs": [
    {
     "name": "stdout",
     "output_type": "stream",
     "text": [
      "Fitting 5 folds for each of 18 candidates, totalling 90 fits\n",
      "\n",
      "Best score: 0.9559960552268244\n",
      "Best parameters: {'algorithm': 'ball_tree', 'n_neighbors': 10, 'weights': 'distance'}\n",
      "Best estimator: KNeighborsClassifier(algorithm='ball_tree', n_neighbors=10, weights='distance')\n",
      "\n",
      "AUC Score:  0.8151260504201682\n",
      "Confusion matrix:\n",
      "[[14  0]\n",
      " [44 41]]\n",
      "\n",
      "Classification report:\n",
      "              precision    recall  f1-score   support\n",
      "\n",
      "          -1       0.24      1.00      0.39        14\n",
      "           1       1.00      0.48      0.65        85\n",
      "\n",
      "    accuracy                           0.56        99\n",
      "   macro avg       0.62      0.74      0.52        99\n",
      "weighted avg       0.89      0.56      0.61        99\n",
      "\n",
      "\n"
     ]
    }
   ],
   "source": [
    "model = KNeighborsClassifier()\n",
    "\n",
    "parameter_grid = {'n_neighbors': [5, 10, 15],\n",
    "                  'weights': ['uniform', 'distance'],\n",
    "                  'algorithm': ['ball_tree', 'kd_tree', 'brute']}\n",
    "\n",
    "grid_search(model, parameter_grid)"
   ]
  },
  {
   "cell_type": "markdown",
   "id": "f35201d2-51af-4e89-a0b3-1b16820cb937",
   "metadata": {},
   "source": [
    "## SVM"
   ]
  },
  {
   "cell_type": "code",
   "execution_count": 36,
   "id": "1e8f1f62-6604-4dd8-ad89-6c73dc001ca2",
   "metadata": {},
   "outputs": [
    {
     "name": "stdout",
     "output_type": "stream",
     "text": [
      "Fitting 5 folds for each of 32 candidates, totalling 160 fits\n",
      "\n",
      "Best score: 0.9976397107166338\n",
      "Best parameters: {'C': 10, 'gamma': 'auto', 'kernel': 'rbf'}\n",
      "Best estimator: SVC(C=10, gamma='auto', probability=True, random_state=0)\n",
      "\n",
      "AUC Score:  0.8243697478991597\n",
      "Confusion matrix:\n",
      "[[10  4]\n",
      " [13 72]]\n",
      "\n",
      "Classification report:\n",
      "              precision    recall  f1-score   support\n",
      "\n",
      "          -1       0.43      0.71      0.54        14\n",
      "           1       0.95      0.85      0.89        85\n",
      "\n",
      "    accuracy                           0.83        99\n",
      "   macro avg       0.69      0.78      0.72        99\n",
      "weighted avg       0.87      0.83      0.84        99\n",
      "\n",
      "\n"
     ]
    }
   ],
   "source": [
    "model = SVC(random_state=0, probability=True)\n",
    "\n",
    "parameter_grid = {'C': [0.1, 1, 10, 100],\n",
    "              'kernel': ['linear', 'poly', 'rbf', 'sigmoid'],\n",
    "              'gamma': ['scale', 'auto']}\n",
    "\n",
    "grid_search(model, parameter_grid)"
   ]
  },
  {
   "cell_type": "markdown",
   "id": "df9a3a04-3449-473d-9d6c-b802bbb1c0de",
   "metadata": {},
   "source": [
    "## AdaBoost\n"
   ]
  },
  {
   "cell_type": "code",
   "execution_count": 43,
   "id": "f0ccbcf0-e49f-409d-967e-ec7683553941",
   "metadata": {
    "tags": []
   },
   "outputs": [
    {
     "name": "stdout",
     "output_type": "stream",
     "text": [
      "Fitting 5 folds for each of 9 candidates, totalling 45 fits\n",
      "\n",
      "Best score: 0.972922419460881\n",
      "Best parameters: {'learning_rate': 1.0, 'n_estimators': 100}\n",
      "Best estimator: AdaBoostClassifier(n_estimators=100, random_state=0)\n",
      "\n",
      "AUC Score:  0.6789915966386555\n",
      "Confusion matrix:\n",
      "[[10  4]\n",
      " [41 44]]\n",
      "\n",
      "Classification report:\n",
      "              precision    recall  f1-score   support\n",
      "\n",
      "          -1       0.20      0.71      0.31        14\n",
      "           1       0.92      0.52      0.66        85\n",
      "\n",
      "    accuracy                           0.55        99\n",
      "   macro avg       0.56      0.62      0.48        99\n",
      "weighted avg       0.81      0.55      0.61        99\n",
      "\n",
      "\n"
     ]
    }
   ],
   "source": [
    "model = AdaBoostClassifier(random_state=0)\n",
    "\n",
    "parameter_grid = {'n_estimators': [50, 100, 150],\n",
    "                  'learning_rate': [0.3, 0.5, 1.0]}\n",
    "\n",
    "grid_search(model, parameter_grid)"
   ]
  },
  {
   "cell_type": "markdown",
   "id": "68ff7630-42d1-4d0b-a012-91dfba3e9eee",
   "metadata": {},
   "source": [
    "## GradientBoost"
   ]
  },
  {
   "cell_type": "code",
   "execution_count": 65,
   "id": "8d976512-6e2c-4b1f-bfcb-a25308f3c37e",
   "metadata": {},
   "outputs": [
    {
     "name": "stdout",
     "output_type": "stream",
     "text": [
      "Fitting 5 folds for each of 432 candidates, totalling 2160 fits\n"
     ]
    },
    {
     "name": "stderr",
     "output_type": "stream",
     "text": [
      "C:\\Users\\fmna\\anaconda3\\lib\\site-packages\\sklearn\\model_selection\\_search.py:918: UserWarning: One or more of the test scores are non-finite: [0.98073964 0.98627876 0.98486851 0.98152202 0.98498028 0.98473702\n",
      " 0.97842867 0.98267916 0.9819165  0.98216305 0.98499671 0.98615056\n",
      " 0.98382972 0.98447732 0.98627548 0.97909599 0.98371466 0.98294214\n",
      " 0.97832018 0.98294214 0.98435569 0.97832018 0.98294214 0.98435569\n",
      " 0.97651874 0.98345825 0.98615056 0.98073964 0.98627876 0.98486851\n",
      " 0.98152202 0.98498028 0.98473702 0.97842867 0.98267916 0.9819165\n",
      " 0.98216305 0.98499671 0.98615056 0.98382972 0.98447732 0.98627548\n",
      " 0.97909599 0.98371466 0.98294214 0.97832018 0.98294214 0.98435569\n",
      " 0.97832018 0.98294214 0.98435569 0.97651874 0.98345825 0.98615056\n",
      " 0.98037475 0.98306706 0.98627876 0.97562459 0.98140039 0.98089415\n",
      " 0.97729783 0.98320184 0.98294543 0.98371466 0.98756082 0.98653517\n",
      " 0.98177515 0.98499343 0.98563445 0.98165352 0.98422419 0.98550953\n",
      " 0.98550296 0.98845496 0.98820513 0.98550296 0.98845496 0.98820513\n",
      " 0.98306049 0.98729454 0.988833   0.98037475 0.98306706 0.98627876\n",
      " 0.97562459 0.98140039 0.98089415 0.97729783 0.98320184 0.98294543\n",
      " 0.98371466 0.98756082 0.98653517 0.98177515 0.98499343 0.98563445\n",
      " 0.98165352 0.98422419 0.98550953 0.98550296 0.98845496 0.98820513\n",
      " 0.98550296 0.98845496 0.98820513 0.98306049 0.98729454 0.988833\n",
      " 0.98049967 0.98357659 0.98396121 0.98215648 0.98255095 0.98358646\n",
      " 0.97999671 0.98229783 0.9817883  0.98435897 0.98615056 0.98679158\n",
      " 0.98370809 0.98589415 0.98679158 0.98307692 0.98525641 0.98602235\n",
      " 0.98382643 0.98511506 0.98499014 0.98382643 0.98511506 0.98499014\n",
      " 0.98522354 0.98742275 0.98895792 0.98049967 0.98357659 0.98396121\n",
      " 0.98215648 0.98255095 0.98358646 0.97999671 0.98229783 0.9817883\n",
      " 0.98435897 0.98615056 0.98679158 0.98370809 0.98589415 0.98679158\n",
      " 0.98307692 0.98525641 0.98602235 0.98382643 0.98511506 0.98499014\n",
      " 0.98382643 0.98511506 0.98499014 0.98522354 0.98742275 0.98895792\n",
      " 0.97550953 0.98141026 0.98307364 0.97179158 0.97857988 0.98282051\n",
      " 0.97421762 0.98140697 0.98346154 0.97396121 0.98268245 0.98409928\n",
      " 0.97011834 0.97846154 0.98333333 0.98025312 0.98281723 0.9846121\n",
      " 0.98074293 0.98524655 0.98691321 0.98074293 0.98524655 0.98691321\n",
      " 0.98473373 0.98679487 0.98666667 0.97550953 0.98141026 0.98307364\n",
      " 0.97179158 0.97857988 0.98282051 0.97421762 0.98140697 0.98346154\n",
      " 0.97396121 0.98268245 0.98409928 0.97011834 0.97846154 0.98333333\n",
      " 0.98025312 0.98281723 0.9846121  0.98074293 0.98524655 0.98691321\n",
      " 0.98074293 0.98524655 0.98691321 0.98473373 0.98679487 0.98666667\n",
      "        nan        nan        nan        nan        nan        nan\n",
      "        nan        nan        nan        nan        nan        nan\n",
      "        nan        nan        nan        nan        nan        nan\n",
      "        nan        nan        nan        nan        nan        nan\n",
      "        nan        nan        nan        nan        nan        nan\n",
      "        nan        nan        nan        nan        nan        nan\n",
      "        nan        nan        nan        nan        nan        nan\n",
      "        nan        nan        nan        nan        nan        nan\n",
      "        nan        nan        nan        nan        nan        nan\n",
      "        nan        nan        nan        nan        nan        nan\n",
      "        nan        nan        nan        nan        nan        nan\n",
      "        nan        nan        nan        nan        nan        nan\n",
      "        nan        nan        nan        nan        nan        nan\n",
      "        nan        nan        nan        nan        nan        nan\n",
      "        nan        nan        nan        nan        nan        nan\n",
      "        nan        nan        nan        nan        nan        nan\n",
      "        nan        nan        nan        nan        nan        nan\n",
      "        nan        nan        nan        nan        nan        nan\n",
      "        nan        nan        nan        nan        nan        nan\n",
      "        nan        nan        nan        nan        nan        nan\n",
      "        nan        nan        nan        nan        nan        nan\n",
      "        nan        nan        nan        nan        nan        nan\n",
      "        nan        nan        nan        nan        nan        nan\n",
      "        nan        nan        nan        nan        nan        nan\n",
      "        nan        nan        nan        nan        nan        nan\n",
      "        nan        nan        nan        nan        nan        nan\n",
      "        nan        nan        nan        nan        nan        nan\n",
      "        nan        nan        nan        nan        nan        nan\n",
      "        nan        nan        nan        nan        nan        nan\n",
      "        nan        nan        nan        nan        nan        nan\n",
      "        nan        nan        nan        nan        nan        nan\n",
      "        nan        nan        nan        nan        nan        nan\n",
      "        nan        nan        nan        nan        nan        nan\n",
      "        nan        nan        nan        nan        nan        nan\n",
      "        nan        nan        nan        nan        nan        nan\n",
      "        nan        nan        nan        nan        nan        nan]\n",
      "  warnings.warn(\n"
     ]
    },
    {
     "name": "stdout",
     "output_type": "stream",
     "text": [
      "\n",
      "Best score: 0.9889579224194609\n",
      "Best parameters: {'criterion': 'friedman_mse', 'learning_rate': 0.5, 'max_features': 'auto', 'min_samples_leaf': 4, 'min_samples_split': 10, 'n_estimators': 150}\n",
      "Best estimator: GradientBoostingClassifier(learning_rate=0.5, max_features='auto',\n",
      "                           min_samples_leaf=4, min_samples_split=10,\n",
      "                           n_estimators=150, random_state=0)\n",
      "\n",
      "AUC Score:  0.7478991596638656\n",
      "Confusion matrix:\n",
      "[[12  2]\n",
      " [41 44]]\n",
      "\n",
      "Classification report:\n",
      "              precision    recall  f1-score   support\n",
      "\n",
      "          -1       0.23      0.86      0.36        14\n",
      "           1       0.96      0.52      0.67        85\n",
      "\n",
      "    accuracy                           0.57        99\n",
      "   macro avg       0.59      0.69      0.51        99\n",
      "weighted avg       0.85      0.57      0.63        99\n",
      "\n",
      "\n"
     ]
    }
   ],
   "source": [
    "model = GradientBoostingClassifier(random_state=0)\n",
    "\n",
    "parameter_grid = {'n_estimators': [50, 100, 150],\n",
    "                  'learning_rate': [0.2, 0.3, 0.5, 1.0],\n",
    "                  'criterion': ['friedman_mse', 'squared_error'],\n",
    "                  'min_samples_split': [2, 5, 10],\n",
    "                  'min_samples_leaf': [1, 2, 4],\n",
    "                  'max_features': ['auto', None]}\n",
    "\n",
    "grid_search(model, parameter_grid)"
   ]
  },
  {
   "cell_type": "markdown",
   "id": "0172aa14-3812-4471-a95c-5d7f830b2b2b",
   "metadata": {},
   "source": [
    "## XGBoost"
   ]
  },
  {
   "cell_type": "code",
   "execution_count": 66,
   "id": "f6919ebb-6696-404d-bcc3-5c9ce409e12e",
   "metadata": {},
   "outputs": [
    {
     "name": "stdout",
     "output_type": "stream",
     "text": [
      "Fitting 5 folds for each of 1 candidates, totalling 5 fits\n",
      "\n",
      "Best score: 0.9844806048652203\n",
      "Best parameters: {}\n",
      "Best estimator: XGBClassifier(base_score=0.5, booster='gbtree', colsample_bylevel=1,\n",
      "              colsample_bynode=1, colsample_bytree=1, eval_metric='auc',\n",
      "              gamma=0, gpu_id=-1, importance_type='gain',\n",
      "              interaction_constraints='', learning_rate=0.300000012,\n",
      "              max_delta_step=0, max_depth=6, min_child_weight=1, missing=nan,\n",
      "              monotone_constraints='()', n_estimators=100, n_jobs=12,\n",
      "              num_parallel_tree=1, random_state=0, reg_alpha=0, reg_lambda=1,\n",
      "              scale_pos_weight=1, subsample=1, tree_method='exact',\n",
      "              validate_parameters=1, verbosity=None)\n",
      "\n",
      "AUC Score:  0.8151260504201681\n",
      "Confusion matrix:\n",
      "[[13  1]\n",
      " [45 40]]\n",
      "\n",
      "Classification report:\n",
      "              precision    recall  f1-score   support\n",
      "\n",
      "          -1       0.22      0.93      0.36        14\n",
      "           1       0.98      0.47      0.63        85\n",
      "\n",
      "    accuracy                           0.54        99\n",
      "   macro avg       0.60      0.70      0.50        99\n",
      "weighted avg       0.87      0.54      0.60        99\n",
      "\n",
      "\n"
     ]
    },
    {
     "name": "stderr",
     "output_type": "stream",
     "text": [
      "C:\\Users\\fmna\\anaconda3\\lib\\site-packages\\xgboost\\sklearn.py:888: UserWarning: The use of label encoder in XGBClassifier is deprecated and will be removed in a future release. To remove this warning, do the following: 1) Pass option use_label_encoder=False when constructing XGBClassifier object; and 2) Encode your labels (y) as integers starting with 0, i.e. 0, 1, 2, ..., [num_class - 1].\n",
      "  warnings.warn(label_encoder_deprecation_msg, UserWarning)\n"
     ]
    }
   ],
   "source": [
    "model = XGBClassifier(objective='binary:logistic', use_label_encoder=True, eval_metric='auc')\n",
    "\n",
    "parameter_grid = {}\n",
    "\n",
    "grid_search(model, parameter_grid)"
   ]
  }
 ],
 "metadata": {
  "kernelspec": {
   "display_name": "Python 3",
   "language": "python",
   "name": "python3"
  },
  "language_info": {
   "codemirror_mode": {
    "name": "ipython",
    "version": 3
   },
   "file_extension": ".py",
   "mimetype": "text/x-python",
   "name": "python",
   "nbconvert_exporter": "python",
   "pygments_lexer": "ipython3",
   "version": "3.8.8"
  }
 },
 "nbformat": 4,
 "nbformat_minor": 5
}
