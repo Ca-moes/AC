{
 "cells": [
  {
   "cell_type": "code",
   "execution_count": 1,
   "id": "b22a74f8-0528-4d01-af74-ee77dbbe333f",
   "metadata": {},
   "outputs": [],
   "source": [
    "import pandas as pd\n",
    "from datetime import date\n",
    "\n",
    "import sklearn.metrics as metrics\n",
    "import matplotlib.pyplot as plt\n",
    "\n",
    "from sklearn.model_selection import train_test_split\n",
    "from sklearn.preprocessing import StandardScaler\n",
    "\n",
    "from imblearn.over_sampling import SMOTE, SMOTENC\n",
    "from imblearn.pipeline import Pipeline\n",
    "\n",
    "from sklearn.model_selection import StratifiedKFold\n",
    "from sklearn.model_selection import GridSearchCV\n",
    "\n",
    "from sklearn.tree import DecisionTreeClassifier\n",
    "from sklearn.ensemble import RandomForestClassifier\n",
    "from sklearn.neighbors import KNeighborsClassifier\n",
    "from sklearn.svm import SVC\n",
    "from sklearn.ensemble import AdaBoostClassifier\n",
    "from sklearn.ensemble import GradientBoostingClassifier\n",
    "from xgboost import XGBClassifier\n",
    "\n",
    "pd.set_option('display.max_columns', 100)\n",
    "pd.set_option('display.width', 1000)"
   ]
  },
  {
   "cell_type": "markdown",
   "id": "d385e443-1054-4c76-9e97-28f0350b4b94",
   "metadata": {},
   "source": [
    "# Parameter Tuning\n",
    "\n",
    "Exhaustive search over specified parameter values for an estimator, tuning the models."
   ]
  },
  {
   "cell_type": "markdown",
   "id": "d808e6f3-c16a-4e7f-a551-301f8f963dbe",
   "metadata": {},
   "source": [
    "## Getting data"
   ]
  },
  {
   "cell_type": "code",
   "execution_count": 2,
   "id": "cae3f102",
   "metadata": {},
   "outputs": [],
   "source": [
    "train_data = pd.read_pickle(\"train_data.pkl\")\n",
    "test_data = pd.read_pickle(\"test_data.pkl\")\n",
    "\n",
    "features = list(train_data.columns)\n",
    "features.remove('status')\n",
    "features.remove('loan_id')\n",
    "\n",
    "label = 'status'\n",
    "\n",
    "x = train_data[features]\n",
    "y = train_data[label]"
   ]
  },
  {
   "cell_type": "markdown",
   "id": "663b67c2",
   "metadata": {},
   "source": [
    "## Train Test Split"
   ]
  },
  {
   "cell_type": "code",
   "execution_count": 3,
   "id": "97f84c34",
   "metadata": {},
   "outputs": [],
   "source": [
    "x_train, x_test, y_train, y_test = train_test_split(x, y, test_size=0.2, random_state=0)"
   ]
  },
  {
   "cell_type": "markdown",
   "id": "6858f836",
   "metadata": {},
   "source": [
    "## Normalization\n",
    "\n",
    "Some of the algorithms we plan on using (KNN and SVM) require the data to be standardized. To do so, we used a StandardScaler from SciKit Learn's preprocessing library."
   ]
  },
  {
   "cell_type": "code",
   "execution_count": 4,
   "id": "0befccd4-978e-4724-8dc1-b0e9b2d0ca19",
   "metadata": {},
   "outputs": [],
   "source": [
    "scaler = StandardScaler()\n",
    "\n",
    "scaler.fit(x_train)\n",
    "x_train = scaler.fit_transform(x_train)\n",
    "x_test = scaler.fit_transform(x_test)"
   ]
  },
  {
   "cell_type": "markdown",
   "id": "0a693f55",
   "metadata": {},
   "source": [
    "## Resampling\n",
    "Our data analysis stage showed that our working dataset was heavily umbalanced.\n",
    "\n",
    "Early exploratory analysis of classification methods proved that this was having a negative effect on the accuracy of the classifier, especially for the minority classes. To solve this problem we implemented resampling techniques that would generate a more balanced training set.\n",
    "\n",
    "For oversampling we used the SMOTE (Synthetic Minority Over-sampling Technique) algorithm. This generates new samples interpolated from the existing ones."
   ]
  },
  {
   "cell_type": "code",
   "execution_count": 5,
   "id": "68715226",
   "metadata": {},
   "outputs": [],
   "source": [
    "def apply_sampling(model):\n",
    "    smote = SMOTE(random_state=0)\n",
    "\n",
    "    pipeline = Pipeline([('smote', smote), ('clf', model)])\n",
    "\n",
    "    return pipeline"
   ]
  },
  {
   "cell_type": "markdown",
   "id": "bb43e278-29e0-496d-93ee-7f3a1f6f90be",
   "metadata": {},
   "source": [
    "Applying grid search"
   ]
  },
  {
   "cell_type": "code",
   "execution_count": 6,
   "id": "24e3515f-0b95-4150-85c9-ecbdc9ecb96a",
   "metadata": {},
   "outputs": [],
   "source": [
    "def grid_search(model, parameter_grid):\n",
    "    cross_validation = StratifiedKFold(n_splits=5)\n",
    "\n",
    "    clf = apply_sampling(model)\n",
    "\n",
    "    grid_search = GridSearchCV(clf,\n",
    "                               param_grid=parameter_grid,\n",
    "                               scoring='roc_auc',\n",
    "                               cv=cross_validation,\n",
    "                               verbose=4,\n",
    "                               n_jobs=-1,\n",
    "                               refit=True)\n",
    "\n",
    "    grid_search.fit(x_train, y_train)\n",
    "\n",
    "    print(f\"\\nBest score: {grid_search.best_score_}\")\n",
    "    print(f\"Best parameters: {grid_search.best_params_}\")\n",
    "    print(f\"Best estimator: {grid_search.best_estimator_}\")\n",
    "    \n",
    "    best_model = grid_search.best_estimator_\n",
    "    best_model_pred = best_model.predict(x_test)\n",
    "    best_model_pred_proba = best_model.predict_proba(x_test)[:, -1]\n",
    "\n",
    "    # Metrics\n",
    "    print(\"\\nAUC Score: \", metrics.roc_auc_score(y_test, best_model_pred_proba))\n",
    "    print(f\"Confusion matrix:\\n{metrics.confusion_matrix(y_test, best_model_pred)}\\n\")\n",
    "    print(f\"Classification report:\\n{metrics.classification_report(y_test, best_model_pred)}\\n\")\n",
    "\n",
    "    metrics.plot_roc_curve(best_model, x_test, y_test, pos_label=0)\n",
    "    #plt.savefig(f\"{algorithm}.png\")\n",
    "    plt.show\n",
    "\n",
    "    return best_model"
   ]
  },
  {
   "cell_type": "markdown",
   "id": "a23ed17f-770c-4036-a0db-cc3b51331118",
   "metadata": {
    "tags": []
   },
   "source": [
    "## Decision Tree Classifier"
   ]
  },
  {
   "cell_type": "code",
   "execution_count": 7,
   "id": "d5ae38d3-14ed-4024-bc37-b529b19eb989",
   "metadata": {},
   "outputs": [
    {
     "name": "stdout",
     "output_type": "stream",
     "text": [
      "Fitting 5 folds for each of 1024 candidates, totalling 5120 fits\n",
      "\n",
      "Best score: 0.7252380952380952\n",
      "Best parameters: {'clf__class_weight': 'balanced', 'clf__criterion': 'entropy', 'clf__max_features': 'sqrt', 'clf__min_impurity_split': 0.05, 'clf__min_samples_leaf': 2, 'clf__min_samples_split': 2, 'clf__splitter': 'random'}\n",
      "Best estimator: Pipeline(steps=[('smote', SMOTE(random_state=0)),\n",
      "                ('clf',\n",
      "                 DecisionTreeClassifier(class_weight='balanced',\n",
      "                                        criterion='entropy',\n",
      "                                        max_features='sqrt',\n",
      "                                        min_impurity_split=0.05,\n",
      "                                        min_samples_leaf=2, random_state=0,\n",
      "                                        splitter='random'))])\n",
      "\n",
      "AUC Score:  0.7607758620689655\n",
      "Confusion matrix:\n",
      "[[ 7  1]\n",
      " [26 32]]\n",
      "\n",
      "Classification report:\n",
      "              precision    recall  f1-score   support\n",
      "\n",
      "           0       0.21      0.88      0.34         8\n",
      "           1       0.97      0.55      0.70        58\n",
      "\n",
      "    accuracy                           0.59        66\n",
      "   macro avg       0.59      0.71      0.52        66\n",
      "weighted avg       0.88      0.59      0.66        66\n",
      "\n",
      "\n"
     ]
    },
    {
     "name": "stderr",
     "output_type": "stream",
     "text": [
      "C:\\Users\\fmna\\anaconda3\\lib\\site-packages\\sklearn\\tree\\_classes.py:315: FutureWarning: The min_impurity_split parameter is deprecated. Its default value has changed from 1e-7 to 0 in version 0.23, and it will be removed in 1.0 (renaming of 0.25). Use the min_impurity_decrease parameter instead.\n",
      "  warnings.warn(\n"
     ]
    },
    {
     "data": {
      "image/png": "[encoded data removed]",
      "text/plain": [
       "<Figure size 432x288 with 1 Axes>"
      ]
     },
     "metadata": {
      "needs_background": "light"
     },
     "output_type": "display_data"
    }
   ],
   "source": [
    "model = DecisionTreeClassifier(random_state=0)\n",
    "\n",
    "parameter_grid = {'clf__criterion': ['gini', 'entropy'],\n",
    "            'clf__splitter': ['best', 'random'],\n",
    "            'clf__max_features': ['sqrt', 'log2'],\n",
    "            'clf__min_samples_split':  [2, 4, 6, 8],\n",
    "            'clf__min_samples_leaf':  [1, 2, 4, 6],\n",
    "            'clf__min_impurity_split': [0.05, 0.1, 0.23, 0.3],\n",
    "            'clf__class_weight': [\"balanced\", None]}\n",
    "\n",
    "dt = grid_search(model, parameter_grid)"
   ]
  },
  {
   "cell_type": "markdown",
   "id": "280fd101-1eb2-4668-a0c5-e27a0a9baf01",
   "metadata": {},
   "source": [
    "## Random Forest"
   ]
  },
  {
   "cell_type": "code",
   "execution_count": 8,
   "id": "dbd440dc-b90e-4bb9-8923-b579a531bdfe",
   "metadata": {},
   "outputs": [
    {
     "name": "stdout",
     "output_type": "stream",
     "text": [
      "Fitting 5 folds for each of 144 candidates, totalling 720 fits\n",
      "\n",
      "Best score: 0.8173881673881673\n",
      "Best parameters: {'clf__criterion': 'entropy', 'clf__max_features': 'auto', 'clf__min_samples_leaf': 4, 'clf__min_samples_split': 2, 'clf__n_estimators': 200}\n",
      "Best estimator: Pipeline(steps=[('smote', SMOTE(random_state=0)),\n",
      "                ('clf',\n",
      "                 RandomForestClassifier(criterion='entropy', min_samples_leaf=4,\n",
      "                                        n_estimators=200, random_state=0))])\n",
      "\n",
      "AUC Score:  0.8642241379310345\n",
      "Confusion matrix:\n",
      "[[ 7  1]\n",
      " [16 42]]\n",
      "\n",
      "Classification report:\n",
      "              precision    recall  f1-score   support\n",
      "\n",
      "           0       0.30      0.88      0.45         8\n",
      "           1       0.98      0.72      0.83        58\n",
      "\n",
      "    accuracy                           0.74        66\n",
      "   macro avg       0.64      0.80      0.64        66\n",
      "weighted avg       0.90      0.74      0.79        66\n",
      "\n",
      "\n"
     ]
    },
    {
     "data": {
      "image/png": "[encoded data removed]",
      "text/plain": [
       "<Figure size 432x288 with 1 Axes>"
      ]
     },
     "metadata": {
      "needs_background": "light"
     },
     "output_type": "display_data"
    }
   ],
   "source": [
    "model = RandomForestClassifier(random_state=0)\n",
    "\n",
    "parameter_grid = {'clf__n_estimators': [100, 150, 200, 250],\n",
    "                  'clf__criterion': ['gini', 'entropy'],\n",
    "                  'clf__min_samples_split': [2, 5, 10],\n",
    "                  'clf__min_samples_leaf': [1, 2, 4],\n",
    "                  'clf__max_features': ['auto', None]}\n",
    "\n",
    "rf = grid_search(model, parameter_grid)"
   ]
  },
  {
   "cell_type": "markdown",
   "id": "6550df1a-a43e-45c5-aa6f-55ec7999ce75",
   "metadata": {},
   "source": [
    "## KNN"
   ]
  },
  {
   "cell_type": "code",
   "execution_count": 9,
   "id": "cd5d1429-156d-4fc8-9784-c0740c4b59f0",
   "metadata": {},
   "outputs": [
    {
     "name": "stdout",
     "output_type": "stream",
     "text": [
      "Fitting 5 folds for each of 18 candidates, totalling 90 fits\n",
      "\n",
      "Best score: 0.706919191919192\n",
      "Best parameters: {'clf__algorithm': 'ball_tree', 'clf__n_neighbors': 15, 'clf__weights': 'distance'}\n",
      "Best estimator: Pipeline(steps=[('smote', SMOTE(random_state=0)),\n",
      "                ('clf',\n",
      "                 KNeighborsClassifier(algorithm='ball_tree', n_neighbors=15,\n",
      "                                      weights='distance'))])\n",
      "\n",
      "AUC Score:  0.9030172413793105\n",
      "Confusion matrix:\n",
      "[[ 8  0]\n",
      " [20 38]]\n",
      "\n",
      "Classification report:\n",
      "              precision    recall  f1-score   support\n",
      "\n",
      "           0       0.29      1.00      0.44         8\n",
      "           1       1.00      0.66      0.79        58\n",
      "\n",
      "    accuracy                           0.70        66\n",
      "   macro avg       0.64      0.83      0.62        66\n",
      "weighted avg       0.91      0.70      0.75        66\n",
      "\n",
      "\n"
     ]
    },
    {
     "data": {
      "image/png": "[encoded data removed]",
      "text/plain": [
       "<Figure size 432x288 with 1 Axes>"
      ]
     },
     "metadata": {
      "needs_background": "light"
     },
     "output_type": "display_data"
    }
   ],
   "source": [
    "model = KNeighborsClassifier()\n",
    "\n",
    "parameter_grid = {'clf__n_neighbors': [5, 10, 15],\n",
    "                  'clf__weights': ['uniform', 'distance'],\n",
    "                  'clf__algorithm': ['ball_tree', 'kd_tree', 'brute']}\n",
    "\n",
    "knn = grid_search(model, parameter_grid)"
   ]
  },
  {
   "cell_type": "markdown",
   "id": "f35201d2-51af-4e89-a0b3-1b16820cb937",
   "metadata": {},
   "source": [
    "## SVM"
   ]
  },
  {
   "cell_type": "code",
   "execution_count": 10,
   "id": "1e8f1f62-6604-4dd8-ad89-6c73dc001ca2",
   "metadata": {},
   "outputs": [
    {
     "name": "stdout",
     "output_type": "stream",
     "text": [
      "Fitting 5 folds for each of 32 candidates, totalling 160 fits\n",
      "\n",
      "Best score: 0.7397781385281386\n",
      "Best parameters: {'clf__C': 0.1, 'clf__gamma': 'scale', 'clf__kernel': 'rbf'}\n",
      "Best estimator: Pipeline(steps=[('smote', SMOTE(random_state=0)),\n",
      "                ('clf', SVC(C=0.1, probability=True, random_state=0))])\n",
      "\n",
      "AUC Score:  0.8642241379310345\n",
      "Confusion matrix:\n",
      "[[ 5  3]\n",
      " [ 6 52]]\n",
      "\n",
      "Classification report:\n",
      "              precision    recall  f1-score   support\n",
      "\n",
      "           0       0.45      0.62      0.53         8\n",
      "           1       0.95      0.90      0.92        58\n",
      "\n",
      "    accuracy                           0.86        66\n",
      "   macro avg       0.70      0.76      0.72        66\n",
      "weighted avg       0.89      0.86      0.87        66\n",
      "\n",
      "\n"
     ]
    },
    {
     "data": {
      "image/png": "[encoded data removed]",
      "text/plain": [
       "<Figure size 432x288 with 1 Axes>"
      ]
     },
     "metadata": {
      "needs_background": "light"
     },
     "output_type": "display_data"
    }
   ],
   "source": [
    "model = SVC(random_state=0, probability=True)\n",
    "\n",
    "parameter_grid = {'clf__C': [0.1, 1, 10, 100],\n",
    "              'clf__kernel': ['linear', 'poly', 'rbf', 'sigmoid'],\n",
    "              'clf__gamma': ['scale', 'auto']}\n",
    "\n",
    "svm = grid_search(model, parameter_grid)"
   ]
  },
  {
   "cell_type": "markdown",
   "id": "df9a3a04-3449-473d-9d6c-b802bbb1c0de",
   "metadata": {},
   "source": [
    "## AdaBoost\n"
   ]
  },
  {
   "cell_type": "code",
   "execution_count": 11,
   "id": "f0ccbcf0-e49f-409d-967e-ec7683553941",
   "metadata": {
    "tags": []
   },
   "outputs": [
    {
     "name": "stdout",
     "output_type": "stream",
     "text": [
      "Fitting 5 folds for each of 9 candidates, totalling 45 fits\n",
      "\n",
      "Best score: 0.6667568542568543\n",
      "Best parameters: {'clf__learning_rate': 0.3, 'clf__n_estimators': 150}\n",
      "Best estimator: Pipeline(steps=[('smote', SMOTE(random_state=0)),\n",
      "                ('clf',\n",
      "                 AdaBoostClassifier(learning_rate=0.3, n_estimators=150,\n",
      "                                    random_state=0))])\n",
      "\n",
      "AUC Score:  0.7607758620689655\n",
      "Confusion matrix:\n",
      "[[ 5  3]\n",
      " [11 47]]\n",
      "\n",
      "Classification report:\n",
      "              precision    recall  f1-score   support\n",
      "\n",
      "           0       0.31      0.62      0.42         8\n",
      "           1       0.94      0.81      0.87        58\n",
      "\n",
      "    accuracy                           0.79        66\n",
      "   macro avg       0.63      0.72      0.64        66\n",
      "weighted avg       0.86      0.79      0.82        66\n",
      "\n",
      "\n"
     ]
    },
    {
     "data": {
      "image/png": "[encoded data removed]",
      "text/plain": [
       "<Figure size 432x288 with 1 Axes>"
      ]
     },
     "metadata": {
      "needs_background": "light"
     },
     "output_type": "display_data"
    }
   ],
   "source": [
    "model = AdaBoostClassifier(random_state=0)\n",
    "\n",
    "parameter_grid = {'clf__n_estimators': [50, 100, 150],\n",
    "                  'clf__learning_rate': [0.3, 0.5, 1.0]}\n",
    "\n",
    "ada = grid_search(model, parameter_grid)"
   ]
  },
  {
   "cell_type": "markdown",
   "id": "68ff7630-42d1-4d0b-a012-91dfba3e9eee",
   "metadata": {},
   "source": [
    "## GradientBoost"
   ]
  },
  {
   "cell_type": "code",
   "execution_count": 12,
   "id": "8d976512-6e2c-4b1f-bfcb-a25308f3c37e",
   "metadata": {},
   "outputs": [
    {
     "name": "stdout",
     "output_type": "stream",
     "text": [
      "Fitting 5 folds for each of 432 candidates, totalling 2160 fits\n"
     ]
    },
    {
     "name": "stderr",
     "output_type": "stream",
     "text": [
      "C:\\Users\\fmna\\anaconda3\\lib\\site-packages\\sklearn\\model_selection\\_search.py:918: UserWarning: One or more of the test scores are non-finite: [0.75491522 0.76208694 0.75496934 0.75546176 0.7580772  0.75967713\n",
      " 0.73568362 0.75471501 0.75683261 0.74941378 0.76004509 0.75564214\n",
      " 0.75314394 0.76494048 0.77003247 0.72613095 0.73775613 0.74136905\n",
      " 0.73529942 0.75184524 0.74455988 0.73529942 0.75184524 0.74455988\n",
      " 0.74824856 0.75155664 0.7502868  0.75491522 0.76208694 0.75496934\n",
      " 0.75546176 0.7580772  0.75967713 0.73568362 0.75471501 0.75683261\n",
      " 0.74941378 0.76004509 0.75564214 0.75314394 0.76494048 0.77003247\n",
      " 0.72613095 0.73775613 0.74136905 0.73529942 0.75184524 0.74455988\n",
      " 0.73529942 0.75184524 0.74455988 0.74824856 0.75155664 0.7502868\n",
      " 0.7641811  0.77501623 0.77022908 0.74933442 0.75252165 0.7499062\n",
      " 0.76257215 0.77016595 0.76914683 0.75655303 0.74691198 0.73832792\n",
      " 0.7522132  0.75708333 0.76172799 0.76591811 0.77352453 0.76814033\n",
      " 0.74029942 0.73608045 0.74747114 0.74029942 0.73608045 0.74747114\n",
      " 0.73779401 0.75458153 0.75001984 0.7641811  0.77501623 0.77022908\n",
      " 0.74933442 0.75252165 0.7499062  0.76257215 0.77016595 0.76914683\n",
      " 0.75655303 0.74691198 0.73832792 0.7522132  0.75708333 0.76172799\n",
      " 0.76591811 0.77352453 0.76814033 0.74029942 0.73608045 0.74747114\n",
      " 0.74029942 0.73608045 0.74747114 0.73779401 0.75458153 0.75001984\n",
      " 0.75183622 0.76085498 0.76797258 0.75603896 0.76902958 0.75772186\n",
      " 0.74325216 0.76013167 0.76455087 0.75110209 0.75959416 0.76301046\n",
      " 0.75307359 0.75315657 0.7518741  0.74294012 0.7711562  0.77049603\n",
      " 0.7444228  0.7694697  0.75635642 0.7444228  0.7694697  0.75635642\n",
      " 0.74770563 0.7554329  0.76340729 0.75183622 0.76085498 0.76797258\n",
      " 0.75603896 0.76902958 0.75772186 0.74325216 0.76013167 0.76455087\n",
      " 0.75110209 0.75959416 0.76301046 0.75307359 0.75315657 0.7518741\n",
      " 0.74294012 0.7711562  0.77049603 0.7444228  0.7694697  0.75635642\n",
      " 0.7444228  0.7694697  0.75635642 0.74770563 0.7554329  0.76340729\n",
      " 0.75230339 0.76589105 0.77300866 0.74545455 0.78146465 0.78242063\n",
      " 0.75540765 0.77781385 0.7718272  0.74946789 0.76642677 0.77864899\n",
      " 0.78077201 0.77526154 0.78496573 0.74709957 0.77162698 0.77350289\n",
      " 0.73794553 0.75574856 0.76402237 0.73794553 0.75574856 0.76402237\n",
      " 0.77200036 0.77085859 0.75749459 0.75230339 0.76589105 0.77300866\n",
      " 0.74545455 0.78146465 0.78242063 0.75540765 0.77781385 0.7718272\n",
      " 0.74946789 0.76642677 0.77864899 0.78077201 0.77526154 0.78496573\n",
      " 0.74709957 0.77162698 0.77350289 0.73794553 0.75574856 0.76402237\n",
      " 0.73794553 0.75574856 0.76402237 0.77200036 0.77085859 0.75749459\n",
      "        nan        nan        nan        nan        nan        nan\n",
      "        nan        nan        nan        nan        nan        nan\n",
      "        nan        nan        nan        nan        nan        nan\n",
      "        nan        nan        nan        nan        nan        nan\n",
      "        nan        nan        nan        nan        nan        nan\n",
      "        nan        nan        nan        nan        nan        nan\n",
      "        nan        nan        nan        nan        nan        nan\n",
      "        nan        nan        nan        nan        nan        nan\n",
      "        nan        nan        nan        nan        nan        nan\n",
      "        nan        nan        nan        nan        nan        nan\n",
      "        nan        nan        nan        nan        nan        nan\n",
      "        nan        nan        nan        nan        nan        nan\n",
      "        nan        nan        nan        nan        nan        nan\n",
      "        nan        nan        nan        nan        nan        nan\n",
      "        nan        nan        nan        nan        nan        nan\n",
      "        nan        nan        nan        nan        nan        nan\n",
      "        nan        nan        nan        nan        nan        nan\n",
      "        nan        nan        nan        nan        nan        nan\n",
      "        nan        nan        nan        nan        nan        nan\n",
      "        nan        nan        nan        nan        nan        nan\n",
      "        nan        nan        nan        nan        nan        nan\n",
      "        nan        nan        nan        nan        nan        nan\n",
      "        nan        nan        nan        nan        nan        nan\n",
      "        nan        nan        nan        nan        nan        nan\n",
      "        nan        nan        nan        nan        nan        nan\n",
      "        nan        nan        nan        nan        nan        nan\n",
      "        nan        nan        nan        nan        nan        nan\n",
      "        nan        nan        nan        nan        nan        nan\n",
      "        nan        nan        nan        nan        nan        nan\n",
      "        nan        nan        nan        nan        nan        nan\n",
      "        nan        nan        nan        nan        nan        nan\n",
      "        nan        nan        nan        nan        nan        nan\n",
      "        nan        nan        nan        nan        nan        nan\n",
      "        nan        nan        nan        nan        nan        nan\n",
      "        nan        nan        nan        nan        nan        nan\n",
      "        nan        nan        nan        nan        nan        nan]\n",
      "  warnings.warn(\n"
     ]
    },
    {
     "name": "stdout",
     "output_type": "stream",
     "text": [
      "\n",
      "Best score: 0.7849657287157287\n",
      "Best parameters: {'clf__criterion': 'friedman_mse', 'clf__learning_rate': 1.0, 'clf__max_features': 'auto', 'clf__min_samples_leaf': 2, 'clf__min_samples_split': 5, 'clf__n_estimators': 150}\n",
      "Best estimator: Pipeline(steps=[('smote', SMOTE(random_state=0)),\n",
      "                ('clf',\n",
      "                 GradientBoostingClassifier(learning_rate=1.0,\n",
      "                                            max_features='auto',\n",
      "                                            min_samples_leaf=2,\n",
      "                                            min_samples_split=5,\n",
      "                                            n_estimators=150,\n",
      "                                            random_state=0))])\n",
      "\n",
      "AUC Score:  0.8728448275862069\n",
      "Confusion matrix:\n",
      "[[ 7  1]\n",
      " [17 41]]\n",
      "\n",
      "Classification report:\n",
      "              precision    recall  f1-score   support\n",
      "\n",
      "           0       0.29      0.88      0.44         8\n",
      "           1       0.98      0.71      0.82        58\n",
      "\n",
      "    accuracy                           0.73        66\n",
      "   macro avg       0.63      0.79      0.63        66\n",
      "weighted avg       0.89      0.73      0.77        66\n",
      "\n",
      "\n"
     ]
    },
    {
     "data": {
      "image/png": "[encoded data removed]",
      "text/plain": [
       "<Figure size 432x288 with 1 Axes>"
      ]
     },
     "metadata": {
      "needs_background": "light"
     },
     "output_type": "display_data"
    }
   ],
   "source": [
    "model = GradientBoostingClassifier(random_state=0)\n",
    "\n",
    "parameter_grid = {'clf__n_estimators': [50, 100, 150],\n",
    "                  'clf__learning_rate': [0.2, 0.3, 0.5, 1.0],\n",
    "                  'clf__criterion': ['friedman_mse', 'squared_error'],\n",
    "                  'clf__min_samples_split': [2, 5, 10],\n",
    "                  'clf__min_samples_leaf': [1, 2, 4],\n",
    "                  'clf__max_features': ['auto', None]}\n",
    "\n",
    "gb = grid_search(model, parameter_grid)"
   ]
  },
  {
   "cell_type": "markdown",
   "id": "0172aa14-3812-4471-a95c-5d7f830b2b2b",
   "metadata": {},
   "source": [
    "## XGBoost"
   ]
  },
  {
   "cell_type": "code",
   "execution_count": 13,
   "id": "f6919ebb-6696-404d-bcc3-5c9ce409e12e",
   "metadata": {},
   "outputs": [
    {
     "name": "stdout",
     "output_type": "stream",
     "text": [
      "Fitting 5 folds for each of 108 candidates, totalling 540 fits\n",
      "\n",
      "Best score: 0.8064484126984128\n",
      "Best parameters: {'clf__alpha': 0, 'clf__gamma': 0, 'clf__learning_rate': 0.5, 'clf__n_estimators': 300}\n",
      "Best estimator: Pipeline(steps=[('smote', SMOTE(random_state=0)),\n",
      "                ('clf',\n",
      "                 XGBClassifier(alpha=0, base_score=0.5, booster='gbtree',\n",
      "                               colsample_bylevel=1, colsample_bynode=1,\n",
      "                               colsample_bytree=1, eval_metric='auc', gamma=0,\n",
      "                               gpu_id=-1, importance_type='gain',\n",
      "                               interaction_constraints='', learning_rate=0.5,\n",
      "                               max_delta_step=0, max_depth=6,\n",
      "                               min_child_weight=1, missing=nan,\n",
      "                               monotone_constraints='()', n_estimators=300,\n",
      "                               n_jobs=12, num_parallel_tree=1, random_state=0,\n",
      "                               reg_alpha=0, reg_lambda=1, scale_pos_weight=1,\n",
      "                               subsample=1, tree_method='exact',\n",
      "                               use_label_encoder=False, validate_parameters=1,\n",
      "                               verbosity=None))])\n",
      "\n",
      "AUC Score:  0.8836206896551724\n",
      "Confusion matrix:\n",
      "[[ 8  0]\n",
      " [21 37]]\n",
      "\n",
      "Classification report:\n",
      "              precision    recall  f1-score   support\n",
      "\n",
      "           0       0.28      1.00      0.43         8\n",
      "           1       1.00      0.64      0.78        58\n",
      "\n",
      "    accuracy                           0.68        66\n",
      "   macro avg       0.64      0.82      0.61        66\n",
      "weighted avg       0.91      0.68      0.74        66\n",
      "\n",
      "\n"
     ]
    },
    {
     "data": {
      "image/png": "[encoded data removed]",
      "text/plain": [
       "<Figure size 432x288 with 1 Axes>"
      ]
     },
     "metadata": {
      "needs_background": "light"
     },
     "output_type": "display_data"
    }
   ],
   "source": [
    "model = XGBClassifier(objective='binary:logistic', use_label_encoder=False, eval_metric='auc')\n",
    "\n",
    "parameter_grid = {\n",
    "    'clf__learning_rate': [0.2, 0.3, 0.5, 1.0],\n",
    "    'clf__alpha': [0, 0.01, 0.1],\n",
    "    'clf__n_estimators': [100, 200, 300],\n",
    "    'clf__gamma': [0, 0.01, 0.1]\n",
    "}\n",
    "\n",
    "xgb = grid_search(model, parameter_grid)"
   ]
  },
  {
   "cell_type": "markdown",
   "id": "d6392f5e",
   "metadata": {},
   "source": [
    "# Predictions"
   ]
  },
  {
   "cell_type": "code",
   "execution_count": 14,
   "id": "f000b721-c269-4d03-9d58-e3e26418de50",
   "metadata": {},
   "outputs": [
    {
     "data": {
      "text/html": [
       "<div>\n",
       "<style scoped>\n",
       "    .dataframe tbody tr th:only-of-type {\n",
       "        vertical-align: middle;\n",
       "    }\n",
       "\n",
       "    .dataframe tbody tr th {\n",
       "        vertical-align: top;\n",
       "    }\n",
       "\n",
       "    .dataframe thead th {\n",
       "        text-align: right;\n",
       "    }\n",
       "</style>\n",
       "<table border=\"1\" class=\"dataframe\">\n",
       "  <thead>\n",
       "    <tr style=\"text-align: right;\">\n",
       "      <th></th>\n",
       "      <th>Id</th>\n",
       "      <th>Predicted</th>\n",
       "    </tr>\n",
       "  </thead>\n",
       "  <tbody>\n",
       "    <tr>\n",
       "      <th>0</th>\n",
       "      <td>4962</td>\n",
       "      <td>0.598094</td>\n",
       "    </tr>\n",
       "    <tr>\n",
       "      <th>1</th>\n",
       "      <td>4967</td>\n",
       "      <td>0.418512</td>\n",
       "    </tr>\n",
       "    <tr>\n",
       "      <th>2</th>\n",
       "      <td>4968</td>\n",
       "      <td>0.599402</td>\n",
       "    </tr>\n",
       "    <tr>\n",
       "      <th>3</th>\n",
       "      <td>4986</td>\n",
       "      <td>0.599928</td>\n",
       "    </tr>\n",
       "    <tr>\n",
       "      <th>4</th>\n",
       "      <td>4988</td>\n",
       "      <td>0.586240</td>\n",
       "    </tr>\n",
       "    <tr>\n",
       "      <th>...</th>\n",
       "      <td>...</td>\n",
       "      <td>...</td>\n",
       "    </tr>\n",
       "    <tr>\n",
       "      <th>349</th>\n",
       "      <td>7279</td>\n",
       "      <td>0.594440</td>\n",
       "    </tr>\n",
       "    <tr>\n",
       "      <th>350</th>\n",
       "      <td>7286</td>\n",
       "      <td>0.618934</td>\n",
       "    </tr>\n",
       "    <tr>\n",
       "      <th>351</th>\n",
       "      <td>7292</td>\n",
       "      <td>0.612892</td>\n",
       "    </tr>\n",
       "    <tr>\n",
       "      <th>352</th>\n",
       "      <td>7294</td>\n",
       "      <td>0.621529</td>\n",
       "    </tr>\n",
       "    <tr>\n",
       "      <th>353</th>\n",
       "      <td>7295</td>\n",
       "      <td>0.614237</td>\n",
       "    </tr>\n",
       "  </tbody>\n",
       "</table>\n",
       "<p>354 rows × 2 columns</p>\n",
       "</div>"
      ],
      "text/plain": [
       "       Id  Predicted\n",
       "0    4962   0.598094\n",
       "1    4967   0.418512\n",
       "2    4968   0.599402\n",
       "3    4986   0.599928\n",
       "4    4988   0.586240\n",
       "..    ...        ...\n",
       "349  7279   0.594440\n",
       "350  7286   0.618934\n",
       "351  7292   0.612892\n",
       "352  7294   0.621529\n",
       "353  7295   0.614237\n",
       "\n",
       "[354 rows x 2 columns]"
      ]
     },
     "execution_count": 14,
     "metadata": {},
     "output_type": "execute_result"
    }
   ],
   "source": [
    "x_real = test_data[features]\n",
    "\n",
    "# change according to model\n",
    "predictions = rf.predict_proba(x_real)[:, -1]\n",
    "\n",
    "submission = pd.DataFrame()\n",
    "submission['Id'] = test_data['loan_id']\n",
    "submission['Predicted'] = predictions\n",
    "\n",
    "submission.to_csv(date.today().strftime(\"%d-%m-%Y\") + '.csv', index=False)\n",
    "\n",
    "submission"
   ]
  }
 ],
 "metadata": {
  "kernelspec": {
   "display_name": "Python 3",
   "language": "python",
   "name": "python3"
  },
  "language_info": {
   "codemirror_mode": {
    "name": "ipython",
    "version": 3
   },
   "file_extension": ".py",
   "mimetype": "text/x-python",
   "name": "python",
   "nbconvert_exporter": "python",
   "pygments_lexer": "ipython3",
   "version": "3.8.8"
  }
 },
 "nbformat": 4,
 "nbformat_minor": 5
}
