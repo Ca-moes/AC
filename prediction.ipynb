{
 "cells": [
  {
   "cell_type": "code",
   "execution_count": 1,
   "id": "b22a74f8-0528-4d01-af74-ee77dbbe333f",
   "metadata": {},
   "outputs": [],
   "source": [
    "import pandas as pd\n",
    "from datetime import date\n",
    "\n",
    "import sklearn.metrics as metrics\n",
    "import matplotlib.pyplot as plt\n",
    "\n",
    "from sklearn.model_selection import train_test_split\n",
    "from imblearn.over_sampling import SMOTE\n",
    "from sklearn.preprocessing import StandardScaler\n",
    "\n",
    "from sklearn.model_selection import StratifiedKFold\n",
    "from sklearn.model_selection import GridSearchCV\n",
    "\n",
    "from sklearn.tree import DecisionTreeClassifier\n",
    "from sklearn.ensemble import RandomForestClassifier\n",
    "from sklearn.neighbors import KNeighborsClassifier\n",
    "from sklearn.svm import SVC\n",
    "from sklearn.ensemble import AdaBoostClassifier\n",
    "from sklearn.ensemble import GradientBoostingClassifier\n",
    "from xgboost import XGBClassifier"
   ]
  },
  {
   "cell_type": "markdown",
   "id": "d385e443-1054-4c76-9e97-28f0350b4b94",
   "metadata": {},
   "source": [
    "# Parameter Tuning\n",
    "\n",
    "Exhaustive search over specified parameter values for an estimator, tuning the models."
   ]
  },
  {
   "cell_type": "markdown",
   "id": "d808e6f3-c16a-4e7f-a551-301f8f963dbe",
   "metadata": {},
   "source": [
    "## Getting data"
   ]
  },
  {
   "cell_type": "code",
   "execution_count": 2,
   "id": "cae3f102",
   "metadata": {},
   "outputs": [],
   "source": [
    "train_data = pd.read_pickle(\"train_data.pkl\")\n",
    "test_data = pd.read_pickle(\"test_data.pkl\")\n",
    "\n",
    "features = list(train_data.columns)\n",
    "features.remove('status')\n",
    "features.remove('loan_id')\n",
    "\n",
    "x = train_data[features]\n",
    "y = train_data['status']"
   ]
  },
  {
   "cell_type": "markdown",
   "id": "663b67c2",
   "metadata": {},
   "source": [
    "## Train Test Split"
   ]
  },
  {
   "cell_type": "code",
   "execution_count": 3,
   "id": "97f84c34",
   "metadata": {},
   "outputs": [],
   "source": [
    "x_train, x_test, y_train, y_test = train_test_split(x, y, test_size=0.2, random_state=0)"
   ]
  },
  {
   "cell_type": "markdown",
   "id": "0a693f55",
   "metadata": {},
   "source": [
    "## Resampling\n",
    "Our data analysis stage showed that our working dataset was heavily umbalanced.\n",
    "\n",
    "Early exploratory analysis of classification methods proved that this was having a negative effect on the accuracy of the classifier, especially for the minority classes. To solve this problem we implemented resampling techniques that would generate a more balanced training set.\n",
    "\n",
    "For oversampling we used the SMOTE (Synthetic Minority Over-sampling Technique) algorithm. This generates new samples interpolated from the existing ones."
   ]
  },
  {
   "cell_type": "code",
   "execution_count": 4,
   "id": "68715226",
   "metadata": {},
   "outputs": [],
   "source": [
    "smote = SMOTE()\n",
    "x, y = smote.fit_resample(x, y)\n",
    "x_train, y_train = smote.fit_resample(x_train, y_train)"
   ]
  },
  {
   "cell_type": "markdown",
   "id": "6858f836",
   "metadata": {},
   "source": [
    "## Normalization\n",
    "\n",
    "Some of the algorithms we plan on using (KNN and SVM) require the data to be standardized. To do so, we used a StandardScaler from SciKit Learn's preprocessing library."
   ]
  },
  {
   "cell_type": "code",
   "execution_count": 5,
   "id": "0befccd4-978e-4724-8dc1-b0e9b2d0ca19",
   "metadata": {},
   "outputs": [],
   "source": [
    "scaler = StandardScaler()\n",
    "\n",
    "scaler.fit(x)\n",
    "x = scaler.fit_transform(x)\n",
    "\n",
    "scaler.fit(x_train)\n",
    "x_train = scaler.fit_transform(x_train)\n",
    "x_test = scaler.fit_transform(x_test)"
   ]
  },
  {
   "cell_type": "markdown",
   "id": "bb43e278-29e0-496d-93ee-7f3a1f6f90be",
   "metadata": {},
   "source": [
    "Applying grid search"
   ]
  },
  {
   "cell_type": "code",
   "execution_count": 6,
   "id": "24e3515f-0b95-4150-85c9-ecbdc9ecb96a",
   "metadata": {},
   "outputs": [],
   "source": [
    "def grid_search(model, parameter_grid):\n",
    "    cross_validation = StratifiedKFold(n_splits=5)\n",
    "\n",
    "    grid_search = GridSearchCV(model,\n",
    "                               param_grid=parameter_grid,\n",
    "                               scoring='roc_auc',\n",
    "                               cv=cross_validation,\n",
    "                               verbose=4,\n",
    "                               n_jobs=-1)\n",
    "\n",
    "    grid_search.fit(x_train, y_train)\n",
    "\n",
    "    print(f\"\\nBest score: {grid_search.best_score_}\")\n",
    "    print(f\"Best parameters: {grid_search.best_params_}\")\n",
    "    print(f\"Best estimator: {grid_search.best_estimator_}\")\n",
    "    \n",
    "    best_model = grid_search.best_estimator_\n",
    "    best_model_pred = best_model.predict(x_test)\n",
    "    best_model_pred_proba = best_model.predict_proba(x_test)[:, -1]\n",
    "\n",
    "    # Metrics\n",
    "    print(\"\\nAUC Score: \", metrics.roc_auc_score(y_test, best_model_pred_proba))\n",
    "    print(f\"Confusion matrix:\\n{metrics.confusion_matrix(y_test, best_model_pred)}\\n\")\n",
    "    print(f\"Classification report:\\n{metrics.classification_report(y_test, best_model_pred)}\\n\")\n",
    "\n",
    "    metrics.plot_roc_curve(best_model, x_test, y_test, pos_label=0)\n",
    "    #plt.savefig(f\"{algorithm}.png\")\n",
    "    plt.show\n",
    "\n",
    "    return best_model"
   ]
  },
  {
   "cell_type": "markdown",
   "id": "a23ed17f-770c-4036-a0db-cc3b51331118",
   "metadata": {
    "tags": []
   },
   "source": [
    "## Decision Tree Classifier"
   ]
  },
  {
   "cell_type": "code",
   "execution_count": 7,
   "id": "d5ae38d3-14ed-4024-bc37-b529b19eb989",
   "metadata": {},
   "outputs": [
    {
     "name": "stdout",
     "output_type": "stream",
     "text": [
      "Fitting 5 folds for each of 1024 candidates, totalling 5120 fits\n",
      "\n",
      "Best score: 0.9084358561460011\n",
      "Best parameters: {'class_weight': None, 'criterion': 'entropy', 'max_features': 'sqrt', 'min_impurity_split': 0.05, 'min_samples_leaf': 1, 'min_samples_split': 8, 'splitter': 'best'}\n",
      "Best estimator: DecisionTreeClassifier(criterion='entropy', max_features='sqrt',\n",
      "                       min_impurity_split=0.05, min_samples_split=8,\n",
      "                       random_state=0)\n",
      "\n",
      "AUC Score:  0.7049586776859504\n",
      "Confusion matrix:\n",
      "[[ 7  4]\n",
      " [11 44]]\n",
      "\n",
      "Classification report:\n",
      "              precision    recall  f1-score   support\n",
      "\n",
      "           0       0.39      0.64      0.48        11\n",
      "           1       0.92      0.80      0.85        55\n",
      "\n",
      "    accuracy                           0.77        66\n",
      "   macro avg       0.65      0.72      0.67        66\n",
      "weighted avg       0.83      0.77      0.79        66\n",
      "\n",
      "\n"
     ]
    },
    {
     "name": "stderr",
     "output_type": "stream",
     "text": [
      "C:\\Users\\fmna\\anaconda3\\lib\\site-packages\\sklearn\\tree\\_classes.py:315: FutureWarning: The min_impurity_split parameter is deprecated. Its default value has changed from 1e-7 to 0 in version 0.23, and it will be removed in 1.0 (renaming of 0.25). Use the min_impurity_decrease parameter instead.\n",
      "  warnings.warn(\n"
     ]
    },
    {
     "data": {
      "image/png": "[encoded data removed]",
      "text/plain": [
       "<Figure size 432x288 with 1 Axes>"
      ]
     },
     "metadata": {
      "needs_background": "light"
     },
     "output_type": "display_data"
    }
   ],
   "source": [
    "model = DecisionTreeClassifier(random_state=0)\n",
    "\n",
    "parameter_grid = {'criterion': ['gini', 'entropy'],\n",
    "            'splitter': ['best', 'random'],\n",
    "            'max_features': ['sqrt', 'log2'],\n",
    "            'min_samples_split':  [2, 4, 6, 8],\n",
    "            'min_samples_leaf':  [1, 2, 4, 6],\n",
    "            'min_impurity_split': [0.05, 0.1, 0.23, 0.3],\n",
    "            'class_weight': [\"balanced\", None]}\n",
    "\n",
    "dt = grid_search(model, parameter_grid)"
   ]
  },
  {
   "cell_type": "markdown",
   "id": "280fd101-1eb2-4668-a0c5-e27a0a9baf01",
   "metadata": {},
   "source": [
    "## Random Forest"
   ]
  },
  {
   "cell_type": "code",
   "execution_count": 8,
   "id": "dbd440dc-b90e-4bb9-8923-b579a531bdfe",
   "metadata": {},
   "outputs": [
    {
     "name": "stdout",
     "output_type": "stream",
     "text": [
      "Fitting 5 folds for each of 144 candidates, totalling 720 fits\n",
      "\n",
      "Best score: 0.9924133118625873\n",
      "Best parameters: {'criterion': 'entropy', 'max_features': 'auto', 'min_samples_leaf': 1, 'min_samples_split': 2, 'n_estimators': 1000}\n",
      "Best estimator: RandomForestClassifier(criterion='entropy', n_estimators=1000, random_state=0)\n",
      "\n",
      "AUC Score:  0.7950413223140496\n",
      "Confusion matrix:\n",
      "[[ 7  4]\n",
      " [13 42]]\n",
      "\n",
      "Classification report:\n",
      "              precision    recall  f1-score   support\n",
      "\n",
      "           0       0.35      0.64      0.45        11\n",
      "           1       0.91      0.76      0.83        55\n",
      "\n",
      "    accuracy                           0.74        66\n",
      "   macro avg       0.63      0.70      0.64        66\n",
      "weighted avg       0.82      0.74      0.77        66\n",
      "\n",
      "\n"
     ]
    },
    {
     "data": {
      "image/png": "[encoded data removed]",
      "text/plain": [
       "<Figure size 432x288 with 1 Axes>"
      ]
     },
     "metadata": {
      "needs_background": "light"
     },
     "output_type": "display_data"
    }
   ],
   "source": [
    "model = RandomForestClassifier(random_state=0)\n",
    "\n",
    "parameter_grid = {'n_estimators': [1000, 1500, 1800, 2000],\n",
    "                  'criterion': ['gini', 'entropy'],\n",
    "                  'min_samples_split': [2, 5, 10],\n",
    "                  'min_samples_leaf': [1, 2, 4],\n",
    "                  'max_features': ['auto', None]}\n",
    "\n",
    "rf = grid_search(model, parameter_grid)"
   ]
  },
  {
   "cell_type": "markdown",
   "id": "6550df1a-a43e-45c5-aa6f-55ec7999ce75",
   "metadata": {},
   "source": [
    "## KNN"
   ]
  },
  {
   "cell_type": "code",
   "execution_count": 9,
   "id": "cd5d1429-156d-4fc8-9784-c0740c4b59f0",
   "metadata": {},
   "outputs": [
    {
     "name": "stdout",
     "output_type": "stream",
     "text": [
      "Fitting 5 folds for each of 18 candidates, totalling 90 fits\n",
      "\n",
      "Best score: 0.9564873859366612\n",
      "Best parameters: {'algorithm': 'ball_tree', 'n_neighbors': 15, 'weights': 'distance'}\n",
      "Best estimator: KNeighborsClassifier(algorithm='ball_tree', n_neighbors=15, weights='distance')\n",
      "\n",
      "AUC Score:  0.7818181818181817\n",
      "Confusion matrix:\n",
      "[[ 9  2]\n",
      " [22 33]]\n",
      "\n",
      "Classification report:\n",
      "              precision    recall  f1-score   support\n",
      "\n",
      "           0       0.29      0.82      0.43        11\n",
      "           1       0.94      0.60      0.73        55\n",
      "\n",
      "    accuracy                           0.64        66\n",
      "   macro avg       0.62      0.71      0.58        66\n",
      "weighted avg       0.83      0.64      0.68        66\n",
      "\n",
      "\n"
     ]
    },
    {
     "data": {
      "image/png": "[encoded data removed]",
      "text/plain": [
       "<Figure size 432x288 with 1 Axes>"
      ]
     },
     "metadata": {
      "needs_background": "light"
     },
     "output_type": "display_data"
    }
   ],
   "source": [
    "model = KNeighborsClassifier()\n",
    "\n",
    "parameter_grid = {'n_neighbors': [5, 10, 15],\n",
    "                  'weights': ['uniform', 'distance'],\n",
    "                  'algorithm': ['ball_tree', 'kd_tree', 'brute']}\n",
    "\n",
    "knn = grid_search(model, parameter_grid)"
   ]
  },
  {
   "cell_type": "markdown",
   "id": "f35201d2-51af-4e89-a0b3-1b16820cb937",
   "metadata": {},
   "source": [
    "## SVM"
   ]
  },
  {
   "cell_type": "code",
   "execution_count": 10,
   "id": "1e8f1f62-6604-4dd8-ad89-6c73dc001ca2",
   "metadata": {},
   "outputs": [
    {
     "name": "stdout",
     "output_type": "stream",
     "text": [
      "Fitting 5 folds for each of 32 candidates, totalling 160 fits\n",
      "\n",
      "Best score: 0.9885260332796564\n",
      "Best parameters: {'C': 100, 'gamma': 'scale', 'kernel': 'rbf'}\n",
      "Best estimator: SVC(C=100, probability=True, random_state=0)\n",
      "\n",
      "AUC Score:  0.7900826446280992\n",
      "Confusion matrix:\n",
      "[[ 6  5]\n",
      " [ 5 50]]\n",
      "\n",
      "Classification report:\n",
      "              precision    recall  f1-score   support\n",
      "\n",
      "           0       0.55      0.55      0.55        11\n",
      "           1       0.91      0.91      0.91        55\n",
      "\n",
      "    accuracy                           0.85        66\n",
      "   macro avg       0.73      0.73      0.73        66\n",
      "weighted avg       0.85      0.85      0.85        66\n",
      "\n",
      "\n"
     ]
    },
    {
     "data": {
      "image/png": "[encoded data removed]",
      "text/plain": [
       "<Figure size 432x288 with 1 Axes>"
      ]
     },
     "metadata": {
      "needs_background": "light"
     },
     "output_type": "display_data"
    }
   ],
   "source": [
    "model = SVC(random_state=0, probability=True)\n",
    "\n",
    "parameter_grid = {'C': [0.1, 1, 10, 100],\n",
    "              'kernel': ['linear', 'poly', 'rbf', 'sigmoid'],\n",
    "              'gamma': ['scale', 'auto']}\n",
    "\n",
    "svm = grid_search(model, parameter_grid)"
   ]
  },
  {
   "cell_type": "markdown",
   "id": "df9a3a04-3449-473d-9d6c-b802bbb1c0de",
   "metadata": {},
   "source": [
    "## AdaBoost\n"
   ]
  },
  {
   "cell_type": "code",
   "execution_count": 11,
   "id": "f0ccbcf0-e49f-409d-967e-ec7683553941",
   "metadata": {
    "tags": []
   },
   "outputs": [
    {
     "name": "stdout",
     "output_type": "stream",
     "text": [
      "Fitting 5 folds for each of 9 candidates, totalling 45 fits\n",
      "\n",
      "Best score: 0.9538786902844872\n",
      "Best parameters: {'learning_rate': 0.5, 'n_estimators': 150}\n",
      "Best estimator: AdaBoostClassifier(learning_rate=0.5, n_estimators=150, random_state=0)\n",
      "\n",
      "AUC Score:  0.6628099173553719\n",
      "Confusion matrix:\n",
      "[[ 7  4]\n",
      " [21 34]]\n",
      "\n",
      "Classification report:\n",
      "              precision    recall  f1-score   support\n",
      "\n",
      "           0       0.25      0.64      0.36        11\n",
      "           1       0.89      0.62      0.73        55\n",
      "\n",
      "    accuracy                           0.62        66\n",
      "   macro avg       0.57      0.63      0.55        66\n",
      "weighted avg       0.79      0.62      0.67        66\n",
      "\n",
      "\n"
     ]
    },
    {
     "data": {
      "image/png": "[encoded data removed]",
      "text/plain": [
       "<Figure size 432x288 with 1 Axes>"
      ]
     },
     "metadata": {
      "needs_background": "light"
     },
     "output_type": "display_data"
    }
   ],
   "source": [
    "model = AdaBoostClassifier(random_state=0)\n",
    "\n",
    "parameter_grid = {'n_estimators': [50, 100, 150],\n",
    "                  'learning_rate': [0.3, 0.5, 1.0]}\n",
    "\n",
    "ada = grid_search(model, parameter_grid)"
   ]
  },
  {
   "cell_type": "markdown",
   "id": "68ff7630-42d1-4d0b-a012-91dfba3e9eee",
   "metadata": {},
   "source": [
    "## GradientBoost"
   ]
  },
  {
   "cell_type": "code",
   "execution_count": 12,
   "id": "8d976512-6e2c-4b1f-bfcb-a25308f3c37e",
   "metadata": {},
   "outputs": [
    {
     "name": "stdout",
     "output_type": "stream",
     "text": [
      "Fitting 5 folds for each of 432 candidates, totalling 2160 fits\n"
     ]
    },
    {
     "name": "stderr",
     "output_type": "stream",
     "text": [
      "C:\\Users\\fmna\\anaconda3\\lib\\site-packages\\sklearn\\model_selection\\_search.py:918: UserWarning: One or more of the test scores are non-finite: [0.97205797 0.97408481 0.97524852 0.97135802 0.97516479 0.97592915\n",
      " 0.96924745 0.97342566 0.97380998 0.97533011 0.97882126 0.98115513\n",
      " 0.97476329 0.98289211 0.98405368 0.9768073  0.97912614 0.98009232\n",
      " 0.97274289 0.97942029 0.98096618 0.97274289 0.97942029 0.98096618\n",
      " 0.97505099 0.97873967 0.97874396 0.97205797 0.97408481 0.97524852\n",
      " 0.97135802 0.97516479 0.97592915 0.96924745 0.97342566 0.97380998\n",
      " 0.97533011 0.97882126 0.98115513 0.97476329 0.98289211 0.98405368\n",
      " 0.9768073  0.97912614 0.98009232 0.97274289 0.97942029 0.98096618\n",
      " 0.97274289 0.97942029 0.98096618 0.97505099 0.97873967 0.97874396\n",
      " 0.9757402  0.97874181 0.97863017 0.97555341 0.97854214 0.9786409\n",
      " 0.97622974 0.97835749 0.9773913  0.98038647 0.9828964  0.98376167\n",
      " 0.9830789  0.98415459 0.98415459 0.98134407 0.98211272 0.98318196\n",
      " 0.97458293 0.98038433 0.98154589 0.97458293 0.98038433 0.98154589\n",
      " 0.97622544 0.9828964  0.98521739 0.9757402  0.97874181 0.97863017\n",
      " 0.97555341 0.97854214 0.9786409  0.97622974 0.97835749 0.9773913\n",
      " 0.98038647 0.9828964  0.98376167 0.9830789  0.98415459 0.98415459\n",
      " 0.98134407 0.98211272 0.98318196 0.97458293 0.98038433 0.98154589\n",
      " 0.97458293 0.98038433 0.98154589 0.97622544 0.9828964  0.98521739\n",
      " 0.97767042 0.97989694 0.98086098 0.97388298 0.97689748 0.9777606\n",
      " 0.97583682 0.97709071 0.97670853 0.98007944 0.98269458 0.98472571\n",
      " 0.98114868 0.9847343  0.98454106 0.97882984 0.9849211  0.98530972\n",
      " 0.98241116 0.98357488 0.98628019 0.98241116 0.98357488 0.98628019\n",
      " 0.98048309 0.98250993 0.98560386 0.97767042 0.97989694 0.98086098\n",
      " 0.97388298 0.97689748 0.9777606  0.97583682 0.97709071 0.97670853\n",
      " 0.98007944 0.98269458 0.98472571 0.98114868 0.9847343  0.98454106\n",
      " 0.97882984 0.9849211  0.98530972 0.98241116 0.98357488 0.98628019\n",
      " 0.98241116 0.98357488 0.98628019 0.98048309 0.98250993 0.98560386\n",
      " 0.97764681 0.97674074 0.98212346 0.97967364 0.98057327 0.97931938\n",
      " 0.97872249 0.97989694 0.97989909 0.98250564 0.98386044 0.98540848\n",
      " 0.97874181 0.9821256  0.98396135 0.98289855 0.98425121 0.98434783\n",
      " 0.98268384 0.98946216 0.98879012 0.98268384 0.98946216 0.98879012\n",
      " 0.98114868 0.98588943 0.98531401 0.97764681 0.97674074 0.98212346\n",
      " 0.97967364 0.98057327 0.97931938 0.97872249 0.97989694 0.97989909\n",
      " 0.98250564 0.98386044 0.98540848 0.97874181 0.9821256  0.98396135\n",
      " 0.98289855 0.98425121 0.98434783 0.98268384 0.98946216 0.98879012\n",
      " 0.98268384 0.98946216 0.98879012 0.98114868 0.98588943 0.98531401\n",
      "        nan        nan        nan        nan        nan        nan\n",
      "        nan        nan        nan        nan        nan        nan\n",
      "        nan        nan        nan        nan        nan        nan\n",
      "        nan        nan        nan        nan        nan        nan\n",
      "        nan        nan        nan        nan        nan        nan\n",
      "        nan        nan        nan        nan        nan        nan\n",
      "        nan        nan        nan        nan        nan        nan\n",
      "        nan        nan        nan        nan        nan        nan\n",
      "        nan        nan        nan        nan        nan        nan\n",
      "        nan        nan        nan        nan        nan        nan\n",
      "        nan        nan        nan        nan        nan        nan\n",
      "        nan        nan        nan        nan        nan        nan\n",
      "        nan        nan        nan        nan        nan        nan\n",
      "        nan        nan        nan        nan        nan        nan\n",
      "        nan        nan        nan        nan        nan        nan\n",
      "        nan        nan        nan        nan        nan        nan\n",
      "        nan        nan        nan        nan        nan        nan\n",
      "        nan        nan        nan        nan        nan        nan\n",
      "        nan        nan        nan        nan        nan        nan\n",
      "        nan        nan        nan        nan        nan        nan\n",
      "        nan        nan        nan        nan        nan        nan\n",
      "        nan        nan        nan        nan        nan        nan\n",
      "        nan        nan        nan        nan        nan        nan\n",
      "        nan        nan        nan        nan        nan        nan\n",
      "        nan        nan        nan        nan        nan        nan\n",
      "        nan        nan        nan        nan        nan        nan\n",
      "        nan        nan        nan        nan        nan        nan\n",
      "        nan        nan        nan        nan        nan        nan\n",
      "        nan        nan        nan        nan        nan        nan\n",
      "        nan        nan        nan        nan        nan        nan\n",
      "        nan        nan        nan        nan        nan        nan\n",
      "        nan        nan        nan        nan        nan        nan\n",
      "        nan        nan        nan        nan        nan        nan\n",
      "        nan        nan        nan        nan        nan        nan\n",
      "        nan        nan        nan        nan        nan        nan\n",
      "        nan        nan        nan        nan        nan        nan]\n",
      "  warnings.warn(\n"
     ]
    },
    {
     "name": "stdout",
     "output_type": "stream",
     "text": [
      "\n",
      "Best score: 0.9894621578099839\n",
      "Best parameters: {'criterion': 'friedman_mse', 'learning_rate': 1.0, 'max_features': 'auto', 'min_samples_leaf': 4, 'min_samples_split': 2, 'n_estimators': 100}\n",
      "Best estimator: GradientBoostingClassifier(learning_rate=1.0, max_features='auto',\n",
      "                           min_samples_leaf=4, random_state=0)\n",
      "\n",
      "AUC Score:  0.7735537190082645\n",
      "Confusion matrix:\n",
      "[[ 7  4]\n",
      " [11 44]]\n",
      "\n",
      "Classification report:\n",
      "              precision    recall  f1-score   support\n",
      "\n",
      "           0       0.39      0.64      0.48        11\n",
      "           1       0.92      0.80      0.85        55\n",
      "\n",
      "    accuracy                           0.77        66\n",
      "   macro avg       0.65      0.72      0.67        66\n",
      "weighted avg       0.83      0.77      0.79        66\n",
      "\n",
      "\n"
     ]
    },
    {
     "data": {
      "image/png": "[encoded data removed]",
      "text/plain": [
       "<Figure size 432x288 with 1 Axes>"
      ]
     },
     "metadata": {
      "needs_background": "light"
     },
     "output_type": "display_data"
    }
   ],
   "source": [
    "model = GradientBoostingClassifier(random_state=0)\n",
    "\n",
    "parameter_grid = {'n_estimators': [50, 100, 150],\n",
    "                  'learning_rate': [0.2, 0.3, 0.5, 1.0],\n",
    "                  'criterion': ['friedman_mse', 'squared_error'],\n",
    "                  'min_samples_split': [2, 5, 10],\n",
    "                  'min_samples_leaf': [1, 2, 4],\n",
    "                  'max_features': ['auto', None]}\n",
    "\n",
    "gb = grid_search(model, parameter_grid)"
   ]
  },
  {
   "cell_type": "markdown",
   "id": "0172aa14-3812-4471-a95c-5d7f830b2b2b",
   "metadata": {},
   "source": [
    "## XGBoost"
   ]
  },
  {
   "cell_type": "code",
   "execution_count": 13,
   "id": "f6919ebb-6696-404d-bcc3-5c9ce409e12e",
   "metadata": {},
   "outputs": [
    {
     "name": "stdout",
     "output_type": "stream",
     "text": [
      "Fitting 5 folds for each of 108 candidates, totalling 540 fits\n",
      "\n",
      "Best score: 0.9843478260869565\n",
      "Best parameters: {'alpha': 0.01, 'gamma': 0.01, 'learning_rate': 0.2, 'n_estimators': 300}\n",
      "Best estimator: XGBClassifier(alpha=0.01, base_score=0.5, booster='gbtree', colsample_bylevel=1,\n",
      "              colsample_bynode=1, colsample_bytree=1, eval_metric='auc',\n",
      "              gamma=0.01, gpu_id=-1, importance_type='gain',\n",
      "              interaction_constraints='', learning_rate=0.2, max_delta_step=0,\n",
      "              max_depth=6, min_child_weight=1, missing=nan,\n",
      "              monotone_constraints='()', n_estimators=300, n_jobs=12,\n",
      "              num_parallel_tree=1, random_state=0, reg_alpha=0.00999999978,\n",
      "              reg_lambda=1, scale_pos_weight=1, subsample=1,\n",
      "              tree_method='exact', use_label_encoder=False,\n",
      "              validate_parameters=1, verbosity=None)\n",
      "\n",
      "AUC Score:  0.8082644628099174\n",
      "Confusion matrix:\n",
      "[[ 8  3]\n",
      " [16 39]]\n",
      "\n",
      "Classification report:\n",
      "              precision    recall  f1-score   support\n",
      "\n",
      "           0       0.33      0.73      0.46        11\n",
      "           1       0.93      0.71      0.80        55\n",
      "\n",
      "    accuracy                           0.71        66\n",
      "   macro avg       0.63      0.72      0.63        66\n",
      "weighted avg       0.83      0.71      0.75        66\n",
      "\n",
      "\n"
     ]
    },
    {
     "data": {
      "image/png": "[encoded data removed]",
      "text/plain": [
       "<Figure size 432x288 with 1 Axes>"
      ]
     },
     "metadata": {
      "needs_background": "light"
     },
     "output_type": "display_data"
    }
   ],
   "source": [
    "model = XGBClassifier(objective='binary:logistic', use_label_encoder=False, eval_metric='auc')\n",
    "\n",
    "parameter_grid = {\n",
    "    'learning_rate': [0.2, 0.3, 0.5, 1.0],\n",
    "    'alpha': [0, 0.01, 0.1],\n",
    "    'n_estimators': [100, 200, 300],\n",
    "    'gamma': [0, 0.01, 0.1]\n",
    "}\n",
    "\n",
    "xgb = grid_search(model, parameter_grid)"
   ]
  },
  {
   "cell_type": "markdown",
   "id": "d6392f5e",
   "metadata": {},
   "source": [
    "# Predictions"
   ]
  },
  {
   "cell_type": "code",
   "execution_count": 14,
   "id": "f000b721-c269-4d03-9d58-e3e26418de50",
   "metadata": {},
   "outputs": [],
   "source": [
    "x_real = test_data[features]\n",
    "\n",
    "# change according to model\n",
    "model = xgb.fit(x, y)\n",
    "predictions = model.predict_proba(x_real)[:, -1]"
   ]
  },
  {
   "cell_type": "code",
   "execution_count": 15,
   "id": "46a2acaf-6e27-420e-854a-2532debb907b",
   "metadata": {
    "tags": []
   },
   "outputs": [],
   "source": [
    "submission = pd.DataFrame()\n",
    "submission['Id'] = test_data['loan_id']\n",
    "submission['Predicted'] = predictions\n",
    "\n",
    "submission.to_csv(date.today().strftime(\"%d-%m-%Y\") + '.csv', index=False)"
   ]
  },
  {
   "cell_type": "code",
   "execution_count": 16,
   "id": "f770ffa0-c4e4-4ef9-9423-08e3a42a57cd",
   "metadata": {},
   "outputs": [
    {
     "data": {
      "text/html": [
       "<div>\n",
       "<style scoped>\n",
       "    .dataframe tbody tr th:only-of-type {\n",
       "        vertical-align: middle;\n",
       "    }\n",
       "\n",
       "    .dataframe tbody tr th {\n",
       "        vertical-align: top;\n",
       "    }\n",
       "\n",
       "    .dataframe thead th {\n",
       "        text-align: right;\n",
       "    }\n",
       "</style>\n",
       "<table border=\"1\" class=\"dataframe\">\n",
       "  <thead>\n",
       "    <tr style=\"text-align: right;\">\n",
       "      <th></th>\n",
       "      <th>Id</th>\n",
       "      <th>Predicted</th>\n",
       "    </tr>\n",
       "  </thead>\n",
       "  <tbody>\n",
       "    <tr>\n",
       "      <th>0</th>\n",
       "      <td>4962</td>\n",
       "      <td>0.983563</td>\n",
       "    </tr>\n",
       "    <tr>\n",
       "      <th>1</th>\n",
       "      <td>4967</td>\n",
       "      <td>0.132292</td>\n",
       "    </tr>\n",
       "    <tr>\n",
       "      <th>2</th>\n",
       "      <td>4968</td>\n",
       "      <td>0.991416</td>\n",
       "    </tr>\n",
       "    <tr>\n",
       "      <th>3</th>\n",
       "      <td>4986</td>\n",
       "      <td>0.983563</td>\n",
       "    </tr>\n",
       "    <tr>\n",
       "      <th>4</th>\n",
       "      <td>4988</td>\n",
       "      <td>0.984128</td>\n",
       "    </tr>\n",
       "    <tr>\n",
       "      <th>...</th>\n",
       "      <td>...</td>\n",
       "      <td>...</td>\n",
       "    </tr>\n",
       "    <tr>\n",
       "      <th>349</th>\n",
       "      <td>7279</td>\n",
       "      <td>0.987704</td>\n",
       "    </tr>\n",
       "    <tr>\n",
       "      <th>350</th>\n",
       "      <td>7286</td>\n",
       "      <td>0.983563</td>\n",
       "    </tr>\n",
       "    <tr>\n",
       "      <th>351</th>\n",
       "      <td>7292</td>\n",
       "      <td>0.983563</td>\n",
       "    </tr>\n",
       "    <tr>\n",
       "      <th>352</th>\n",
       "      <td>7294</td>\n",
       "      <td>0.987704</td>\n",
       "    </tr>\n",
       "    <tr>\n",
       "      <th>353</th>\n",
       "      <td>7295</td>\n",
       "      <td>0.985272</td>\n",
       "    </tr>\n",
       "  </tbody>\n",
       "</table>\n",
       "<p>354 rows × 2 columns</p>\n",
       "</div>"
      ],
      "text/plain": [
       "       Id  Predicted\n",
       "0    4962   0.983563\n",
       "1    4967   0.132292\n",
       "2    4968   0.991416\n",
       "3    4986   0.983563\n",
       "4    4988   0.984128\n",
       "..    ...        ...\n",
       "349  7279   0.987704\n",
       "350  7286   0.983563\n",
       "351  7292   0.983563\n",
       "352  7294   0.987704\n",
       "353  7295   0.985272\n",
       "\n",
       "[354 rows x 2 columns]"
      ]
     },
     "execution_count": 16,
     "metadata": {},
     "output_type": "execute_result"
    }
   ],
   "source": [
    "submission"
   ]
  }
 ],
 "metadata": {
  "kernelspec": {
   "display_name": "Python 3",
   "language": "python",
   "name": "python3"
  },
  "language_info": {
   "codemirror_mode": {
    "name": "ipython",
    "version": 3
   },
   "file_extension": ".py",
   "mimetype": "text/x-python",
   "name": "python",
   "nbconvert_exporter": "python",
   "pygments_lexer": "ipython3",
   "version": "3.8.8"
  }
 },
 "nbformat": 4,
 "nbformat_minor": 5
}
