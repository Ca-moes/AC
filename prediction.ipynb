{
 "cells": [
  {
   "cell_type": "code",
   "execution_count": 1,
   "id": "b22a74f8-0528-4d01-af74-ee77dbbe333f",
   "metadata": {},
   "outputs": [],
   "source": [
    "import pandas as pd\n",
    "from datetime import date\n",
    "\n",
    "import sklearn.metrics as metrics\n",
    "import matplotlib.pyplot as plt\n",
    "\n",
    "from sklearn.model_selection import train_test_split\n",
    "from sklearn.preprocessing import StandardScaler\n",
    "\n",
    "from imblearn.over_sampling import SMOTE, SMOTENC\n",
    "from imblearn.pipeline import Pipeline\n",
    "\n",
    "from sklearn.model_selection import StratifiedKFold\n",
    "from sklearn.model_selection import GridSearchCV\n",
    "\n",
    "from sklearn.tree import DecisionTreeClassifier\n",
    "from sklearn.ensemble import RandomForestClassifier\n",
    "from sklearn.neighbors import KNeighborsClassifier\n",
    "from sklearn.svm import SVC\n",
    "from sklearn.ensemble import AdaBoostClassifier\n",
    "from sklearn.ensemble import GradientBoostingClassifier\n",
    "from xgboost import XGBClassifier\n",
    "from sklearn.neural_network import MLPClassifier\n",
    "\n",
    "pd.set_option('display.max_columns', 100)\n",
    "pd.set_option('display.width', 1000)"
   ]
  },
  {
   "cell_type": "markdown",
   "id": "d385e443-1054-4c76-9e97-28f0350b4b94",
   "metadata": {},
   "source": [
    "# Parameter Tuning\n",
    "\n",
    "Exhaustive search over specified parameter values for an estimator, tuning the models."
   ]
  },
  {
   "cell_type": "markdown",
   "id": "d808e6f3-c16a-4e7f-a551-301f8f963dbe",
   "metadata": {},
   "source": [
    "### Getting data"
   ]
  },
  {
   "cell_type": "code",
   "execution_count": 2,
   "id": "cae3f102",
   "metadata": {},
   "outputs": [],
   "source": [
    "train_data = pd.read_pickle(\"train_data.pkl\")\n",
    "test_data = pd.read_pickle(\"test_data.pkl\")\n",
    "\n",
    "features = list(train_data.columns)\n",
    "features.remove('status')\n",
    "features.remove('loan_id')\n",
    "\n",
    "label = 'status'\n",
    "\n",
    "x = train_data[features]\n",
    "y = train_data[label]"
   ]
  },
  {
   "cell_type": "markdown",
   "id": "663b67c2",
   "metadata": {},
   "source": [
    "### Train Test Split"
   ]
  },
  {
   "cell_type": "code",
   "execution_count": 3,
   "id": "97f84c34",
   "metadata": {},
   "outputs": [],
   "source": [
    "x_train, x_test, y_train, y_test = train_test_split(x, y, test_size=0.2, random_state=0)"
   ]
  },
  {
   "cell_type": "markdown",
   "id": "6858f836",
   "metadata": {},
   "source": [
    "### Normalization\n",
    "\n",
    "Some of the algorithms we plan on using (KNN and SVM) require the data to be standardized. To do so, we used a StandardScaler from SciKit Learn's preprocessing library."
   ]
  },
  {
   "cell_type": "code",
   "execution_count": 4,
   "id": "0befccd4-978e-4724-8dc1-b0e9b2d0ca19",
   "metadata": {},
   "outputs": [],
   "source": [
    "scaler = StandardScaler()\n",
    "\n",
    "scaler.fit(x_train)\n",
    "x_train = scaler.fit_transform(x_train)\n",
    "x_test = scaler.fit_transform(x_test)"
   ]
  },
  {
   "cell_type": "markdown",
   "id": "0a693f55",
   "metadata": {},
   "source": [
    "### Resampling\n",
    "Our data analysis stage showed that our working dataset was heavily umbalanced.\n",
    "\n",
    "Early exploratory analysis of classification methods proved that this was having a negative effect on the accuracy of the classifier, especially for the minority classes. To solve this problem we implemented resampling techniques that would generate a more balanced training set.\n",
    "\n",
    "For oversampling we used the SMOTE (Synthetic Minority Over-sampling Technique) algorithm. This generates new samples interpolated from the existing ones."
   ]
  },
  {
   "cell_type": "code",
   "execution_count": 5,
   "id": "68715226",
   "metadata": {},
   "outputs": [],
   "source": [
    "def apply_sampling(model):\n",
    "    smote = SMOTE(random_state=0)\n",
    "\n",
    "    pipeline = Pipeline([('smote', smote), ('clf', model)])\n",
    "\n",
    "    return pipeline"
   ]
  },
  {
   "cell_type": "markdown",
   "id": "bb43e278-29e0-496d-93ee-7f3a1f6f90be",
   "metadata": {},
   "source": [
    "Grid search function\n",
    "\n",
    "Apply Smote on every fold and tune the parameters"
   ]
  },
  {
   "cell_type": "code",
   "execution_count": 15,
   "id": "24e3515f-0b95-4150-85c9-ecbdc9ecb96a",
   "metadata": {},
   "outputs": [],
   "source": [
    "def grid_search(model, parameter_grid):\n",
    "    cross_validation = StratifiedKFold(n_splits=5)\n",
    "\n",
    "    pipe = apply_sampling(model)\n",
    "\n",
    "    grid_search = GridSearchCV(pipe,\n",
    "                               param_grid=parameter_grid,\n",
    "                               scoring='roc_auc',\n",
    "                               cv=cross_validation,\n",
    "                               verbose=4,\n",
    "                               n_jobs=-1,\n",
    "                               refit=True)\n",
    "\n",
    "    grid_search.fit(x_train, y_train)\n",
    "\n",
    "    print(f\"\\nBest score: {grid_search.best_score_}\")\n",
    "    print(f\"Best parameters: {grid_search.best_params_}\")\n",
    "    print(f\"Best estimator: {grid_search.best_estimator_}\")\n",
    "    \n",
    "    best_model = grid_search.best_estimator_\n",
    "    best_model_pred = best_model.predict(x_test)\n",
    "    best_model_pred_proba = best_model.predict_proba(x_test)[:, -1]\n",
    "\n",
    "    # Metrics\n",
    "    print(\"\\nAUC Score: \", metrics.roc_auc_score(y_test, best_model_pred_proba))\n",
    "    print(f\"Confusion matrix:\\n{metrics.confusion_matrix(y_test, best_model_pred)}\\n\")\n",
    "    print(f\"Classification report:\\n{metrics.classification_report(y_test, best_model_pred)}\\n\")\n",
    "\n",
    "    metrics.plot_roc_curve(best_model, x_test, y_test, pos_label=0)\n",
    "    #plt.savefig(f\"{algorithm}.png\")\n",
    "    plt.show\n",
    "\n",
    "    return best_model"
   ]
  },
  {
   "cell_type": "markdown",
   "id": "a23ed17f-770c-4036-a0db-cc3b51331118",
   "metadata": {
    "tags": []
   },
   "source": [
    "## Decision Tree Classifier"
   ]
  },
  {
   "cell_type": "code",
   "execution_count": 7,
   "id": "d5ae38d3-14ed-4024-bc37-b529b19eb989",
   "metadata": {},
   "outputs": [
    {
     "name": "stdout",
     "output_type": "stream",
     "text": [
      "Fitting 5 folds for each of 1024 candidates, totalling 5120 fits\n"
     ]
    },
    {
     "name": "stderr",
     "output_type": "stream",
     "text": [
      "C:\\Users\\fmna\\anaconda3\\lib\\site-packages\\sklearn\\tree\\_classes.py:315: FutureWarning: The min_impurity_split parameter is deprecated. Its default value has changed from 1e-7 to 0 in version 0.23, and it will be removed in 1.0 (renaming of 0.25). Use the min_impurity_decrease parameter instead.\n",
      "  warnings.warn(\n"
     ]
    },
    {
     "name": "stdout",
     "output_type": "stream",
     "text": [
      "\n",
      "Best score: 0.800799963924964\n",
      "Best parameters: {'clf__class_weight': 'balanced', 'clf__criterion': 'entropy', 'clf__max_features': 'sqrt', 'clf__min_impurity_split': 0.05, 'clf__min_samples_leaf': 4, 'clf__min_samples_split': 2, 'clf__splitter': 'best'}\n",
      "Best estimator: Pipeline(steps=[('smote', SMOTE(random_state=0)),\n",
      "                ('clf',\n",
      "                 DecisionTreeClassifier(class_weight='balanced',\n",
      "                                        criterion='entropy',\n",
      "                                        max_features='sqrt',\n",
      "                                        min_impurity_split=0.05,\n",
      "                                        min_samples_leaf=4, random_state=0))])\n",
      "\n",
      "AUC Score:  0.4719827586206896\n",
      "Confusion matrix:\n",
      "[[ 2  6]\n",
      " [13 45]]\n",
      "\n",
      "Classification report:\n",
      "              precision    recall  f1-score   support\n",
      "\n",
      "           0       0.13      0.25      0.17         8\n",
      "           1       0.88      0.78      0.83        58\n",
      "\n",
      "    accuracy                           0.71        66\n",
      "   macro avg       0.51      0.51      0.50        66\n",
      "weighted avg       0.79      0.71      0.75        66\n",
      "\n",
      "\n"
     ]
    },
    {
     "data": {
      "image/png": "[encoded data removed]",
      "text/plain": [
       "<Figure size 432x288 with 1 Axes>"
      ]
     },
     "metadata": {
      "needs_background": "light"
     },
     "output_type": "display_data"
    }
   ],
   "source": [
    "model = DecisionTreeClassifier(random_state=0)\n",
    "\n",
    "parameter_grid = {'clf__criterion': ['gini', 'entropy'],\n",
    "            'clf__splitter': ['best', 'random'],\n",
    "            'clf__max_features': ['sqrt', 'log2'],\n",
    "            'clf__min_samples_split':  [2, 4, 6, 8],\n",
    "            'clf__min_samples_leaf':  [1, 2, 4, 6],\n",
    "            'clf__min_impurity_split': [0.05, 0.1, 0.23, 0.3],\n",
    "            'clf__class_weight': [\"balanced\", None]}\n",
    "\n",
    "dt = grid_search(model, parameter_grid)"
   ]
  },
  {
   "cell_type": "markdown",
   "id": "280fd101-1eb2-4668-a0c5-e27a0a9baf01",
   "metadata": {},
   "source": [
    "## Random Forest"
   ]
  },
  {
   "cell_type": "code",
   "execution_count": 8,
   "id": "dbd440dc-b90e-4bb9-8923-b579a531bdfe",
   "metadata": {},
   "outputs": [
    {
     "name": "stdout",
     "output_type": "stream",
     "text": [
      "Fitting 5 folds for each of 144 candidates, totalling 720 fits\n",
      "\n",
      "Best score: 0.8486345598845599\n",
      "Best parameters: {'clf__criterion': 'gini', 'clf__max_features': 'auto', 'clf__min_samples_leaf': 1, 'clf__min_samples_split': 5, 'clf__n_estimators': 200}\n",
      "Best estimator: Pipeline(steps=[('smote', SMOTE(random_state=0)),\n",
      "                ('clf',\n",
      "                 RandomForestClassifier(min_samples_split=5, n_estimators=200,\n",
      "                                        random_state=0))])\n",
      "\n",
      "AUC Score:  0.8211206896551725\n",
      "Confusion matrix:\n",
      "[[ 4  4]\n",
      " [13 45]]\n",
      "\n",
      "Classification report:\n",
      "              precision    recall  f1-score   support\n",
      "\n",
      "           0       0.24      0.50      0.32         8\n",
      "           1       0.92      0.78      0.84        58\n",
      "\n",
      "    accuracy                           0.74        66\n",
      "   macro avg       0.58      0.64      0.58        66\n",
      "weighted avg       0.84      0.74      0.78        66\n",
      "\n",
      "\n"
     ]
    },
    {
     "data": {
      "image/png": "[encoded data removed]",
      "text/plain": [
       "<Figure size 432x288 with 1 Axes>"
      ]
     },
     "metadata": {
      "needs_background": "light"
     },
     "output_type": "display_data"
    }
   ],
   "source": [
    "model = RandomForestClassifier(random_state=0)\n",
    "\n",
    "parameter_grid = {'clf__n_estimators': [100, 150, 200, 250],\n",
    "                  'clf__criterion': ['gini', 'entropy'],\n",
    "                  'clf__min_samples_split': [2, 5, 10],\n",
    "                  'clf__min_samples_leaf': [1, 2, 4],\n",
    "                  'clf__max_features': ['auto', None]}\n",
    "\n",
    "rf = grid_search(model, parameter_grid)"
   ]
  },
  {
   "cell_type": "markdown",
   "id": "6550df1a-a43e-45c5-aa6f-55ec7999ce75",
   "metadata": {},
   "source": [
    "## KNN"
   ]
  },
  {
   "cell_type": "code",
   "execution_count": 9,
   "id": "cd5d1429-156d-4fc8-9784-c0740c4b59f0",
   "metadata": {},
   "outputs": [
    {
     "name": "stdout",
     "output_type": "stream",
     "text": [
      "Fitting 5 folds for each of 18 candidates, totalling 90 fits\n",
      "\n",
      "Best score: 0.7700577200577201\n",
      "Best parameters: {'clf__algorithm': 'ball_tree', 'clf__n_neighbors': 10, 'clf__weights': 'distance'}\n",
      "Best estimator: Pipeline(steps=[('smote', SMOTE(random_state=0)),\n",
      "                ('clf',\n",
      "                 KNeighborsClassifier(algorithm='ball_tree', n_neighbors=10,\n",
      "                                      weights='distance'))])\n",
      "\n",
      "AUC Score:  0.8135775862068966\n",
      "Confusion matrix:\n",
      "[[ 6  2]\n",
      " [14 44]]\n",
      "\n",
      "Classification report:\n",
      "              precision    recall  f1-score   support\n",
      "\n",
      "           0       0.30      0.75      0.43         8\n",
      "           1       0.96      0.76      0.85        58\n",
      "\n",
      "    accuracy                           0.76        66\n",
      "   macro avg       0.63      0.75      0.64        66\n",
      "weighted avg       0.88      0.76      0.80        66\n",
      "\n",
      "\n"
     ]
    },
    {
     "data": {
      "image/png": "[encoded data removed]",
      "text/plain": [
       "<Figure size 432x288 with 1 Axes>"
      ]
     },
     "metadata": {
      "needs_background": "light"
     },
     "output_type": "display_data"
    }
   ],
   "source": [
    "model = KNeighborsClassifier()\n",
    "\n",
    "parameter_grid = {'clf__n_neighbors': [5, 10, 15],\n",
    "                  'clf__weights': ['uniform', 'distance'],\n",
    "                  'clf__algorithm': ['ball_tree', 'kd_tree', 'brute']}\n",
    "\n",
    "knn = grid_search(model, parameter_grid)"
   ]
  },
  {
   "cell_type": "markdown",
   "id": "f35201d2-51af-4e89-a0b3-1b16820cb937",
   "metadata": {},
   "source": [
    "## SVM"
   ]
  },
  {
   "cell_type": "code",
   "execution_count": 10,
   "id": "1e8f1f62-6604-4dd8-ad89-6c73dc001ca2",
   "metadata": {},
   "outputs": [
    {
     "name": "stdout",
     "output_type": "stream",
     "text": [
      "Fitting 5 folds for each of 32 candidates, totalling 160 fits\n",
      "\n",
      "Best score: 0.7788979076479076\n",
      "Best parameters: {'clf__C': 1, 'clf__gamma': 'scale', 'clf__kernel': 'sigmoid'}\n",
      "Best estimator: Pipeline(steps=[('smote', SMOTE(random_state=0)),\n",
      "                ('clf',\n",
      "                 SVC(C=1, kernel='sigmoid', probability=True, random_state=0))])\n",
      "\n",
      "AUC Score:  0.8469827586206897\n",
      "Confusion matrix:\n",
      "[[ 6  2]\n",
      " [16 42]]\n",
      "\n",
      "Classification report:\n",
      "              precision    recall  f1-score   support\n",
      "\n",
      "           0       0.27      0.75      0.40         8\n",
      "           1       0.95      0.72      0.82        58\n",
      "\n",
      "    accuracy                           0.73        66\n",
      "   macro avg       0.61      0.74      0.61        66\n",
      "weighted avg       0.87      0.73      0.77        66\n",
      "\n",
      "\n"
     ]
    },
    {
     "data": {
      "image/png": "[encoded data removed]",
      "text/plain": [
       "<Figure size 432x288 with 1 Axes>"
      ]
     },
     "metadata": {
      "needs_background": "light"
     },
     "output_type": "display_data"
    }
   ],
   "source": [
    "model = SVC(random_state=0, probability=True)\n",
    "\n",
    "parameter_grid = {'clf__C': [0.1, 1, 10, 100],\n",
    "              'clf__kernel': ['linear', 'poly', 'rbf', 'sigmoid'],\n",
    "              'clf__gamma': ['scale', 'auto']}\n",
    "\n",
    "svm = grid_search(model, parameter_grid)"
   ]
  },
  {
   "cell_type": "markdown",
   "id": "df9a3a04-3449-473d-9d6c-b802bbb1c0de",
   "metadata": {},
   "source": [
    "## AdaBoost\n"
   ]
  },
  {
   "cell_type": "code",
   "execution_count": 11,
   "id": "f0ccbcf0-e49f-409d-967e-ec7683553941",
   "metadata": {
    "tags": []
   },
   "outputs": [
    {
     "name": "stdout",
     "output_type": "stream",
     "text": [
      "Fitting 5 folds for each of 9 candidates, totalling 45 fits\n",
      "\n",
      "Best score: 0.7455158730158729\n",
      "Best parameters: {'clf__learning_rate': 0.3, 'clf__n_estimators': 100}\n",
      "Best estimator: Pipeline(steps=[('smote', SMOTE(random_state=0)),\n",
      "                ('clf',\n",
      "                 AdaBoostClassifier(learning_rate=0.3, n_estimators=100,\n",
      "                                    random_state=0))])\n",
      "\n",
      "AUC Score:  0.7068965517241379\n",
      "Confusion matrix:\n",
      "[[ 2  6]\n",
      " [ 4 54]]\n",
      "\n",
      "Classification report:\n",
      "              precision    recall  f1-score   support\n",
      "\n",
      "           0       0.33      0.25      0.29         8\n",
      "           1       0.90      0.93      0.92        58\n",
      "\n",
      "    accuracy                           0.85        66\n",
      "   macro avg       0.62      0.59      0.60        66\n",
      "weighted avg       0.83      0.85      0.84        66\n",
      "\n",
      "\n"
     ]
    },
    {
     "data": {
      "image/png": "[encoded data removed]",
      "text/plain": [
       "<Figure size 432x288 with 1 Axes>"
      ]
     },
     "metadata": {
      "needs_background": "light"
     },
     "output_type": "display_data"
    }
   ],
   "source": [
    "model = AdaBoostClassifier(random_state=0)\n",
    "\n",
    "parameter_grid = {'clf__n_estimators': [50, 100, 150],\n",
    "                  'clf__learning_rate': [0.3, 0.5, 1.0]}\n",
    "\n",
    "ada = grid_search(model, parameter_grid)"
   ]
  },
  {
   "cell_type": "markdown",
   "id": "68ff7630-42d1-4d0b-a012-91dfba3e9eee",
   "metadata": {},
   "source": [
    "## GradientBoost"
   ]
  },
  {
   "cell_type": "code",
   "execution_count": 12,
   "id": "8d976512-6e2c-4b1f-bfcb-a25308f3c37e",
   "metadata": {},
   "outputs": [
    {
     "name": "stdout",
     "output_type": "stream",
     "text": [
      "Fitting 5 folds for each of 432 candidates, totalling 2160 fits\n"
     ]
    },
    {
     "name": "stderr",
     "output_type": "stream",
     "text": [
      "C:\\Users\\fmna\\anaconda3\\lib\\site-packages\\sklearn\\model_selection\\_search.py:918: UserWarning: One or more of the test scores are non-finite: [0.77965729 0.7606728  0.76609848 0.78127886 0.76873016 0.78489719\n",
      " 0.78096681 0.7737987  0.78907468 0.78150072 0.77891955 0.78046537\n",
      " 0.79349387 0.77262446 0.77657648 0.77609488 0.76794553 0.76441558\n",
      " 0.79216089 0.7838943  0.78337662 0.79216089 0.7838943  0.78337662\n",
      " 0.79565296 0.78505952 0.78152597 0.77965729 0.7606728  0.76609848\n",
      " 0.78127886 0.76873016 0.78489719 0.78096681 0.7737987  0.78907468\n",
      " 0.78150072 0.77891955 0.78046537 0.79349387 0.77262446 0.77657648\n",
      " 0.77609488 0.76794553 0.76441558 0.79216089 0.7838943  0.78337662\n",
      " 0.79216089 0.7838943  0.78337662 0.79565296 0.78505952 0.78152597\n",
      " 0.75882576 0.77216089 0.7828373  0.75263528 0.75991703 0.76767857\n",
      " 0.75376804 0.76430736 0.77874459 0.78210678 0.78919553 0.79956349\n",
      " 0.765193   0.78863636 0.79519481 0.77764069 0.77525613 0.78222403\n",
      " 0.79289322 0.7812518  0.79347403 0.79289322 0.7812518  0.79347403\n",
      " 0.77698954 0.78476371 0.79050325 0.75882576 0.77216089 0.7828373\n",
      " 0.75263528 0.75991703 0.76767857 0.75376804 0.76430736 0.77874459\n",
      " 0.78210678 0.78919553 0.79956349 0.765193   0.78863636 0.79519481\n",
      " 0.77764069 0.77525613 0.78222403 0.79289322 0.7812518  0.79347403\n",
      " 0.79289322 0.7812518  0.79347403 0.77698954 0.78476371 0.79050325\n",
      " 0.81272547 0.79065837 0.79078824 0.81330267 0.80106421 0.80168651\n",
      " 0.80417208 0.77856602 0.78585137 0.7834614  0.78489899 0.79544192\n",
      " 0.77732864 0.78265152 0.79115981 0.790864   0.79128968 0.78710859\n",
      " 0.78823232 0.79003608 0.79414683 0.78823232 0.79003608 0.79414683\n",
      " 0.7727381  0.80701659 0.79332792 0.81272547 0.79065837 0.79078824\n",
      " 0.81330267 0.80106421 0.80168651 0.80417208 0.77856602 0.78585137\n",
      " 0.7834614  0.78489899 0.79544192 0.77732864 0.78265152 0.79115981\n",
      " 0.790864   0.79128968 0.78710859 0.78823232 0.79003608 0.79414683\n",
      " 0.78823232 0.79003608 0.79414683 0.7727381  0.80701659 0.79332792\n",
      " 0.7805267  0.79054473 0.78945887 0.80651515 0.81681277 0.82809524\n",
      " 0.79047078 0.81715909 0.81941017 0.80643939 0.80388348 0.80734668\n",
      " 0.75245491 0.75598846 0.78458153 0.76069084 0.76722403 0.7722583\n",
      " 0.79258838 0.79460137 0.80457612 0.79258838 0.79460137 0.80457612\n",
      " 0.77336039 0.78234127 0.79102092 0.7805267  0.79054473 0.78945887\n",
      " 0.80651515 0.81681277 0.82809524 0.79047078 0.81715909 0.81941017\n",
      " 0.80643939 0.80388348 0.80734668 0.75245491 0.75598846 0.78458153\n",
      " 0.76069084 0.76722403 0.7722583  0.79258838 0.79460137 0.80457612\n",
      " 0.79258838 0.79460137 0.80457612 0.77336039 0.78234127 0.79102092\n",
      "        nan        nan        nan        nan        nan        nan\n",
      "        nan        nan        nan        nan        nan        nan\n",
      "        nan        nan        nan        nan        nan        nan\n",
      "        nan        nan        nan        nan        nan        nan\n",
      "        nan        nan        nan        nan        nan        nan\n",
      "        nan        nan        nan        nan        nan        nan\n",
      "        nan        nan        nan        nan        nan        nan\n",
      "        nan        nan        nan        nan        nan        nan\n",
      "        nan        nan        nan        nan        nan        nan\n",
      "        nan        nan        nan        nan        nan        nan\n",
      "        nan        nan        nan        nan        nan        nan\n",
      "        nan        nan        nan        nan        nan        nan\n",
      "        nan        nan        nan        nan        nan        nan\n",
      "        nan        nan        nan        nan        nan        nan\n",
      "        nan        nan        nan        nan        nan        nan\n",
      "        nan        nan        nan        nan        nan        nan\n",
      "        nan        nan        nan        nan        nan        nan\n",
      "        nan        nan        nan        nan        nan        nan\n",
      "        nan        nan        nan        nan        nan        nan\n",
      "        nan        nan        nan        nan        nan        nan\n",
      "        nan        nan        nan        nan        nan        nan\n",
      "        nan        nan        nan        nan        nan        nan\n",
      "        nan        nan        nan        nan        nan        nan\n",
      "        nan        nan        nan        nan        nan        nan\n",
      "        nan        nan        nan        nan        nan        nan\n",
      "        nan        nan        nan        nan        nan        nan\n",
      "        nan        nan        nan        nan        nan        nan\n",
      "        nan        nan        nan        nan        nan        nan\n",
      "        nan        nan        nan        nan        nan        nan\n",
      "        nan        nan        nan        nan        nan        nan\n",
      "        nan        nan        nan        nan        nan        nan\n",
      "        nan        nan        nan        nan        nan        nan\n",
      "        nan        nan        nan        nan        nan        nan\n",
      "        nan        nan        nan        nan        nan        nan\n",
      "        nan        nan        nan        nan        nan        nan\n",
      "        nan        nan        nan        nan        nan        nan]\n",
      "  warnings.warn(\n"
     ]
    },
    {
     "name": "stdout",
     "output_type": "stream",
     "text": [
      "\n",
      "Best score: 0.8280952380952382\n",
      "Best parameters: {'clf__criterion': 'friedman_mse', 'clf__learning_rate': 1.0, 'clf__max_features': 'auto', 'clf__min_samples_leaf': 1, 'clf__min_samples_split': 5, 'clf__n_estimators': 150}\n",
      "Best estimator: Pipeline(steps=[('smote', SMOTE(random_state=0)),\n",
      "                ('clf',\n",
      "                 GradientBoostingClassifier(learning_rate=1.0,\n",
      "                                            max_features='auto',\n",
      "                                            min_samples_split=5,\n",
      "                                            n_estimators=150,\n",
      "                                            random_state=0))])\n",
      "\n",
      "AUC Score:  0.8038793103448276\n",
      "Confusion matrix:\n",
      "[[ 4  4]\n",
      " [ 9 49]]\n",
      "\n",
      "Classification report:\n",
      "              precision    recall  f1-score   support\n",
      "\n",
      "           0       0.31      0.50      0.38         8\n",
      "           1       0.92      0.84      0.88        58\n",
      "\n",
      "    accuracy                           0.80        66\n",
      "   macro avg       0.62      0.67      0.63        66\n",
      "weighted avg       0.85      0.80      0.82        66\n",
      "\n",
      "\n"
     ]
    },
    {
     "data": {
      "image/png": "[encoded data removed]",
      "text/plain": [
       "<Figure size 432x288 with 1 Axes>"
      ]
     },
     "metadata": {
      "needs_background": "light"
     },
     "output_type": "display_data"
    }
   ],
   "source": [
    "model = GradientBoostingClassifier(random_state=0)\n",
    "\n",
    "parameter_grid = {'clf__n_estimators': [50, 100, 150],\n",
    "                  'clf__learning_rate': [0.2, 0.3, 0.5, 1.0],\n",
    "                  'clf__criterion': ['friedman_mse', 'squared_error'],\n",
    "                  'clf__min_samples_split': [2, 5, 10],\n",
    "                  'clf__min_samples_leaf': [1, 2, 4],\n",
    "                  'clf__max_features': ['auto', None]}\n",
    "\n",
    "gb = grid_search(model, parameter_grid)"
   ]
  },
  {
   "cell_type": "markdown",
   "id": "0172aa14-3812-4471-a95c-5d7f830b2b2b",
   "metadata": {},
   "source": [
    "## XGBoost"
   ]
  },
  {
   "cell_type": "code",
   "execution_count": 13,
   "id": "f6919ebb-6696-404d-bcc3-5c9ce409e12e",
   "metadata": {},
   "outputs": [
    {
     "name": "stdout",
     "output_type": "stream",
     "text": [
      "Fitting 5 folds for each of 108 candidates, totalling 540 fits\n",
      "\n",
      "Best score: 0.8225829725829726\n",
      "Best parameters: {'clf__alpha': 0, 'clf__gamma': 0.1, 'clf__learning_rate': 0.3, 'clf__n_estimators': 100}\n",
      "Best estimator: Pipeline(steps=[('smote', SMOTE(random_state=0)),\n",
      "                ('clf',\n",
      "                 XGBClassifier(alpha=0, base_score=0.5, booster='gbtree',\n",
      "                               colsample_bylevel=1, colsample_bynode=1,\n",
      "                               colsample_bytree=1, eval_metric='auc', gamma=0.1,\n",
      "                               gpu_id=-1, importance_type='gain',\n",
      "                               interaction_constraints='', learning_rate=0.3,\n",
      "                               max_delta_step=0, max_depth=6,\n",
      "                               min_child_weight=1, missing=nan,\n",
      "                               monotone_constraints='()', n_estimators=100,\n",
      "                               n_jobs=12, num_parallel_tree=1, random_state=0,\n",
      "                               reg_alpha=0, reg_lambda=1, scale_pos_weight=1,\n",
      "                               subsample=1, tree_method='exact',\n",
      "                               use_label_encoder=False, validate_parameters=1,\n",
      "                               verbosity=None))])\n",
      "\n",
      "AUC Score:  0.8189655172413792\n",
      "Confusion matrix:\n",
      "[[ 7  1]\n",
      " [22 36]]\n",
      "\n",
      "Classification report:\n",
      "              precision    recall  f1-score   support\n",
      "\n",
      "           0       0.24      0.88      0.38         8\n",
      "           1       0.97      0.62      0.76        58\n",
      "\n",
      "    accuracy                           0.65        66\n",
      "   macro avg       0.61      0.75      0.57        66\n",
      "weighted avg       0.88      0.65      0.71        66\n",
      "\n",
      "\n"
     ]
    },
    {
     "data": {
      "image/png": "[encoded data removed]",
      "text/plain": [
       "<Figure size 432x288 with 1 Axes>"
      ]
     },
     "metadata": {
      "needs_background": "light"
     },
     "output_type": "display_data"
    }
   ],
   "source": [
    "model = XGBClassifier(objective='binary:logistic', use_label_encoder=False, eval_metric='auc')\n",
    "\n",
    "parameter_grid = {\n",
    "    'clf__learning_rate': [0.2, 0.3, 0.5, 1.0],\n",
    "    'clf__alpha': [0, 0.01, 0.1],\n",
    "    'clf__n_estimators': [100, 200, 300],\n",
    "    'clf__gamma': [0, 0.01, 0.1]\n",
    "}\n",
    "\n",
    "xgb = grid_search(model, parameter_grid)"
   ]
  },
  {
   "cell_type": "markdown",
   "id": "2ac3017d",
   "metadata": {},
   "source": [
    "## MLP"
   ]
  },
  {
   "cell_type": "code",
   "execution_count": 17,
   "id": "e00ad1a8",
   "metadata": {},
   "outputs": [
    {
     "name": "stdout",
     "output_type": "stream",
     "text": [
      "Fitting 5 folds for each of 25 candidates, totalling 125 fits\n"
     ]
    },
    {
     "name": "stderr",
     "output_type": "stream",
     "text": [
      "C:\\Users\\fmna\\anaconda3\\lib\\site-packages\\sklearn\\neural_network\\_multilayer_perceptron.py:614: ConvergenceWarning: Stochastic Optimizer: Maximum iterations (200) reached and the optimization hasn't converged yet.\n",
      "  warnings.warn(\n"
     ]
    },
    {
     "name": "stdout",
     "output_type": "stream",
     "text": [
      "\n",
      "Best score: 0.799810606060606\n",
      "Best parameters: {'clf__alpha': 0.85, 'clf__hidden_layer_sizes': 10}\n",
      "Best estimator: Pipeline(steps=[('smote', SMOTE(random_state=0)),\n",
      "                ('clf',\n",
      "                 MLPClassifier(alpha=0.85, hidden_layer_sizes=10,\n",
      "                               random_state=0))])\n",
      "\n",
      "AUC Score:  0.877155172413793\n",
      "Confusion matrix:\n",
      "[[ 6  2]\n",
      " [11 47]]\n",
      "\n",
      "Classification report:\n",
      "              precision    recall  f1-score   support\n",
      "\n",
      "           0       0.35      0.75      0.48         8\n",
      "           1       0.96      0.81      0.88        58\n",
      "\n",
      "    accuracy                           0.80        66\n",
      "   macro avg       0.66      0.78      0.68        66\n",
      "weighted avg       0.89      0.80      0.83        66\n",
      "\n",
      "\n"
     ]
    },
    {
     "data": {
      "image/png": "[encoded data removed]",
      "text/plain": [
       "<Figure size 432x288 with 1 Axes>"
      ]
     },
     "metadata": {
      "needs_background": "light"
     },
     "output_type": "display_data"
    }
   ],
   "source": [
    "model = MLPClassifier(alpha=1, hidden_layer_sizes=150, random_state=0)\n",
    "\n",
    "parameter_grid = {'clf__alpha': [0.1, 0.25, 0.5, 0.75, 0.85],\n",
    "                    'clf__hidden_layer_sizes': [10, 20, 30, 60, 100],\n",
    "                    \n",
    "                    }\n",
    "\n",
    "mlp = grid_search(model, parameter_grid)"
   ]
  },
  {
   "cell_type": "markdown",
   "id": "d6392f5e",
   "metadata": {},
   "source": [
    "# Predictions"
   ]
  },
  {
   "cell_type": "code",
   "execution_count": 22,
   "id": "f000b721-c269-4d03-9d58-e3e26418de50",
   "metadata": {},
   "outputs": [
    {
     "data": {
      "text/html": [
       "<div>\n",
       "<style scoped>\n",
       "    .dataframe tbody tr th:only-of-type {\n",
       "        vertical-align: middle;\n",
       "    }\n",
       "\n",
       "    .dataframe tbody tr th {\n",
       "        vertical-align: top;\n",
       "    }\n",
       "\n",
       "    .dataframe thead th {\n",
       "        text-align: right;\n",
       "    }\n",
       "</style>\n",
       "<table border=\"1\" class=\"dataframe\">\n",
       "  <thead>\n",
       "    <tr style=\"text-align: right;\">\n",
       "      <th></th>\n",
       "      <th>Id</th>\n",
       "      <th>Predicted</th>\n",
       "    </tr>\n",
       "  </thead>\n",
       "  <tbody>\n",
       "    <tr>\n",
       "      <th>0</th>\n",
       "      <td>4962</td>\n",
       "      <td>0.746863</td>\n",
       "    </tr>\n",
       "    <tr>\n",
       "      <th>1</th>\n",
       "      <td>4967</td>\n",
       "      <td>0.569321</td>\n",
       "    </tr>\n",
       "    <tr>\n",
       "      <th>2</th>\n",
       "      <td>4968</td>\n",
       "      <td>0.746863</td>\n",
       "    </tr>\n",
       "    <tr>\n",
       "      <th>3</th>\n",
       "      <td>4986</td>\n",
       "      <td>0.746863</td>\n",
       "    </tr>\n",
       "    <tr>\n",
       "      <th>4</th>\n",
       "      <td>4988</td>\n",
       "      <td>0.774815</td>\n",
       "    </tr>\n",
       "    <tr>\n",
       "      <th>...</th>\n",
       "      <td>...</td>\n",
       "      <td>...</td>\n",
       "    </tr>\n",
       "    <tr>\n",
       "      <th>349</th>\n",
       "      <td>7279</td>\n",
       "      <td>0.746863</td>\n",
       "    </tr>\n",
       "    <tr>\n",
       "      <th>350</th>\n",
       "      <td>7286</td>\n",
       "      <td>0.782315</td>\n",
       "    </tr>\n",
       "    <tr>\n",
       "      <th>351</th>\n",
       "      <td>7292</td>\n",
       "      <td>0.782315</td>\n",
       "    </tr>\n",
       "    <tr>\n",
       "      <th>352</th>\n",
       "      <td>7294</td>\n",
       "      <td>0.782315</td>\n",
       "    </tr>\n",
       "    <tr>\n",
       "      <th>353</th>\n",
       "      <td>7295</td>\n",
       "      <td>0.782315</td>\n",
       "    </tr>\n",
       "  </tbody>\n",
       "</table>\n",
       "<p>354 rows × 2 columns</p>\n",
       "</div>"
      ],
      "text/plain": [
       "       Id  Predicted\n",
       "0    4962   0.746863\n",
       "1    4967   0.569321\n",
       "2    4968   0.746863\n",
       "3    4986   0.746863\n",
       "4    4988   0.774815\n",
       "..    ...        ...\n",
       "349  7279   0.746863\n",
       "350  7286   0.782315\n",
       "351  7292   0.782315\n",
       "352  7294   0.782315\n",
       "353  7295   0.782315\n",
       "\n",
       "[354 rows x 2 columns]"
      ]
     },
     "execution_count": 22,
     "metadata": {},
     "output_type": "execute_result"
    }
   ],
   "source": [
    "x_real = test_data[features]\n",
    "\n",
    "# change according to model\n",
    "predictions = rf['clf'].predict_proba(x_real)[:, -1]\n",
    "\n",
    "submission = pd.DataFrame()\n",
    "submission['Id'] = test_data['loan_id']\n",
    "submission['Predicted'] = predictions\n",
    "\n",
    "submission.to_csv(date.today().strftime(\"%d-%m-%Y\") + '.csv', index=False)\n",
    "\n",
    "submission"
   ]
  }
 ],
 "metadata": {
  "kernelspec": {
   "display_name": "Python 3",
   "language": "python",
   "name": "python3"
  },
  "language_info": {
   "codemirror_mode": {
    "name": "ipython",
    "version": 3
   },
   "file_extension": ".py",
   "mimetype": "text/x-python",
   "name": "python",
   "nbconvert_exporter": "python",
   "pygments_lexer": "ipython3",
   "version": "3.8.8"
  }
 },
 "nbformat": 4,
 "nbformat_minor": 5
}
