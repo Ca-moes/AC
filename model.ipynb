{
 "cells": [
  {
   "cell_type": "markdown",
   "id": "d07d6cc5-dac6-4ae1-a642-352ee4c07505",
   "metadata": {},
   "source": [
    "# Models Evaluation\n",
    "\n",
    "1. Create models\n",
    "2. Compare models\n",
    "3. Export .csv file with results"
   ]
  },
  {
   "cell_type": "code",
   "execution_count": 8,
   "id": "f3582d15-6e34-40d8-89a3-16c49a35a05b",
   "metadata": {},
   "outputs": [],
   "source": [
    "# Load libraries\n",
    "import pandas as pd\n",
    "from sklearn.tree import DecisionTreeClassifier      # Import Decision Tree Classifier\n",
    "from sklearn.model_selection import train_test_split # Import train_test_split function\n",
    "from sklearn import metrics                          #Import scikit-learn metrics module for accuracy calculation"
   ]
  },
  {
   "cell_type": "code",
   "execution_count": 9,
   "id": "be057396-698d-45b5-974b-8d191fd4beb5",
   "metadata": {},
   "outputs": [
    {
     "data": {
      "text/html": [
       "<div>\n",
       "<style scoped>\n",
       "    .dataframe tbody tr th:only-of-type {\n",
       "        vertical-align: middle;\n",
       "    }\n",
       "\n",
       "    .dataframe tbody tr th {\n",
       "        vertical-align: top;\n",
       "    }\n",
       "\n",
       "    .dataframe thead th {\n",
       "        text-align: right;\n",
       "    }\n",
       "</style>\n",
       "<table border=\"1\" class=\"dataframe\">\n",
       "  <thead>\n",
       "    <tr style=\"text-align: right;\">\n",
       "      <th></th>\n",
       "      <th>loan_id</th>\n",
       "      <th>account_id</th>\n",
       "      <th>date_loan</th>\n",
       "      <th>amount_loan</th>\n",
       "      <th>duration</th>\n",
       "      <th>payments</th>\n",
       "      <th>status</th>\n",
       "    </tr>\n",
       "  </thead>\n",
       "  <tbody>\n",
       "    <tr>\n",
       "      <th>count</th>\n",
       "      <td>328.000000</td>\n",
       "      <td>328.000000</td>\n",
       "      <td>328.000000</td>\n",
       "      <td>328.000000</td>\n",
       "      <td>328.000000</td>\n",
       "      <td>328.000000</td>\n",
       "      <td>328.000000</td>\n",
       "    </tr>\n",
       "    <tr>\n",
       "      <th>mean</th>\n",
       "      <td>6205.658537</td>\n",
       "      <td>5982.085366</td>\n",
       "      <td>949989.125000</td>\n",
       "      <td>145308.621951</td>\n",
       "      <td>35.853659</td>\n",
       "      <td>4150.932927</td>\n",
       "      <td>0.719512</td>\n",
       "    </tr>\n",
       "    <tr>\n",
       "      <th>std</th>\n",
       "      <td>667.985675</td>\n",
       "      <td>3213.262492</td>\n",
       "      <td>9495.504646</td>\n",
       "      <td>105247.318098</td>\n",
       "      <td>16.734752</td>\n",
       "      <td>2193.620989</td>\n",
       "      <td>0.695541</td>\n",
       "    </tr>\n",
       "    <tr>\n",
       "      <th>min</th>\n",
       "      <td>4959.000000</td>\n",
       "      <td>2.000000</td>\n",
       "      <td>930705.000000</td>\n",
       "      <td>4980.000000</td>\n",
       "      <td>12.000000</td>\n",
       "      <td>319.000000</td>\n",
       "      <td>-1.000000</td>\n",
       "    </tr>\n",
       "    <tr>\n",
       "      <th>25%</th>\n",
       "      <td>5604.250000</td>\n",
       "      <td>3079.000000</td>\n",
       "      <td>940809.250000</td>\n",
       "      <td>68328.000000</td>\n",
       "      <td>24.000000</td>\n",
       "      <td>2368.750000</td>\n",
       "      <td>1.000000</td>\n",
       "    </tr>\n",
       "    <tr>\n",
       "      <th>50%</th>\n",
       "      <td>6227.500000</td>\n",
       "      <td>6032.000000</td>\n",
       "      <td>950565.500000</td>\n",
       "      <td>114804.000000</td>\n",
       "      <td>36.000000</td>\n",
       "      <td>3878.500000</td>\n",
       "      <td>1.000000</td>\n",
       "    </tr>\n",
       "    <tr>\n",
       "      <th>75%</th>\n",
       "      <td>6737.250000</td>\n",
       "      <td>8564.500000</td>\n",
       "      <td>960525.250000</td>\n",
       "      <td>198600.000000</td>\n",
       "      <td>48.000000</td>\n",
       "      <td>5907.750000</td>\n",
       "      <td>1.000000</td>\n",
       "    </tr>\n",
       "    <tr>\n",
       "      <th>max</th>\n",
       "      <td>7308.000000</td>\n",
       "      <td>11362.000000</td>\n",
       "      <td>961227.000000</td>\n",
       "      <td>538500.000000</td>\n",
       "      <td>60.000000</td>\n",
       "      <td>9689.000000</td>\n",
       "      <td>1.000000</td>\n",
       "    </tr>\n",
       "  </tbody>\n",
       "</table>\n",
       "</div>"
      ],
      "text/plain": [
       "           loan_id    account_id      date_loan    amount_loan    duration  \\\n",
       "count   328.000000    328.000000     328.000000     328.000000  328.000000   \n",
       "mean   6205.658537   5982.085366  949989.125000  145308.621951   35.853659   \n",
       "std     667.985675   3213.262492    9495.504646  105247.318098   16.734752   \n",
       "min    4959.000000      2.000000  930705.000000    4980.000000   12.000000   \n",
       "25%    5604.250000   3079.000000  940809.250000   68328.000000   24.000000   \n",
       "50%    6227.500000   6032.000000  950565.500000  114804.000000   36.000000   \n",
       "75%    6737.250000   8564.500000  960525.250000  198600.000000   48.000000   \n",
       "max    7308.000000  11362.000000  961227.000000  538500.000000   60.000000   \n",
       "\n",
       "          payments      status  \n",
       "count   328.000000  328.000000  \n",
       "mean   4150.932927    0.719512  \n",
       "std    2193.620989    0.695541  \n",
       "min     319.000000   -1.000000  \n",
       "25%    2368.750000    1.000000  \n",
       "50%    3878.500000    1.000000  \n",
       "75%    5907.750000    1.000000  \n",
       "max    9689.000000    1.000000  "
      ]
     },
     "execution_count": 9,
     "metadata": {},
     "output_type": "execute_result"
    }
   ],
   "source": [
    "train_data = pd.read_pickle(\"train_data.pkl\")\n",
    "test_data = pd.read_pickle(\"test_data.pkl\")\n",
    "\n",
    "train_data.describe()"
   ]
  },
  {
   "cell_type": "code",
   "execution_count": 10,
   "id": "96998748-3e4f-4d43-9cfe-179bc6945fad",
   "metadata": {},
   "outputs": [],
   "source": [
    "col_names = list(train_data.columns)\n",
    "col_names.remove('status')\n",
    "\n",
    "X = train_data[col_names]\n",
    "y = train_data.status\n"
   ]
  },
  {
   "cell_type": "code",
   "execution_count": 11,
   "id": "e38836e6-1416-435b-987a-e5fe41a8040c",
   "metadata": {},
   "outputs": [],
   "source": [
    "X_train, X_test, y_train, y_test = train_test_split(X, \n",
    "                                                    y, \n",
    "                                                    test_size=0.3, \n",
    "                                                    random_state=1) # 70% training and 30% test\n"
   ]
  },
  {
   "cell_type": "code",
   "execution_count": 12,
   "id": "9e1837c2-afae-424d-ad0f-dcf1ffe0e5f6",
   "metadata": {},
   "outputs": [],
   "source": [
    "# Create Decision Tree classifer object\n",
    "clf = DecisionTreeClassifier()\n",
    "\n",
    "# Train Decision Tree Classifer\n",
    "clf = clf.fit(X_train,y_train)\n",
    "\n",
    "#Predict the response for test dataset\n",
    "y_pred = clf.predict(X_test)"
   ]
  },
  {
   "cell_type": "code",
   "execution_count": 13,
   "id": "2debd5e6-0255-4631-9eca-7f18ee034914",
   "metadata": {},
   "outputs": [
    {
     "name": "stdout",
     "output_type": "stream",
     "text": [
      "Accuracy: 0.7676767676767676\n"
     ]
    }
   ],
   "source": [
    "# Model Accuracy, how often is the classifier correct?\n",
    "print(\"Accuracy:\",metrics.accuracy_score(y_test, y_pred))"
   ]
  },
  {
   "cell_type": "markdown",
   "id": "9f9a7797-3303-436e-a38a-20cc6d5fd7a9",
   "metadata": {},
   "source": [
    "**ToDo** : Criar ficheiro .csv para submissão no kaggle"
   ]
  },
  {
   "cell_type": "code",
   "execution_count": 14,
   "id": "900d7d79-1da4-4aa0-b3ac-6dc87fbb6792",
   "metadata": {},
   "outputs": [
    {
     "data": {
      "text/plain": [
       "array([ 1,  1,  1,  1,  1, -1,  1, -1,  1,  1,  1, -1,  1,  1,  1,  1,  1,\n",
       "       -1,  1,  1,  1,  1,  1,  1,  1,  1,  1,  1,  1,  1,  1,  1,  1,  1,\n",
       "        1,  1, -1,  1,  1,  1,  1,  1,  1,  1, -1,  1,  1,  1,  1,  1,  1,\n",
       "        1, -1,  1,  1,  1,  1,  1, -1,  1,  1,  1,  1,  1,  1,  1,  1, -1,\n",
       "        1,  1,  1,  1,  1,  1,  1,  1,  1, -1,  1,  1,  1, -1,  1,  1,  1,\n",
       "        1,  1,  1,  1,  1,  1,  1,  1, -1,  1,  1, -1,  1,  1])"
      ]
     },
     "execution_count": 14,
     "metadata": {},
     "output_type": "execute_result"
    }
   ],
   "source": [
    "y_pred"
   ]
  }
 ],
 "metadata": {
  "kernelspec": {
   "display_name": "Python 3 (ipykernel)",
   "language": "python",
   "name": "python3"
  },
  "language_info": {
   "codemirror_mode": {
    "name": "ipython",
    "version": 3
   },
   "file_extension": ".py",
   "mimetype": "text/x-python",
   "name": "python",
   "nbconvert_exporter": "python",
   "pygments_lexer": "ipython3",
   "version": "3.9.7"
  }
 },
 "nbformat": 4,
 "nbformat_minor": 5
}
