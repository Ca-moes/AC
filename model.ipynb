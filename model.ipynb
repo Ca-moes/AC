{
 "cells": [
  {
   "cell_type": "markdown",
   "id": "d07d6cc5-dac6-4ae1-a642-352ee4c07505",
   "metadata": {},
   "source": [
    "# Models Evaluation\n",
    "\n",
    "1. Create models\n",
    "2. Compare models\n",
    "3. Export .csv file with results"
   ]
  },
  {
   "cell_type": "code",
   "execution_count": 1,
   "id": "f3582d15-6e34-40d8-89a3-16c49a35a05b",
   "metadata": {},
   "outputs": [],
   "source": [
    "import pandas as pd\n",
    "from datetime import date\n",
    "\n",
    "import sklearn.metrics as metrics\n",
    "import matplotlib.pyplot as plt\n",
    "\n",
    "from sklearn.model_selection import train_test_split\n",
    "from imblearn.over_sampling import SMOTE\n",
    "from sklearn.preprocessing import StandardScaler\n",
    "\n",
    "from sklearn.tree import DecisionTreeClassifier\n",
    "from sklearn.ensemble import RandomForestClassifier\n",
    "from sklearn.neighbors import KNeighborsClassifier\n",
    "from sklearn.svm import SVC\n",
    "from sklearn.ensemble import AdaBoostClassifier\n",
    "from sklearn.ensemble import GradientBoostingClassifier\n",
    "from xgboost import XGBClassifier\n",
    "\n",
    "from sklearn import metrics"
   ]
  },
  {
   "cell_type": "code",
   "execution_count": 2,
   "id": "be057396-698d-45b5-974b-8d191fd4beb5",
   "metadata": {},
   "outputs": [],
   "source": [
    "train_data = pd.read_pickle(\"train_data.pkl\")\n",
    "test_data = pd.read_pickle(\"test_data.pkl\")"
   ]
  },
  {
   "cell_type": "markdown",
   "id": "916bd792-6bf0-4c24-9419-3dfc8611295a",
   "metadata": {},
   "source": [
    "## Train Test Split"
   ]
  },
  {
   "cell_type": "code",
   "execution_count": 3,
   "id": "96998748-3e4f-4d43-9cfe-179bc6945fad",
   "metadata": {},
   "outputs": [],
   "source": [
    "features = list(train_data.columns)\n",
    "features.remove('status')\n",
    "features.remove('loan_id')\n",
    "\n",
    "x = train_data[features]\n",
    "y = train_data['status']\n",
    "\n",
    "x_train, x_test, y_train, y_test = train_test_split(x, y, test_size=0.3, random_state=0)"
   ]
  },
  {
   "cell_type": "markdown",
   "id": "01bcd73e-87eb-4eb3-81c5-a1b380badb85",
   "metadata": {},
   "source": [
    "## Resampling"
   ]
  },
  {
   "cell_type": "markdown",
   "id": "a5ce6730-9c93-4729-8fd8-188598da2706",
   "metadata": {},
   "source": [
    "Our data analysis stage showed that our working dataset was heavily umbalanced.\n",
    "\n",
    "Early exploratory analysis of classification methods proved that this was having a negative effect on the accuracy of the classifier, especially for the minority classes. To solve this problem we implemented resampling techniques that would generate a more balanced training set.\n",
    "\n",
    "For oversampling we used the SMOTE (Synthetic Minority Over-sampling Technique) algorithm. This generates new samples interpolated from the existing ones."
   ]
  },
  {
   "cell_type": "code",
   "execution_count": 4,
   "id": "76784001-bf3b-4fa0-a6cc-d8f9a61cf737",
   "metadata": {},
   "outputs": [],
   "source": [
    "smote = SMOTE()\n",
    "x_train, y_train = smote.fit_resample(x_train, y_train)"
   ]
  },
  {
   "cell_type": "markdown",
   "id": "eeb21773-8429-4438-9a38-fe8a30233987",
   "metadata": {},
   "source": [
    "Some of the algorithms we plan on using (KNN and SVM) require the data to be standardized. To do so, we used a StandardScaler from SciKit Learn's preprocessing library."
   ]
  },
  {
   "cell_type": "code",
   "execution_count": 5,
   "id": "f2230677-fe3c-4426-a99a-d16be9ac8479",
   "metadata": {
    "tags": []
   },
   "outputs": [],
   "source": [
    "scaler = StandardScaler()\n",
    "\n",
    "scaler.fit(x_train)\n",
    "x_train = scaler.fit_transform(x_train)\n",
    "x_test = scaler.fit_transform(x_test)"
   ]
  },
  {
   "cell_type": "markdown",
   "id": "03f96f2b-8bd9-4cab-a976-32a9d7e65c14",
   "metadata": {},
   "source": [
    "## Models"
   ]
  },
  {
   "cell_type": "code",
   "execution_count": 6,
   "id": "48d423e5-2645-4f31-98cc-c806b0ed68c3",
   "metadata": {},
   "outputs": [],
   "source": [
    "def apply_model(model, algorithm):\n",
    "    model.fit(x_train, y_train)\n",
    "\n",
    "    #Predict the response for test dataset\n",
    "    model_pred = model.predict(x_test)\n",
    "    model_pred_proba = model.predict_proba(x_test)[:, -1]\n",
    "\n",
    "    # Metrics\n",
    "    print(f\"\\nAUC Score: {metrics.roc_auc_score(y_test, model_pred_proba)}\") # Area Under the Curve\n",
    "    print(f\"Confusion matrix:\\n{metrics.confusion_matrix(y_test, model_pred)}\\n\")\n",
    "    print(f\"Classification report:\\n{metrics.classification_report(y_test, model_pred)}\\n\")\n",
    "\n",
    "    metrics.plot_roc_curve(model, x_test, y_test)\n",
    "    #plt.savefig(f\"{algorithm}.png\")\n",
    "    plt.show\n",
    "    \n",
    "    return model"
   ]
  },
  {
   "cell_type": "markdown",
   "id": "39db9491-f399-4282-9fc4-7524e2a9269a",
   "metadata": {},
   "source": [
    "## Decision Tree Classifier"
   ]
  },
  {
   "cell_type": "code",
   "execution_count": 7,
   "id": "9e1837c2-afae-424d-ad0f-dcf1ffe0e5f6",
   "metadata": {},
   "outputs": [
    {
     "name": "stdout",
     "output_type": "stream",
     "text": [
      "\n",
      "AUC Score: 0.6731092436974788\n",
      "Confusion matrix:\n",
      "[[ 9  5]\n",
      " [35 50]]\n",
      "\n",
      "Classification report:\n",
      "              precision    recall  f1-score   support\n",
      "\n",
      "           0       0.20      0.64      0.31        14\n",
      "           1       0.91      0.59      0.71        85\n",
      "\n",
      "    accuracy                           0.60        99\n",
      "   macro avg       0.56      0.62      0.51        99\n",
      "weighted avg       0.81      0.60      0.66        99\n",
      "\n",
      "\n"
     ]
    },
    {
     "name": "stderr",
     "output_type": "stream",
     "text": [
      "C:\\Users\\fmna\\anaconda3\\lib\\site-packages\\sklearn\\tree\\_classes.py:315: FutureWarning: The min_impurity_split parameter is deprecated. Its default value has changed from 1e-7 to 0 in version 0.23, and it will be removed in 1.0 (renaming of 0.25). Use the min_impurity_decrease parameter instead.\n",
      "  warnings.warn(\n"
     ]
    },
    {
     "data": {
      "image/png": "[encoded data removed]",
      "text/plain": [
       "<Figure size 432x288 with 1 Axes>"
      ]
     },
     "metadata": {
      "needs_background": "light"
     },
     "output_type": "display_data"
    }
   ],
   "source": [
    "dtc = apply_model(DecisionTreeClassifier(criterion='entropy', max_features='sqrt', min_impurity_split=0.05, min_samples_leaf=2, min_samples_split=8, random_state=0), \"dt\")"
   ]
  },
  {
   "cell_type": "markdown",
   "id": "354fdc95-38d1-48ff-ba5b-69162598ca95",
   "metadata": {},
   "source": [
    "## Random Forest"
   ]
  },
  {
   "cell_type": "code",
   "execution_count": 8,
   "id": "753674fe-b530-408d-ae67-bdf7e2dfa5a3",
   "metadata": {},
   "outputs": [
    {
     "name": "stdout",
     "output_type": "stream",
     "text": [
      "\n",
      "AUC Score: 0.765126050420168\n",
      "Confusion matrix:\n",
      "[[10  4]\n",
      " [29 56]]\n",
      "\n",
      "Classification report:\n",
      "              precision    recall  f1-score   support\n",
      "\n",
      "           0       0.26      0.71      0.38        14\n",
      "           1       0.93      0.66      0.77        85\n",
      "\n",
      "    accuracy                           0.67        99\n",
      "   macro avg       0.59      0.69      0.57        99\n",
      "weighted avg       0.84      0.67      0.72        99\n",
      "\n",
      "\n"
     ]
    },
    {
     "data": {
      "image/png": "[encoded data removed]",
      "text/plain": [
       "<Figure size 432x288 with 1 Axes>"
      ]
     },
     "metadata": {
      "needs_background": "light"
     },
     "output_type": "display_data"
    }
   ],
   "source": [
    "rf = apply_model(RandomForestClassifier(criterion='entropy', n_estimators=1500, random_state=0), \"rf\")"
   ]
  },
  {
   "cell_type": "markdown",
   "id": "3e0aed1c-e1d6-484b-98a2-bb9f9d853ae6",
   "metadata": {
    "tags": []
   },
   "source": [
    "## KNN"
   ]
  },
  {
   "cell_type": "code",
   "execution_count": 9,
   "id": "129f0f84-3c04-49ba-b7ac-deb5f76d947f",
   "metadata": {},
   "outputs": [
    {
     "name": "stdout",
     "output_type": "stream",
     "text": [
      "\n",
      "AUC Score: 0.7747899159663866\n",
      "Confusion matrix:\n",
      "[[13  1]\n",
      " [43 42]]\n",
      "\n",
      "Classification report:\n",
      "              precision    recall  f1-score   support\n",
      "\n",
      "           0       0.23      0.93      0.37        14\n",
      "           1       0.98      0.49      0.66        85\n",
      "\n",
      "    accuracy                           0.56        99\n",
      "   macro avg       0.60      0.71      0.51        99\n",
      "weighted avg       0.87      0.56      0.62        99\n",
      "\n",
      "\n"
     ]
    },
    {
     "data": {
      "image/png": "[encoded data removed]",
      "text/plain": [
       "<Figure size 432x288 with 1 Axes>"
      ]
     },
     "metadata": {
      "needs_background": "light"
     },
     "output_type": "display_data"
    }
   ],
   "source": [
    "knn = apply_model(KNeighborsClassifier(algorithm='ball_tree', n_neighbors=10, weights='distance'), \"knn\")"
   ]
  },
  {
   "cell_type": "markdown",
   "id": "4e57a4bf-f42a-4cfc-b8df-b3005cce4e98",
   "metadata": {},
   "source": [
    "## SVM"
   ]
  },
  {
   "cell_type": "code",
   "execution_count": 10,
   "id": "f2340db3-b62d-46a6-8a62-461cf698a866",
   "metadata": {},
   "outputs": [
    {
     "name": "stdout",
     "output_type": "stream",
     "text": [
      "\n",
      "AUC Score: 0.7781512605042016\n",
      "Confusion matrix:\n",
      "[[ 9  5]\n",
      " [20 65]]\n",
      "\n",
      "Classification report:\n",
      "              precision    recall  f1-score   support\n",
      "\n",
      "           0       0.31      0.64      0.42        14\n",
      "           1       0.93      0.76      0.84        85\n",
      "\n",
      "    accuracy                           0.75        99\n",
      "   macro avg       0.62      0.70      0.63        99\n",
      "weighted avg       0.84      0.75      0.78        99\n",
      "\n",
      "\n"
     ]
    },
    {
     "data": {
      "image/png": "[encoded data removed]",
      "text/plain": [
       "<Figure size 432x288 with 1 Axes>"
      ]
     },
     "metadata": {
      "needs_background": "light"
     },
     "output_type": "display_data"
    }
   ],
   "source": [
    "svm = apply_model(SVC(C=10, gamma='auto', probability=True, random_state=0), \"svm\")"
   ]
  },
  {
   "cell_type": "markdown",
   "id": "4acd6738-86ec-4c7c-91a6-a3adb57b2730",
   "metadata": {},
   "source": [
    "## AdaBoost"
   ]
  },
  {
   "cell_type": "code",
   "execution_count": 11,
   "id": "60819e72-9c7e-41ef-993a-4e5b2c2b534e",
   "metadata": {},
   "outputs": [
    {
     "name": "stdout",
     "output_type": "stream",
     "text": [
      "\n",
      "AUC Score: 0.6873949579831933\n",
      "Confusion matrix:\n",
      "[[ 9  5]\n",
      " [41 44]]\n",
      "\n",
      "Classification report:\n",
      "              precision    recall  f1-score   support\n",
      "\n",
      "           0       0.18      0.64      0.28        14\n",
      "           1       0.90      0.52      0.66        85\n",
      "\n",
      "    accuracy                           0.54        99\n",
      "   macro avg       0.54      0.58      0.47        99\n",
      "weighted avg       0.80      0.54      0.60        99\n",
      "\n",
      "\n"
     ]
    },
    {
     "data": {
      "image/png": "[encoded data removed]",
      "text/plain": [
       "<Figure size 432x288 with 1 Axes>"
      ]
     },
     "metadata": {
      "needs_background": "light"
     },
     "output_type": "display_data"
    }
   ],
   "source": [
    "ada = apply_model(AdaBoostClassifier(learning_rate=0.3, n_estimators=100, random_state=0), \"ada\")"
   ]
  },
  {
   "cell_type": "markdown",
   "id": "4dee489a-2d29-4a49-888c-08a97bf43223",
   "metadata": {},
   "source": [
    "## GradientBoost"
   ]
  },
  {
   "cell_type": "code",
   "execution_count": 12,
   "id": "67344b96-2bef-4d71-82ec-ee8cbacb0a7d",
   "metadata": {},
   "outputs": [
    {
     "name": "stdout",
     "output_type": "stream",
     "text": [
      "\n",
      "AUC Score: 0.7394957983193277\n",
      "Confusion matrix:\n",
      "[[11  3]\n",
      " [33 52]]\n",
      "\n",
      "Classification report:\n",
      "              precision    recall  f1-score   support\n",
      "\n",
      "           0       0.25      0.79      0.38        14\n",
      "           1       0.95      0.61      0.74        85\n",
      "\n",
      "    accuracy                           0.64        99\n",
      "   macro avg       0.60      0.70      0.56        99\n",
      "weighted avg       0.85      0.64      0.69        99\n",
      "\n",
      "\n"
     ]
    },
    {
     "data": {
      "image/png": "[encoded data removed]",
      "text/plain": [
       "<Figure size 432x288 with 1 Axes>"
      ]
     },
     "metadata": {
      "needs_background": "light"
     },
     "output_type": "display_data"
    }
   ],
   "source": [
    "gb = apply_model(GradientBoostingClassifier(learning_rate=0.3, max_features='auto', min_samples_leaf=2, min_samples_split=5, n_estimators=150, random_state=0), \"gb\")"
   ]
  },
  {
   "cell_type": "markdown",
   "id": "88c97b11-cf90-4804-aa0e-ae8b2e4b9a8c",
   "metadata": {},
   "source": [
    "## XGBoost"
   ]
  },
  {
   "cell_type": "code",
   "execution_count": 14,
   "id": "cfd59828-db0c-471a-8e2d-f8e7531d0cb4",
   "metadata": {},
   "outputs": [
    {
     "name": "stdout",
     "output_type": "stream",
     "text": [
      "\n",
      "AUC Score: 0.7991596638655462\n",
      "Confusion matrix:\n",
      "[[12  2]\n",
      " [38 47]]\n",
      "\n",
      "Classification report:\n",
      "              precision    recall  f1-score   support\n",
      "\n",
      "           0       0.24      0.86      0.38        14\n",
      "           1       0.96      0.55      0.70        85\n",
      "\n",
      "    accuracy                           0.60        99\n",
      "   macro avg       0.60      0.71      0.54        99\n",
      "weighted avg       0.86      0.60      0.66        99\n",
      "\n",
      "\n"
     ]
    },
    {
     "data": {
      "image/png": "[encoded data removed]",
      "text/plain": [
       "<Figure size 432x288 with 1 Axes>"
      ]
     },
     "metadata": {
      "needs_background": "light"
     },
     "output_type": "display_data"
    }
   ],
   "source": [
    "xbg = apply_model(XGBClassifier(alpha=0.01, base_score=0.5, booster='gbtree', colsample_bylevel=1,\n",
    "              colsample_bynode=1, colsample_bytree=1, eval_metric='auc',\n",
    "              gamma=0.01, gpu_id=-1, importance_type='gain',\n",
    "              interaction_constraints='', learning_rate=0.2, max_delta_step=0,\n",
    "              max_depth=6, min_child_weight=1,\n",
    "              monotone_constraints='()', n_estimators=200, n_jobs=12,\n",
    "              num_parallel_tree=1, random_state=0, reg_alpha=0.00999999978,\n",
    "              reg_lambda=1, scale_pos_weight=1, subsample=1,\n",
    "              tree_method='exact', use_label_encoder=False,\n",
    "              validate_parameters=1, verbosity=None), \"xgb\")"
   ]
  },
  {
   "cell_type": "markdown",
   "id": "ef04910d-f3a2-4a9f-ab8e-a2ea9909746b",
   "metadata": {},
   "source": [
    "## Submission"
   ]
  },
  {
   "cell_type": "code",
   "execution_count": null,
   "id": "f000b721-c269-4d03-9d58-e3e26418de50",
   "metadata": {},
   "outputs": [],
   "source": [
    "x_real = test_data[features]\n",
    "\n",
    "predictions = ada.predict_proba(x_real)[:, -1]"
   ]
  },
  {
   "cell_type": "code",
   "execution_count": null,
   "id": "46a2acaf-6e27-420e-854a-2532debb907b",
   "metadata": {
    "tags": []
   },
   "outputs": [],
   "source": [
    "submission = pd.DataFrame()\n",
    "submission['Id'] = test_data['loan_id']\n",
    "submission['Predicted'] = predictions\n",
    "\n",
    "submission.to_csv(date.today().strftime(\"%d-%m-%Y\") + '.csv', index=False)"
   ]
  },
  {
   "cell_type": "code",
   "execution_count": null,
   "id": "f770ffa0-c4e4-4ef9-9423-08e3a42a57cd",
   "metadata": {},
   "outputs": [],
   "source": [
    "submission"
   ]
  }
 ],
 "metadata": {
  "kernelspec": {
   "display_name": "Python 3",
   "language": "python",
   "name": "python3"
  },
  "language_info": {
   "codemirror_mode": {
    "name": "ipython",
    "version": 3
   },
   "file_extension": ".py",
   "mimetype": "text/x-python",
   "name": "python",
   "nbconvert_exporter": "python",
   "pygments_lexer": "ipython3",
   "version": "3.8.8"
  }
 },
 "nbformat": 4,
 "nbformat_minor": 5
}
