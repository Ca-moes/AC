{
 "cells": [
  {
   "cell_type": "markdown",
   "id": "d07d6cc5-dac6-4ae1-a642-352ee4c07505",
   "metadata": {},
   "source": [
    "# Models Evaluation\n",
    "\n",
    "1. Create models\n",
    "2. Compare models\n",
    "3. Export .csv file with results"
   ]
  },
  {
   "cell_type": "code",
   "execution_count": 1,
   "id": "f3582d15-6e34-40d8-89a3-16c49a35a05b",
   "metadata": {},
   "outputs": [],
   "source": [
    "import pandas as pd\n",
    "from datetime import date\n",
    "\n",
    "from sklearn.model_selection import train_test_split\n",
    "from imblearn.over_sampling import SMOTE\n",
    "from sklearn.preprocessing import StandardScaler\n",
    "\n",
    "from sklearn.tree import DecisionTreeClassifier\n",
    "from sklearn.ensemble import RandomForestClassifier\n",
    "from sklearn.neighbors import KNeighborsClassifier\n",
    "from sklearn.svm import SVC\n",
    "from sklearn.ensemble import AdaBoostClassifier\n",
    "from sklearn.model_selection import GridSearchCV\n",
    "from sklearn import metrics"
   ]
  },
  {
   "cell_type": "code",
   "execution_count": 2,
   "id": "be057396-698d-45b5-974b-8d191fd4beb5",
   "metadata": {},
   "outputs": [
    {
     "data": {
      "text/html": [
       "<div>\n",
       "<style scoped>\n",
       "    .dataframe tbody tr th:only-of-type {\n",
       "        vertical-align: middle;\n",
       "    }\n",
       "\n",
       "    .dataframe tbody tr th {\n",
       "        vertical-align: top;\n",
       "    }\n",
       "\n",
       "    .dataframe thead th {\n",
       "        text-align: right;\n",
       "    }\n",
       "</style>\n",
       "<table border=\"1\" class=\"dataframe\">\n",
       "  <thead>\n",
       "    <tr style=\"text-align: right;\">\n",
       "      <th></th>\n",
       "      <th>loan_id</th>\n",
       "      <th>amount_loan</th>\n",
       "      <th>duration</th>\n",
       "      <th>payments</th>\n",
       "      <th>status</th>\n",
       "      <th>age_clt</th>\n",
       "      <th>gender_clt</th>\n",
       "      <th>frequency</th>\n",
       "      <th>age_acc</th>\n",
       "      <th>region</th>\n",
       "      <th>...</th>\n",
       "      <th>amount_trans_max</th>\n",
       "      <th>amount_trans_std</th>\n",
       "      <th>amount_trans_last</th>\n",
       "      <th>amount_trans_abs_min</th>\n",
       "      <th>balance_mean</th>\n",
       "      <th>balance_min</th>\n",
       "      <th>balance_max</th>\n",
       "      <th>balance_std</th>\n",
       "      <th>balance_last</th>\n",
       "      <th>balance_abs_min</th>\n",
       "    </tr>\n",
       "  </thead>\n",
       "  <tbody>\n",
       "    <tr>\n",
       "      <th>0</th>\n",
       "      <td>4959</td>\n",
       "      <td>80952</td>\n",
       "      <td>24</td>\n",
       "      <td>3373</td>\n",
       "      <td>1</td>\n",
       "      <td>76</td>\n",
       "      <td>1</td>\n",
       "      <td>1</td>\n",
       "      <td>28</td>\n",
       "      <td>0</td>\n",
       "      <td>...</td>\n",
       "      <td>30354.0</td>\n",
       "      <td>8793.271132</td>\n",
       "      <td>138.3</td>\n",
       "      <td>13.5</td>\n",
       "      <td>32590.624074</td>\n",
       "      <td>1100.0</td>\n",
       "      <td>67529.6</td>\n",
       "      <td>12061.705682</td>\n",
       "      <td>27855.2</td>\n",
       "      <td>1100.0</td>\n",
       "    </tr>\n",
       "    <tr>\n",
       "      <th>1</th>\n",
       "      <td>4961</td>\n",
       "      <td>30276</td>\n",
       "      <td>12</td>\n",
       "      <td>2523</td>\n",
       "      <td>-1</td>\n",
       "      <td>82</td>\n",
       "      <td>0</td>\n",
       "      <td>1</td>\n",
       "      <td>26</td>\n",
       "      <td>5</td>\n",
       "      <td>...</td>\n",
       "      <td>22708.0</td>\n",
       "      <td>7074.892542</td>\n",
       "      <td>15139.0</td>\n",
       "      <td>14.6</td>\n",
       "      <td>25197.092500</td>\n",
       "      <td>715.0</td>\n",
       "      <td>58157.5</td>\n",
       "      <td>15039.248405</td>\n",
       "      <td>15854.0</td>\n",
       "      <td>715.0</td>\n",
       "    </tr>\n",
       "    <tr>\n",
       "      <th>2</th>\n",
       "      <td>4973</td>\n",
       "      <td>165960</td>\n",
       "      <td>24</td>\n",
       "      <td>6915</td>\n",
       "      <td>1</td>\n",
       "      <td>77</td>\n",
       "      <td>0</td>\n",
       "      <td>1</td>\n",
       "      <td>27</td>\n",
       "      <td>5</td>\n",
       "      <td>...</td>\n",
       "      <td>62235.0</td>\n",
       "      <td>16442.527059</td>\n",
       "      <td>114.1</td>\n",
       "      <td>14.6</td>\n",
       "      <td>52523.244800</td>\n",
       "      <td>700.0</td>\n",
       "      <td>107069.6</td>\n",
       "      <td>20955.646998</td>\n",
       "      <td>23703.8</td>\n",
       "      <td>700.0</td>\n",
       "    </tr>\n",
       "    <tr>\n",
       "      <th>3</th>\n",
       "      <td>4996</td>\n",
       "      <td>88440</td>\n",
       "      <td>12</td>\n",
       "      <td>7370</td>\n",
       "      <td>1</td>\n",
       "      <td>76</td>\n",
       "      <td>0</td>\n",
       "      <td>0</td>\n",
       "      <td>25</td>\n",
       "      <td>3</td>\n",
       "      <td>...</td>\n",
       "      <td>47976.0</td>\n",
       "      <td>14855.181613</td>\n",
       "      <td>282.6</td>\n",
       "      <td>100.0</td>\n",
       "      <td>62778.090323</td>\n",
       "      <td>200.0</td>\n",
       "      <td>103239.0</td>\n",
       "      <td>21638.258870</td>\n",
       "      <td>79007.6</td>\n",
       "      <td>200.0</td>\n",
       "    </tr>\n",
       "    <tr>\n",
       "      <th>4</th>\n",
       "      <td>5002</td>\n",
       "      <td>104808</td>\n",
       "      <td>12</td>\n",
       "      <td>8734</td>\n",
       "      <td>1</td>\n",
       "      <td>81</td>\n",
       "      <td>1</td>\n",
       "      <td>1</td>\n",
       "      <td>28</td>\n",
       "      <td>6</td>\n",
       "      <td>...</td>\n",
       "      <td>25970.0</td>\n",
       "      <td>7504.299350</td>\n",
       "      <td>3900.0</td>\n",
       "      <td>14.6</td>\n",
       "      <td>38709.830000</td>\n",
       "      <td>500.0</td>\n",
       "      <td>57865.3</td>\n",
       "      <td>11517.175248</td>\n",
       "      <td>28015.4</td>\n",
       "      <td>500.0</td>\n",
       "    </tr>\n",
       "    <tr>\n",
       "      <th>...</th>\n",
       "      <td>...</td>\n",
       "      <td>...</td>\n",
       "      <td>...</td>\n",
       "      <td>...</td>\n",
       "      <td>...</td>\n",
       "      <td>...</td>\n",
       "      <td>...</td>\n",
       "      <td>...</td>\n",
       "      <td>...</td>\n",
       "      <td>...</td>\n",
       "      <td>...</td>\n",
       "      <td>...</td>\n",
       "      <td>...</td>\n",
       "      <td>...</td>\n",
       "      <td>...</td>\n",
       "      <td>...</td>\n",
       "      <td>...</td>\n",
       "      <td>...</td>\n",
       "      <td>...</td>\n",
       "      <td>...</td>\n",
       "      <td>...</td>\n",
       "    </tr>\n",
       "    <tr>\n",
       "      <th>323</th>\n",
       "      <td>7271</td>\n",
       "      <td>392460</td>\n",
       "      <td>60</td>\n",
       "      <td>6541</td>\n",
       "      <td>1</td>\n",
       "      <td>41</td>\n",
       "      <td>0</td>\n",
       "      <td>1</td>\n",
       "      <td>27</td>\n",
       "      <td>1</td>\n",
       "      <td>...</td>\n",
       "      <td>58870.0</td>\n",
       "      <td>15051.099854</td>\n",
       "      <td>216.2</td>\n",
       "      <td>14.6</td>\n",
       "      <td>57131.740559</td>\n",
       "      <td>900.0</td>\n",
       "      <td>115913.4</td>\n",
       "      <td>20293.363480</td>\n",
       "      <td>53259.7</td>\n",
       "      <td>900.0</td>\n",
       "    </tr>\n",
       "    <tr>\n",
       "      <th>324</th>\n",
       "      <td>7284</td>\n",
       "      <td>52788</td>\n",
       "      <td>12</td>\n",
       "      <td>4399</td>\n",
       "      <td>1</td>\n",
       "      <td>48</td>\n",
       "      <td>1</td>\n",
       "      <td>1</td>\n",
       "      <td>28</td>\n",
       "      <td>5</td>\n",
       "      <td>...</td>\n",
       "      <td>17920.0</td>\n",
       "      <td>3862.234636</td>\n",
       "      <td>1900.0</td>\n",
       "      <td>14.6</td>\n",
       "      <td>22198.179070</td>\n",
       "      <td>1000.0</td>\n",
       "      <td>41469.1</td>\n",
       "      <td>6652.642956</td>\n",
       "      <td>21029.0</td>\n",
       "      <td>1000.0</td>\n",
       "    </tr>\n",
       "    <tr>\n",
       "      <th>325</th>\n",
       "      <td>7304</td>\n",
       "      <td>419880</td>\n",
       "      <td>60</td>\n",
       "      <td>6998</td>\n",
       "      <td>1</td>\n",
       "      <td>76</td>\n",
       "      <td>0</td>\n",
       "      <td>2</td>\n",
       "      <td>26</td>\n",
       "      <td>0</td>\n",
       "      <td>...</td>\n",
       "      <td>64800.0</td>\n",
       "      <td>22749.020565</td>\n",
       "      <td>300.0</td>\n",
       "      <td>39.0</td>\n",
       "      <td>59352.833333</td>\n",
       "      <td>200.0</td>\n",
       "      <td>104039.9</td>\n",
       "      <td>27879.396857</td>\n",
       "      <td>24704.4</td>\n",
       "      <td>200.0</td>\n",
       "    </tr>\n",
       "    <tr>\n",
       "      <th>326</th>\n",
       "      <td>7305</td>\n",
       "      <td>54024</td>\n",
       "      <td>12</td>\n",
       "      <td>4502</td>\n",
       "      <td>1</td>\n",
       "      <td>53</td>\n",
       "      <td>1</td>\n",
       "      <td>1</td>\n",
       "      <td>27</td>\n",
       "      <td>6</td>\n",
       "      <td>...</td>\n",
       "      <td>40521.0</td>\n",
       "      <td>10938.351222</td>\n",
       "      <td>109.6</td>\n",
       "      <td>14.6</td>\n",
       "      <td>36480.185034</td>\n",
       "      <td>1000.0</td>\n",
       "      <td>81705.8</td>\n",
       "      <td>15469.988113</td>\n",
       "      <td>25697.2</td>\n",
       "      <td>1000.0</td>\n",
       "    </tr>\n",
       "    <tr>\n",
       "      <th>327</th>\n",
       "      <td>7308</td>\n",
       "      <td>129408</td>\n",
       "      <td>24</td>\n",
       "      <td>5392</td>\n",
       "      <td>1</td>\n",
       "      <td>59</td>\n",
       "      <td>0</td>\n",
       "      <td>1</td>\n",
       "      <td>26</td>\n",
       "      <td>4</td>\n",
       "      <td>...</td>\n",
       "      <td>24212.0</td>\n",
       "      <td>6256.783523</td>\n",
       "      <td>4780.0</td>\n",
       "      <td>14.6</td>\n",
       "      <td>30869.781308</td>\n",
       "      <td>1000.0</td>\n",
       "      <td>56055.6</td>\n",
       "      <td>11709.142375</td>\n",
       "      <td>24199.5</td>\n",
       "      <td>1000.0</td>\n",
       "    </tr>\n",
       "  </tbody>\n",
       "</table>\n",
       "<p>328 rows × 36 columns</p>\n",
       "</div>"
      ],
      "text/plain": [
       "     loan_id  amount_loan  duration  payments  status  age_clt gender_clt  \\\n",
       "0       4959        80952        24      3373       1       76          1   \n",
       "1       4961        30276        12      2523      -1       82          0   \n",
       "2       4973       165960        24      6915       1       77          0   \n",
       "3       4996        88440        12      7370       1       76          0   \n",
       "4       5002       104808        12      8734       1       81          1   \n",
       "..       ...          ...       ...       ...     ...      ...        ...   \n",
       "323     7271       392460        60      6541       1       41          0   \n",
       "324     7284        52788        12      4399       1       48          1   \n",
       "325     7304       419880        60      6998       1       76          0   \n",
       "326     7305        54024        12      4502       1       53          1   \n",
       "327     7308       129408        24      5392       1       59          0   \n",
       "\n",
       "     frequency  age_acc  region  ...  amount_trans_max  amount_trans_std  \\\n",
       "0            1       28       0  ...           30354.0       8793.271132   \n",
       "1            1       26       5  ...           22708.0       7074.892542   \n",
       "2            1       27       5  ...           62235.0      16442.527059   \n",
       "3            0       25       3  ...           47976.0      14855.181613   \n",
       "4            1       28       6  ...           25970.0       7504.299350   \n",
       "..         ...      ...     ...  ...               ...               ...   \n",
       "323          1       27       1  ...           58870.0      15051.099854   \n",
       "324          1       28       5  ...           17920.0       3862.234636   \n",
       "325          2       26       0  ...           64800.0      22749.020565   \n",
       "326          1       27       6  ...           40521.0      10938.351222   \n",
       "327          1       26       4  ...           24212.0       6256.783523   \n",
       "\n",
       "    amount_trans_last  amount_trans_abs_min  balance_mean balance_min  \\\n",
       "0               138.3                  13.5  32590.624074      1100.0   \n",
       "1             15139.0                  14.6  25197.092500       715.0   \n",
       "2               114.1                  14.6  52523.244800       700.0   \n",
       "3               282.6                 100.0  62778.090323       200.0   \n",
       "4              3900.0                  14.6  38709.830000       500.0   \n",
       "..                ...                   ...           ...         ...   \n",
       "323             216.2                  14.6  57131.740559       900.0   \n",
       "324            1900.0                  14.6  22198.179070      1000.0   \n",
       "325             300.0                  39.0  59352.833333       200.0   \n",
       "326             109.6                  14.6  36480.185034      1000.0   \n",
       "327            4780.0                  14.6  30869.781308      1000.0   \n",
       "\n",
       "     balance_max   balance_std  balance_last  balance_abs_min  \n",
       "0        67529.6  12061.705682       27855.2           1100.0  \n",
       "1        58157.5  15039.248405       15854.0            715.0  \n",
       "2       107069.6  20955.646998       23703.8            700.0  \n",
       "3       103239.0  21638.258870       79007.6            200.0  \n",
       "4        57865.3  11517.175248       28015.4            500.0  \n",
       "..           ...           ...           ...              ...  \n",
       "323     115913.4  20293.363480       53259.7            900.0  \n",
       "324      41469.1   6652.642956       21029.0           1000.0  \n",
       "325     104039.9  27879.396857       24704.4            200.0  \n",
       "326      81705.8  15469.988113       25697.2           1000.0  \n",
       "327      56055.6  11709.142375       24199.5           1000.0  \n",
       "\n",
       "[328 rows x 36 columns]"
      ]
     },
     "execution_count": 2,
     "metadata": {},
     "output_type": "execute_result"
    }
   ],
   "source": [
    "train_data = pd.read_pickle(\"train_data.pkl\")\n",
    "test_data = pd.read_pickle(\"test_data.pkl\")\n",
    "\n",
    "train_data"
   ]
  },
  {
   "cell_type": "markdown",
   "id": "916bd792-6bf0-4c24-9419-3dfc8611295a",
   "metadata": {},
   "source": [
    "## Train Test Split"
   ]
  },
  {
   "cell_type": "code",
   "execution_count": 3,
   "id": "96998748-3e4f-4d43-9cfe-179bc6945fad",
   "metadata": {},
   "outputs": [],
   "source": [
    "features = list(train_data.columns)\n",
    "features.remove('status')\n",
    "features.remove('loan_id')\n",
    "\n",
    "x = train_data[features]\n",
    "y = train_data['status']\n",
    "\n",
    "x_train, x_test, y_train, y_test = train_test_split(x, y, test_size=0.3, random_state=0)"
   ]
  },
  {
   "cell_type": "markdown",
   "id": "01bcd73e-87eb-4eb3-81c5-a1b380badb85",
   "metadata": {},
   "source": [
    "## Resampling"
   ]
  },
  {
   "cell_type": "markdown",
   "id": "a5ce6730-9c93-4729-8fd8-188598da2706",
   "metadata": {},
   "source": [
    "Our data analysis stage showed that our working dataset was heavily umbalanced.\n",
    "\n",
    "Early exploratory analysis of classification methods proved that this was having a negative effect on the accuracy of the classifier, especially for the minority classes. To solve this problem we implemented resampling techniques that would generate a more balanced training set.\n",
    "\n",
    "For oversampling we used the SMOTE (Synthetic Minority Over-sampling Technique) algorithm. This generates new samples interpolated from the existing ones."
   ]
  },
  {
   "cell_type": "code",
   "execution_count": 4,
   "id": "76784001-bf3b-4fa0-a6cc-d8f9a61cf737",
   "metadata": {},
   "outputs": [],
   "source": [
    "smote = SMOTE()\n",
    "x_train, y_train = smote.fit_resample(x_train, y_train)"
   ]
  },
  {
   "cell_type": "markdown",
   "id": "eeb21773-8429-4438-9a38-fe8a30233987",
   "metadata": {},
   "source": [
    "Some of the algorithms we plan on using (KNN and SVM) require the data to be standardized. To do so, we used a StandardScaler from SciKit Learn's preprocessing library."
   ]
  },
  {
   "cell_type": "code",
   "execution_count": 5,
   "id": "f2230677-fe3c-4426-a99a-d16be9ac8479",
   "metadata": {
    "tags": []
   },
   "outputs": [],
   "source": [
    "scaler = StandardScaler()\n",
    "\n",
    "scaler.fit(x_train)\n",
    "x_train = scaler.fit_transform(x_train)\n",
    "x_test = scaler.fit_transform(x_test)"
   ]
  },
  {
   "cell_type": "markdown",
   "id": "39db9491-f399-4282-9fc4-7524e2a9269a",
   "metadata": {},
   "source": [
    "## Decision Tree Classifier"
   ]
  },
  {
   "cell_type": "code",
   "execution_count": 6,
   "id": "9e1837c2-afae-424d-ad0f-dcf1ffe0e5f6",
   "metadata": {},
   "outputs": [
    {
     "name": "stdout",
     "output_type": "stream",
     "text": [
      "AUC Score:  0.5869047619047619\n",
      "Confusion matrix:\n",
      "[[12  3]\n",
      " [49 35]]\n",
      "\n",
      "Classification report:\n",
      "              precision    recall  f1-score   support\n",
      "\n",
      "          -1       0.20      0.80      0.32        15\n",
      "           1       0.92      0.42      0.57        84\n",
      "\n",
      "    accuracy                           0.47        99\n",
      "   macro avg       0.56      0.61      0.44        99\n",
      "weighted avg       0.81      0.47      0.53        99\n",
      "\n",
      "\n"
     ]
    }
   ],
   "source": [
    "# Create Decision Tree classifer object\n",
    "dtc = DecisionTreeClassifier(min_samples_leaf=10, random_state=0)\n",
    "\n",
    "# Train Decision Tree Classifer\n",
    "dtc.fit(x_train, y_train)\n",
    "\n",
    "#Predict the response for test dataset\n",
    "dtc_pred = dtc.predict_proba(x_test)[:, -1]\n",
    "\n",
    "# Metrics\n",
    "print(\"AUC Score: \", metrics.roc_auc_score(y_test, dtc_pred)) # Area Under the Curve\n",
    "print(f\"Confusion matrix:\\n{metrics.confusion_matrix(y_test, dtc.predict(x_test))}\\n\")\n",
    "print(f\"Classification report:\\n{metrics.classification_report(y_test, dtc.predict(x_test))}\\n\")"
   ]
  },
  {
   "cell_type": "markdown",
   "id": "5e57c598-3f08-4666-aa78-a9bd436bcff2",
   "metadata": {},
   "source": [
    "### Parameter Tuning"
   ]
  },
  {
   "cell_type": "code",
   "execution_count": 7,
   "id": "3a5dc815-e871-45d4-a665-6b8919a7fa65",
   "metadata": {},
   "outputs": [
    {
     "name": "stdout",
     "output_type": "stream",
     "text": [
      "Fitting 5 folds for each of 4 candidates, totalling 20 fits\n",
      "Best score: 0.8792307692307691\n",
      "Best parameters: {'criterion': 'entropy', 'splitter': 'best'}\n",
      "Best estimator: DecisionTreeClassifier(criterion='entropy')\n"
     ]
    }
   ],
   "source": [
    "parameter_grid = {'criterion': ['gini', 'entropy'],\n",
    "                  'splitter': ['best', 'random']}\n",
    "\n",
    "grid_search = GridSearchCV(DecisionTreeClassifier(),\n",
    "                           param_grid=parameter_grid,\n",
    "                           scoring='roc_auc',\n",
    "                           refit=\"AUC\",\n",
    "                           cv=5,\n",
    "                           verbose=4,\n",
    "                           n_jobs=-1)\n",
    "\n",
    "grid_search.fit(x_train, y_train)\n",
    "\n",
    "print(f\"Best score: {grid_search.best_score_}\")\n",
    "print(f\"Best parameters: {grid_search.best_params_}\")\n",
    "print(f\"Best estimator: {grid_search.best_estimator_}\")"
   ]
  },
  {
   "cell_type": "code",
   "execution_count": 8,
   "id": "d00d8c1d-2ae1-45ba-a1f8-533c86906636",
   "metadata": {
    "tags": []
   },
   "outputs": [
    {
     "name": "stdout",
     "output_type": "stream",
     "text": [
      "AUC Score:  0.6083333333333334\n"
     ]
    }
   ],
   "source": [
    "dtc_grid = grid_search.best_estimator_\n",
    "dtc_grid_pred = dtc_grid.predict_proba(x_test)[:, -1]\n",
    "\n",
    "auc = metrics.roc_auc_score(y_test, dtc_grid_pred)\n",
    "print(\"AUC Score: \", auc)"
   ]
  },
  {
   "cell_type": "markdown",
   "id": "354fdc95-38d1-48ff-ba5b-69162598ca95",
   "metadata": {},
   "source": [
    "## Random Forest"
   ]
  },
  {
   "cell_type": "code",
   "execution_count": 9,
   "id": "753674fe-b530-408d-ae67-bdf7e2dfa5a3",
   "metadata": {},
   "outputs": [
    {
     "name": "stdout",
     "output_type": "stream",
     "text": [
      "AUC Score:  0.709126984126984\n",
      "Confusion matrix:\n",
      "[[11  4]\n",
      " [37 47]]\n",
      "\n",
      "Classification report:\n",
      "              precision    recall  f1-score   support\n",
      "\n",
      "          -1       0.23      0.73      0.35        15\n",
      "           1       0.92      0.56      0.70        84\n",
      "\n",
      "    accuracy                           0.59        99\n",
      "   macro avg       0.58      0.65      0.52        99\n",
      "weighted avg       0.82      0.59      0.64        99\n",
      "\n",
      "\n"
     ]
    }
   ],
   "source": [
    "rfc = RandomForestClassifier(random_state=0)\n",
    "\n",
    "rfc.fit(x_train, y_train)\n",
    "\n",
    "rfc_pred = rfc.predict_proba(x_test)[:, -1]\n",
    "\n",
    "print(\"AUC Score: \", metrics.roc_auc_score(y_test, rfc_pred))\n",
    "print(f\"Confusion matrix:\\n{metrics.confusion_matrix(y_test, rfc.predict(x_test))}\\n\")\n",
    "print(f\"Classification report:\\n{metrics.classification_report(y_test, rfc.predict(x_test))}\\n\")"
   ]
  },
  {
   "cell_type": "markdown",
   "id": "84eacbfa-7f87-4735-b2a6-29ffb7f9ff3b",
   "metadata": {},
   "source": [
    "### Parameter Tuning"
   ]
  },
  {
   "cell_type": "code",
   "execution_count": 10,
   "id": "38ce164e-4615-40e0-8081-a3c3d8029a09",
   "metadata": {},
   "outputs": [],
   "source": [
    "# parameter_grid = {'bootstrap': [True, False],\n",
    "#                     'max_depth': [10, 20, 30, 40, 50, 60, 70, 80, 90, 100, None],\n",
    "#                     'max_features': ['auto', 'sqrt'],\n",
    "#                     'min_samples_leaf': [1, 2, 4],\n",
    "#                     'min_samples_split': [2, 5, 10],\n",
    "#                     'n_estimators': [200, 400, 600, 800, 1000, 1200, 1400, 1600, 1800, 2000]}\n",
    "\n",
    "# grid_search = GridSearchCV(RandomForestClassifier(),\n",
    "#                            param_grid=parameter_grid,\n",
    "#                            scoring='roc_auc',\n",
    "#                            refit=\"AUC\",\n",
    "#                            cv=5,\n",
    "#                            verbose=4,\n",
    "#                            n_jobs=-1)\n",
    "\n",
    "# grid_search.fit(x_train, y_train)\n",
    "\n",
    "# print(f\"Best score: {grid_search.best_score_}\")\n",
    "# print(f\"Best parameters: {grid_search.best_params_}\")\n",
    "# print(f\"Best estimator: {grid_search.best_estimator_}\")"
   ]
  },
  {
   "cell_type": "code",
   "execution_count": 11,
   "id": "542f8a31-ee3f-4fcb-a783-2b9071c1cf60",
   "metadata": {},
   "outputs": [],
   "source": [
    "# dtc_grid = grid_search.best_estimator_\n",
    "# dtc_grid_pred = dtc_grid.predict_proba(x_test)[:, -1]\n",
    "\n",
    "# auc = metrics.roc_auc_score(y_test, dtc_grid_pred)\n",
    "# print(\"AUC Score: \", auc)"
   ]
  },
  {
   "cell_type": "markdown",
   "id": "3e0aed1c-e1d6-484b-98a2-bb9f9d853ae6",
   "metadata": {
    "tags": []
   },
   "source": [
    "## KNN"
   ]
  },
  {
   "cell_type": "code",
   "execution_count": 12,
   "id": "129f0f84-3c04-49ba-b7ac-deb5f76d947f",
   "metadata": {},
   "outputs": [
    {
     "name": "stdout",
     "output_type": "stream",
     "text": [
      "AUC Score:  0.6936507936507936\n",
      "Confusion matrix:\n",
      "[[12  3]\n",
      " [42 42]]\n",
      "\n",
      "Classification report:\n",
      "              precision    recall  f1-score   support\n",
      "\n",
      "          -1       0.22      0.80      0.35        15\n",
      "           1       0.93      0.50      0.65        84\n",
      "\n",
      "    accuracy                           0.55        99\n",
      "   macro avg       0.58      0.65      0.50        99\n",
      "weighted avg       0.83      0.55      0.61        99\n",
      "\n",
      "\n"
     ]
    }
   ],
   "source": [
    "knn = KNeighborsClassifier()\n",
    "\n",
    "knn.fit(x_train, y_train)\n",
    "\n",
    "knn_pred = knn.predict_proba(x_test)[:, -1]\n",
    "\n",
    "print(\"AUC Score: \", metrics.roc_auc_score(y_test, knn_pred))\n",
    "print(f\"Confusion matrix:\\n{metrics.confusion_matrix(y_test, knn.predict(x_test))}\\n\")\n",
    "print(f\"Classification report:\\n{metrics.classification_report(y_test, knn.predict(x_test))}\\n\")"
   ]
  },
  {
   "cell_type": "markdown",
   "id": "bb3b3af6-dddf-44ab-b72e-76c7d651ef0e",
   "metadata": {},
   "source": [
    "### Parameter Tuning"
   ]
  },
  {
   "cell_type": "code",
   "execution_count": 13,
   "id": "8a8529f3-5d94-4074-98ec-7f586e38f299",
   "metadata": {},
   "outputs": [
    {
     "name": "stdout",
     "output_type": "stream",
     "text": [
      "Fitting 5 folds for each of 18 candidates, totalling 90 fits\n",
      "Best score: 0.9716442307692308\n",
      "Best parameters: {'algorithm': 'ball_tree', 'n_neighbors': 10, 'weights': 'distance'}\n",
      "Best estimator: KNeighborsClassifier(algorithm='ball_tree', n_neighbors=10, weights='distance')\n"
     ]
    }
   ],
   "source": [
    "parameter_grid = {'n_neighbors': [5, 10, 15],\n",
    "                  'weights': ['uniform', 'distance'],\n",
    "                  'algorithm': ['ball_tree', 'kd_tree', 'brute']}\n",
    "\n",
    "grid_search = GridSearchCV(KNeighborsClassifier(),\n",
    "                           param_grid=parameter_grid,\n",
    "                           scoring='roc_auc',\n",
    "                           refit=\"AUC\",\n",
    "                           cv=5,\n",
    "                           verbose=4,\n",
    "                           n_jobs=-1)\n",
    "\n",
    "grid_search.fit(x_train, y_train)\n",
    "\n",
    "print(f\"Best score: {grid_search.best_score_}\")\n",
    "print(f\"Best parameters: {grid_search.best_params_}\")\n",
    "print(f\"Best estimator: {grid_search.best_estimator_}\")"
   ]
  },
  {
   "cell_type": "code",
   "execution_count": 14,
   "id": "ef79c10a-a571-4857-a510-30931b7028b7",
   "metadata": {
    "tags": []
   },
   "outputs": [
    {
     "name": "stdout",
     "output_type": "stream",
     "text": [
      "AUC Score:  0.6833333333333333\n"
     ]
    }
   ],
   "source": [
    "knn_grid = grid_search.best_estimator_\n",
    "knn_grid_pred = knn_grid.predict_proba(x_test)[:, -1]\n",
    "\n",
    "auc = metrics.roc_auc_score(y_test, knn_grid_pred)\n",
    "print(\"AUC Score: \", auc)"
   ]
  },
  {
   "cell_type": "markdown",
   "id": "4e57a4bf-f42a-4cfc-b8df-b3005cce4e98",
   "metadata": {},
   "source": [
    "## SVM"
   ]
  },
  {
   "cell_type": "markdown",
   "id": "4acd6738-86ec-4c7c-91a6-a3adb57b2730",
   "metadata": {},
   "source": [
    "## AdaBoost"
   ]
  },
  {
   "cell_type": "code",
   "execution_count": 15,
   "id": "60819e72-9c7e-41ef-993a-4e5b2c2b534e",
   "metadata": {},
   "outputs": [
    {
     "name": "stdout",
     "output_type": "stream",
     "text": [
      "AUC Score:  0.6849206349206349\n",
      "Confusion matrix:\n",
      "[[15  0]\n",
      " [53 31]]\n",
      "\n",
      "Classification report:\n",
      "              precision    recall  f1-score   support\n",
      "\n",
      "          -1       0.22      1.00      0.36        15\n",
      "           1       1.00      0.37      0.54        84\n",
      "\n",
      "    accuracy                           0.46        99\n",
      "   macro avg       0.61      0.68      0.45        99\n",
      "weighted avg       0.88      0.46      0.51        99\n",
      "\n",
      "\n"
     ]
    }
   ],
   "source": [
    "ada = AdaBoostClassifier(random_state=0)\n",
    "\n",
    "ada.fit(x_train, y_train)\n",
    "\n",
    "ada_pred = ada.predict_proba(x_test)[:, -1]\n",
    "\n",
    "print(\"AUC Score: \", metrics.roc_auc_score(y_test, ada_pred))\n",
    "print(f\"Confusion matrix:\\n{metrics.confusion_matrix(y_test, ada.predict(x_test))}\\n\")\n",
    "print(f\"Classification report:\\n{metrics.classification_report(y_test, ada.predict(x_test))}\\n\")"
   ]
  },
  {
   "cell_type": "code",
   "execution_count": 16,
   "id": "75291ae1-616b-4ece-8cc3-ff995e0852e2",
   "metadata": {},
   "outputs": [
    {
     "name": "stdout",
     "output_type": "stream",
     "text": [
      "Fitting 5 folds for each of 1 candidates, totalling 5 fits\n",
      "Best score: 0.9432980769230769\n",
      "Best parameters: {}\n",
      "Best estimator: AdaBoostClassifier()\n"
     ]
    }
   ],
   "source": [
    "parameter_grid={}\n",
    "\n",
    "grid_search = GridSearchCV(AdaBoostClassifier(),\n",
    "                              param_grid=parameter_grid,\n",
    "                              scoring='roc_auc',\n",
    "                              cv=5,\n",
    "                              verbose=4,\n",
    "                              n_jobs=-1)\n",
    "\n",
    "grid_search.fit(x_train, y_train)\n",
    "\n",
    "print(f\"Best score: {grid_search.best_score_}\")\n",
    "print(f\"Best parameters: {grid_search.best_params_}\")\n",
    "print(f\"Best estimator: {grid_search.best_estimator_}\")"
   ]
  },
  {
   "cell_type": "code",
   "execution_count": 17,
   "id": "e3e8fa51-1c97-4c82-9a17-6ae8088abdd8",
   "metadata": {},
   "outputs": [
    {
     "name": "stdout",
     "output_type": "stream",
     "text": [
      "AUC Score:  0.6849206349206349\n"
     ]
    }
   ],
   "source": [
    "ada_grid = grid_search.best_estimator_\n",
    "ada_grid_pred = ada_grid.predict_proba(x_test)[:, -1]\n",
    "\n",
    "auc = metrics.roc_auc_score(y_test, ada_grid_pred)\n",
    "print(\"AUC Score: \", auc)"
   ]
  },
  {
   "cell_type": "markdown",
   "id": "ef04910d-f3a2-4a9f-ab8e-a2ea9909746b",
   "metadata": {},
   "source": [
    "## Submission"
   ]
  },
  {
   "cell_type": "code",
   "execution_count": 18,
   "id": "f000b721-c269-4d03-9d58-e3e26418de50",
   "metadata": {},
   "outputs": [],
   "source": [
    "x_real = test_data[features]\n",
    "\n",
    "predictions = ada.predict_proba(x_real)[:, -1]"
   ]
  },
  {
   "cell_type": "code",
   "execution_count": 19,
   "id": "46a2acaf-6e27-420e-854a-2532debb907b",
   "metadata": {
    "tags": []
   },
   "outputs": [],
   "source": [
    "submission = pd.DataFrame()\n",
    "submission['Id'] = test_data['loan_id']\n",
    "submission['Predicted'] = predictions\n",
    "\n",
    "submission.to_csv(date.today().strftime(\"%d-%m-%Y\") + '.csv', index=False)"
   ]
  },
  {
   "cell_type": "code",
   "execution_count": 20,
   "id": "f770ffa0-c4e4-4ef9-9423-08e3a42a57cd",
   "metadata": {},
   "outputs": [
    {
     "data": {
      "text/html": [
       "<div>\n",
       "<style scoped>\n",
       "    .dataframe tbody tr th:only-of-type {\n",
       "        vertical-align: middle;\n",
       "    }\n",
       "\n",
       "    .dataframe tbody tr th {\n",
       "        vertical-align: top;\n",
       "    }\n",
       "\n",
       "    .dataframe thead th {\n",
       "        text-align: right;\n",
       "    }\n",
       "</style>\n",
       "<table border=\"1\" class=\"dataframe\">\n",
       "  <thead>\n",
       "    <tr style=\"text-align: right;\">\n",
       "      <th></th>\n",
       "      <th>Id</th>\n",
       "      <th>Predicted</th>\n",
       "    </tr>\n",
       "  </thead>\n",
       "  <tbody>\n",
       "    <tr>\n",
       "      <th>0</th>\n",
       "      <td>4962</td>\n",
       "      <td>0.811913</td>\n",
       "    </tr>\n",
       "    <tr>\n",
       "      <th>1</th>\n",
       "      <td>4967</td>\n",
       "      <td>0.654030</td>\n",
       "    </tr>\n",
       "    <tr>\n",
       "      <th>2</th>\n",
       "      <td>4968</td>\n",
       "      <td>0.811913</td>\n",
       "    </tr>\n",
       "    <tr>\n",
       "      <th>3</th>\n",
       "      <td>4986</td>\n",
       "      <td>0.811913</td>\n",
       "    </tr>\n",
       "    <tr>\n",
       "      <th>4</th>\n",
       "      <td>4988</td>\n",
       "      <td>0.811913</td>\n",
       "    </tr>\n",
       "    <tr>\n",
       "      <th>...</th>\n",
       "      <td>...</td>\n",
       "      <td>...</td>\n",
       "    </tr>\n",
       "    <tr>\n",
       "      <th>349</th>\n",
       "      <td>7279</td>\n",
       "      <td>0.811913</td>\n",
       "    </tr>\n",
       "    <tr>\n",
       "      <th>350</th>\n",
       "      <td>7286</td>\n",
       "      <td>0.811913</td>\n",
       "    </tr>\n",
       "    <tr>\n",
       "      <th>351</th>\n",
       "      <td>7292</td>\n",
       "      <td>0.811913</td>\n",
       "    </tr>\n",
       "    <tr>\n",
       "      <th>352</th>\n",
       "      <td>7294</td>\n",
       "      <td>0.811913</td>\n",
       "    </tr>\n",
       "    <tr>\n",
       "      <th>353</th>\n",
       "      <td>7295</td>\n",
       "      <td>0.811913</td>\n",
       "    </tr>\n",
       "  </tbody>\n",
       "</table>\n",
       "<p>354 rows × 2 columns</p>\n",
       "</div>"
      ],
      "text/plain": [
       "       Id  Predicted\n",
       "0    4962   0.811913\n",
       "1    4967   0.654030\n",
       "2    4968   0.811913\n",
       "3    4986   0.811913\n",
       "4    4988   0.811913\n",
       "..    ...        ...\n",
       "349  7279   0.811913\n",
       "350  7286   0.811913\n",
       "351  7292   0.811913\n",
       "352  7294   0.811913\n",
       "353  7295   0.811913\n",
       "\n",
       "[354 rows x 2 columns]"
      ]
     },
     "execution_count": 20,
     "metadata": {},
     "output_type": "execute_result"
    }
   ],
   "source": [
    "submission"
   ]
  }
 ],
 "metadata": {
  "kernelspec": {
   "display_name": "Python 3",
   "language": "python",
   "name": "python3"
  },
  "language_info": {
   "codemirror_mode": {
    "name": "ipython",
    "version": 3
   },
   "file_extension": ".py",
   "mimetype": "text/x-python",
   "name": "python",
   "nbconvert_exporter": "python",
   "pygments_lexer": "ipython3",
   "version": "3.8.8"
  }
 },
 "nbformat": 4,
 "nbformat_minor": 5
}
