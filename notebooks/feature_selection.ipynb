{
 "cells": [
  {
   "cell_type": "markdown",
   "id": "99e4ce65",
   "metadata": {},
   "source": [
    "### Feature Selection"
   ]
  },
  {
   "cell_type": "code",
   "execution_count": null,
   "id": "2271dbd3",
   "metadata": {},
   "outputs": [],
   "source": [
    "from sklearn.feature_selection import SequentialFeatureSelector, RFECV, SelectKBest, chi2\n",
    "from sklearn.ensemble import RandomForestClassifier\n",
    "from sklearn.preprocessing import StandardScaler"
   ]
  },
  {
   "cell_type": "code",
   "execution_count": null,
   "id": "428072d9",
   "metadata": {},
   "outputs": [],
   "source": [
    "def fs_seq(x, y, n_features, dir):\n",
    "    seq = SequentialFeatureSelector(estimator=RandomForestClassifier(random_state=0),\n",
    "                                    n_features_to_select=n_features,\n",
    "                                    cv=5,\n",
    "                                    scoring='roc_auc',\n",
    "                                    n_jobs=-1,\n",
    "                                    direction=dir)\n",
    "\n",
    "    seq.fit(x, y)\n",
    "\n",
    "    best_features = list(x.columns[seq.support_])\n",
    "\n",
    "    print('\\n> Sequential ' + dir)\n",
    "    print('Number of features :', n_features)\n",
    "    print('Best features :', best_features)\n",
    "\n",
    "    return best_features"
   ]
  },
  {
   "cell_type": "code",
   "execution_count": null,
   "id": "3acdcc60",
   "metadata": {},
   "outputs": [],
   "source": [
    "def fs_rfecv(x, y, n_features):\n",
    "    rfecv = RFECV(estimator=RandomForestClassifier(random_state=0),\n",
    "                                                    min_features_to_select=n_features,\n",
    "                                                    cv=5,\n",
    "                                                    scoring='roc_auc',\n",
    "                                                    n_jobs=-1)\n",
    "    rfecv.fit(x, y)\n",
    "\n",
    "    best_features = list(x.columns[rfecv.support_])\n",
    "\n",
    "    print('\\n> Recursive feature elimination')\n",
    "    print('Optimal number of features :', rfecv.n_features_)\n",
    "    print('Best features :', best_features)\n",
    "\n",
    "    return best_features"
   ]
  },
  {
   "cell_type": "code",
   "execution_count": null,
   "id": "2eead6b2",
   "metadata": {},
   "outputs": [],
   "source": [
    "# Not working\n",
    "def fs_kbest(x, y, n_features):\n",
    "    cols_encode = ['gender_clt', 'frequency', 'region']\n",
    "    x = encode_label(x, cols_encode)\n",
    "\n",
    "    scaler = StandardScaler()\n",
    "    scaler.fit(x)\n",
    "    x = scaler.fit_transform(x)\n",
    "\n",
    "    kbest = SelectKBest(chi2, k=n_features)\n",
    "    kbest.fit_transform(x, y)\n",
    "\n",
    "    best_features = list(x.columns[kbest.get_support()])\n",
    "\n",
    "    print('\\n> Kbest')\n",
    "    print('Number of features :', kbest.n_features_)\n",
    "    print('Best features :', best_features)\n",
    "\n",
    "    return best_features"
   ]
  },
  {
   "cell_type": "code",
   "execution_count": null,
   "id": "5c45a894",
   "metadata": {},
   "outputs": [
    {
     "name": "stdout",
     "output_type": "stream",
     "text": [
      "\n",
      "> Recursive feature elimination\n",
      "Optimal number of features : 21\n",
      "Best features : ['amount_loan', 'payments', 'age_at_loan', 'average salary', 'ratio enterpreneurs', 'criminality_growth', 'operation_count', 'type_trans_count_c', 'type_trans_mean_w', 'amount_trans_mean', 'amount_trans_min', 'amount_trans_max', 'amount_trans_std', 'amount_trans_last', 'amount_trans_abs_min', 'balance_mean', 'balance_min', 'balance_max', 'balance_std', 'balance_last', 'balance_negative']\n"
     ]
    }
   ],
   "source": [
    "features = list(train_data_corr.columns)\n",
    "features.remove('status')\n",
    "features.remove('loan_id')\n",
    "\n",
    "label = 'status'\n",
    "\n",
    "cols_encode = ['gender_clt', 'frequency', 'region']\n",
    "train_data_labeled = encode_label(train_data_corr, cols_encode)\n",
    "\n",
    "x = train_data_labeled[features]\n",
    "y = train_data_labeled[label]\n",
    "\n",
    "#fs_seq(x, y, 15, 'forward')\n",
    "#fs_seq(x, y, 15, 'backward')\n",
    "selected_features = fs_rfecv(x, y, 15)\n",
    "#fs_kbest(x, y, 15)\n",
    "\n",
    "selected_features.append('loan_id')\n",
    "selected_features.append('status')"
   ]
  }
 ],
 "metadata": {
  "language_info": {
   "name": "python"
  },
  "orig_nbformat": 4
 },
 "nbformat": 4,
 "nbformat_minor": 2
}
