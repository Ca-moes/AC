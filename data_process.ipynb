{
 "cells": [
  {
   "cell_type": "markdown",
   "metadata": {
    "tags": []
   },
   "source": [
    "# Data Processing\n",
    "\n",
    "1. Read .csv files\n",
    "2. Clean tables\n",
    "3. Merge Tables\n",
    "4. Feature Selection"
   ]
  },
  {
   "cell_type": "code",
   "execution_count": 1,
   "metadata": {
    "tags": []
   },
   "outputs": [],
   "source": [
    "import pandas as pd\n",
    "import numpy as np\n",
    "from datetime import date as d\n",
    "from sklearn.preprocessing import LabelEncoder\n",
    "\n",
    "pd.set_option('display.max_columns', 500)\n",
    "pd.set_option('display.width', 1000)"
   ]
  },
  {
   "cell_type": "markdown",
   "metadata": {},
   "source": [
    "#### Utils functions"
   ]
  },
  {
   "cell_type": "code",
   "execution_count": 2,
   "metadata": {},
   "outputs": [],
   "source": [
    "def read_file(file_name):\n",
    "    return pd.read_csv('data/' + file_name + '.csv', sep=';', na_values=['NA', ''], low_memory=False).rename(str.strip, axis = 'columns')"
   ]
  },
  {
   "cell_type": "code",
   "execution_count": 3,
   "metadata": {},
   "outputs": [],
   "source": [
    "# Convert dates in yymmdd format to yyyy-mm-dd\n",
    "def parse_date(date):\n",
    "    return pd.to_datetime('19'+str(date)[0:2] + str(date)[2:4] + str(date)[4:6])\n",
    "\n",
    "# Returns current age given a date in yymmdd\n",
    "def calc_age(date):\n",
    "    date = parse_date(date)\n",
    "    today = d.today()\n",
    "    return today.year - date.year - ((today.month, today.day) < (date.month, date.day))"
   ]
  },
  {
   "cell_type": "markdown",
   "metadata": {},
   "source": [
    "Read files, clean data and select features"
   ]
  },
  {
   "cell_type": "code",
   "execution_count": 4,
   "metadata": {
    "tags": []
   },
   "outputs": [],
   "source": [
    "def process_account():\n",
    "    account_df = read_file('account')\n",
    "    \n",
    "    # Calculate account age\n",
    "    account_df['date'] = account_df['date'].apply(lambda date: calc_age(date))\n",
    "    account_df.rename(columns={'date':'age_acc'}, inplace=True)\n",
    "    \n",
    "    le = LabelEncoder()\n",
    "    account_df['frequency'] = le.fit_transform(account_df['frequency'])\n",
    "    \n",
    "    return account_df"
   ]
  },
  {
   "cell_type": "code",
   "execution_count": 5,
   "metadata": {},
   "outputs": [],
   "source": [
    "def process_card(type_d):\n",
    "    card_df = read_file('card_'+type_d)\n",
    "    \n",
    "    card_df.rename(columns={'type':'type_card'}, inplace=True)\n",
    "    \n",
    "    # issued date in a better format\n",
    "    #card_df['issued'] = card_df['issued'].apply(lambda date: parse_date(date))\n",
    "    \n",
    "    # Remove issued date\n",
    "    card_df.drop(columns='issued', inplace=True)\n",
    "    \n",
    "    return card_df"
   ]
  },
  {
   "cell_type": "code",
   "execution_count": 6,
   "metadata": {},
   "outputs": [],
   "source": [
    "def process_client():\n",
    "    client_df = read_file('client')\n",
    "    \n",
    "    # Extract client's age and gender from birthnumber\n",
    "    ages = []\n",
    "    genders = []\n",
    "    for bn in client_df['birth_number']:\n",
    "        month = int(str(bn)[2:4])\n",
    "    \n",
    "        # Gender\n",
    "        if month > 12:\n",
    "            genders.append('0') # Female\n",
    "            bn -= 5000\n",
    "        else:\n",
    "            genders.append('1') # Male\n",
    "\n",
    "        # Age\n",
    "        ages.append(calc_age(bn))\n",
    "    \n",
    "    client_df['age_clt'] = ages\n",
    "    client_df['gender_clt'] = genders\n",
    "    client_df.drop(columns='birth_number', inplace=True)\n",
    "    \n",
    "    return client_df"
   ]
  },
  {
   "cell_type": "code",
   "execution_count": 7,
   "metadata": {},
   "outputs": [],
   "source": [
    "def process_disposition():\n",
    "    disp_df = read_file('disp')\n",
    "    \n",
    "    # Only owners can ask for loans\n",
    "    disp_df = disp_df.loc[disp_df.type == 'OWNER']\n",
    "    disp_df = disp_df.drop(labels='type', axis=1)\n",
    "    disp_df.rename(columns={'type':'type_disp'}, inplace=True)\n",
    "    \n",
    "    return disp_df"
   ]
  },
  {
   "cell_type": "code",
   "execution_count": 8,
   "metadata": {},
   "outputs": [],
   "source": [
    "def process_district():\n",
    "    district_df = read_file('district')\n",
    "    \n",
    "    district_df.drop(columns='name', inplace=True)\n",
    "    \n",
    "    le = LabelEncoder()\n",
    "    district_df['region'] = le.fit_transform(district_df['region'])\n",
    "    \n",
    "    # Assign '96 values to missing values' cells from '95\n",
    "    district_df[\"unemploymant rate '95\"] = np.where(district_df[\"unemploymant rate '95\"] == '?', district_df[\"unemploymant rate '96\"], district_df[\"unemploymant rate '95\"])\n",
    "    district_df[\"no. of commited crimes '95\"] = np.where(district_df[\"no. of commited crimes '95\"] == '?', district_df[\"no. of commited crimes '96\"], district_df[\"no. of commited crimes '95\"])\n",
    "\n",
    "    district_df.rename(columns={'code': 'district_id'}, inplace=True)\n",
    "    \n",
    "    return district_df"
   ]
  },
  {
   "cell_type": "code",
   "execution_count": 9,
   "metadata": {},
   "outputs": [],
   "source": [
    "def process_loan(type_d):\n",
    "    loan_df = read_file('loan_'+type_d)\n",
    "    \n",
    "    loan_df.rename(columns={'amount': 'amount_loan'}, inplace=True)\n",
    "    loan_df.drop(columns='date', inplace=True)\n",
    "    \n",
    "    return loan_df"
   ]
  },
  {
   "cell_type": "code",
   "execution_count": 10,
   "metadata": {},
   "outputs": [],
   "source": [
    "def process_trans(type_d):\n",
    "    trans_df = read_file('trans_'+type_d)\n",
    "    \n",
    "    # Rename Operations\n",
    "    trans_df.loc[trans_df['operation'].isna(),'operation'] = trans_df.loc[trans_df['operation'].isna(),'k_symbol'] # When the op is Null k_symbol has info\n",
    "    \n",
    "    # Convert 'withdrawal in cash' to 'withdrawal' in type\n",
    "    trans_df.loc[trans_df['type']=='withdrawal in cash','type'] = 'withdrawal'\n",
    "    \n",
    "    trans_df.rename(columns={'type': 'type_trans', 'amount': 'amount_trans'}, inplace=True)\n",
    "    trans_df.drop(columns=['date', 'k_symbol', 'bank', 'account'], inplace=True)\n",
    "    \n",
    "    return trans_df"
   ]
  },
  {
   "cell_type": "markdown",
   "metadata": {},
   "source": [
    "#### Merge data"
   ]
  },
  {
   "cell_type": "code",
   "execution_count": 11,
   "metadata": {
    "tags": []
   },
   "outputs": [],
   "source": [
    "def process_merge_data(type_d):\n",
    "    account_df = process_account()\n",
    "    card_df = process_card(type_d)\n",
    "    client_df = process_client()\n",
    "    disp_df = process_disposition()\n",
    "    district_df = process_district()\n",
    "    loan_df = process_loan(type_d)\n",
    "    trans_df = process_trans(type_d)\n",
    "    \n",
    "    data = loan_df.merge(disp_df, on='account_id')\n",
    "    data = data.merge(client_df, on='client_id')\n",
    "    data = data.merge(account_df, on='account_id', suffixes=('_clt', '_acc'))\n",
    "    data = data.merge(district_df, left_on='district_id_clt', right_on='district_id')\n",
    "    data = data.merge(trans_df, on='account_id')\n",
    "    #data = data.merge(card_df, on='disp_id')\n",
    "    \n",
    "    data = data.drop(columns={'account_id', 'disp_id', 'district_id_clt', 'district_id_acc', 'district_id', 'client_id', 'trans_id',\n",
    "                              'no. of municipalities with inhabitants < 499',\n",
    "                              'no. of municipalities with inhabitants 500-1999', \n",
    "                              'no. of municipalities with inhabitants 2000-9999',\n",
    "                              'no. of municipalities with inhabitants >10000',\n",
    "                              'no. of cities',\n",
    "                              'ratio of urban inhabitants'})\n",
    "    \n",
    "    return data"
   ]
  },
  {
   "cell_type": "markdown",
   "metadata": {},
   "source": [
    "#### Get Train and Test Data"
   ]
  },
  {
   "cell_type": "code",
   "execution_count": 12,
   "metadata": {},
   "outputs": [
    {
     "name": "stdout",
     "output_type": "stream",
     "text": [
      "<Train Data>\n",
      "<class 'pandas.core.frame.DataFrame'>\n",
      "Int64Index: 24494 entries, 0 to 24493\n",
      "Data columns (total 21 columns):\n",
      " #   Column                                     Non-Null Count  Dtype  \n",
      "---  ------                                     --------------  -----  \n",
      " 0   loan_id                                    24494 non-null  int64  \n",
      " 1   amount_loan                                24494 non-null  int64  \n",
      " 2   duration                                   24494 non-null  int64  \n",
      " 3   payments                                   24494 non-null  int64  \n",
      " 4   status                                     24494 non-null  int64  \n",
      " 5   age_clt                                    24494 non-null  int64  \n",
      " 6   gender_clt                                 24494 non-null  object \n",
      " 7   frequency                                  24494 non-null  int32  \n",
      " 8   age_acc                                    24494 non-null  int64  \n",
      " 9   region                                     24494 non-null  int32  \n",
      " 10  no. of inhabitants                         24494 non-null  int64  \n",
      " 11  average salary                             24494 non-null  int64  \n",
      " 12  unemploymant rate '95                      24494 non-null  object \n",
      " 13  unemploymant rate '96                      24494 non-null  float64\n",
      " 14  no. of enterpreneurs per 1000 inhabitants  24494 non-null  int64  \n",
      " 15  no. of commited crimes '95                 24494 non-null  object \n",
      " 16  no. of commited crimes '96                 24494 non-null  int64  \n",
      " 17  type_trans                                 24494 non-null  object \n",
      " 18  operation                                  24494 non-null  object \n",
      " 19  amount_trans                               24494 non-null  float64\n",
      " 20  balance                                    24494 non-null  float64\n",
      "dtypes: float64(3), int32(2), int64(11), object(5)\n",
      "memory usage: 3.9+ MB\n",
      "None\n",
      "\n",
      "<Test Data>\n",
      "<class 'pandas.core.frame.DataFrame'>\n",
      "Int64Index: 30200 entries, 0 to 30199\n",
      "Data columns (total 21 columns):\n",
      " #   Column                                     Non-Null Count  Dtype  \n",
      "---  ------                                     --------------  -----  \n",
      " 0   loan_id                                    30200 non-null  int64  \n",
      " 1   amount_loan                                30200 non-null  int64  \n",
      " 2   duration                                   30200 non-null  int64  \n",
      " 3   payments                                   30200 non-null  int64  \n",
      " 4   status                                     0 non-null      float64\n",
      " 5   age_clt                                    30200 non-null  int64  \n",
      " 6   gender_clt                                 30200 non-null  object \n",
      " 7   frequency                                  30200 non-null  int32  \n",
      " 8   age_acc                                    30200 non-null  int64  \n",
      " 9   region                                     30200 non-null  int32  \n",
      " 10  no. of inhabitants                         30200 non-null  int64  \n",
      " 11  average salary                             30200 non-null  int64  \n",
      " 12  unemploymant rate '95                      30200 non-null  object \n",
      " 13  unemploymant rate '96                      30200 non-null  float64\n",
      " 14  no. of enterpreneurs per 1000 inhabitants  30200 non-null  int64  \n",
      " 15  no. of commited crimes '95                 30200 non-null  object \n",
      " 16  no. of commited crimes '96                 30200 non-null  int64  \n",
      " 17  type_trans                                 30200 non-null  object \n",
      " 18  operation                                  30200 non-null  object \n",
      " 19  amount_trans                               30200 non-null  float64\n",
      " 20  balance                                    30200 non-null  float64\n",
      "dtypes: float64(4), int32(2), int64(10), object(5)\n",
      "memory usage: 4.8+ MB\n",
      "None\n"
     ]
    }
   ],
   "source": [
    "train_data = process_merge_data('train')\n",
    "test_data = process_merge_data('test')\n",
    "\n",
    "print(\"<Train Data>\")\n",
    "print(train_data.info())\n",
    "print(\"\\n<Test Data>\")\n",
    "print(test_data.info())"
   ]
  },
  {
   "cell_type": "markdown",
   "metadata": {},
   "source": [
    "#### Data aggregation"
   ]
  },
  {
   "cell_type": "code",
   "execution_count": 13,
   "metadata": {},
   "outputs": [],
   "source": [
    "def abs_min(x):\n",
    "    return x.abs().min()\n",
    "def rangev(x):\n",
    "    return x.max() - x.min()\n",
    "\n",
    "def count_withdrawal(x):\n",
    "    return sum(x=='withdrawal')\n",
    "def count_credit(x):\n",
    "    return sum(x=='credit')\n",
    "\n",
    "def mean_withdrawal(x):\n",
    "    return np.mean(x=='withdrawal')\n",
    "def mean_credit(x):\n",
    "    return np.mean(x=='credit')\n",
    "\n",
    "def cov_withdrawal(x):\n",
    "    return np.cov(x=='withdrawal')\n",
    "def cov_credit(x):\n",
    "    return np.cov(x=='credit')"
   ]
  },
  {
   "cell_type": "code",
   "execution_count": 14,
   "metadata": {},
   "outputs": [],
   "source": [
    "def aggregate_data(df, keep_columns):\n",
    "    df = df.groupby(keep_columns, as_index=False, group_keys=False).agg({\n",
    "        'type_trans': [count_withdrawal, count_credit, mean_withdrawal, mean_credit, cov_withdrawal, cov_credit],\n",
    "        'operation': ['count'],\n",
    "        'amount_trans': ['mean','min','max','std','last', abs_min, rangev],\n",
    "        'balance': ['mean','min','max','std','last', abs_min, rangev]\n",
    "    })\n",
    "    df.columns = ['%s%s' % (a, '_%s' % b if b else '') for a, b in df.columns]\n",
    "    \n",
    "    return df"
   ]
  },
  {
   "cell_type": "code",
   "execution_count": 15,
   "metadata": {},
   "outputs": [
    {
     "name": "stdout",
     "output_type": "stream",
     "text": [
      "<Train Data>\n",
      "<class 'pandas.core.frame.DataFrame'>\n",
      "Int64Index: 328 entries, 0 to 327\n",
      "Data columns (total 30 columns):\n",
      " #   Column                       Non-Null Count  Dtype  \n",
      "---  ------                       --------------  -----  \n",
      " 0   loan_id                      328 non-null    int64  \n",
      " 1   amount_loan                  328 non-null    int64  \n",
      " 2   duration                     328 non-null    int64  \n",
      " 3   payments                     328 non-null    int64  \n",
      " 4   status                       328 non-null    int64  \n",
      " 5   age_clt                      328 non-null    int64  \n",
      " 6   gender_clt                   328 non-null    object \n",
      " 7   frequency                    328 non-null    int64  \n",
      " 8   age_acc                      328 non-null    int64  \n",
      " 9   type_trans_count_withdrawal  328 non-null    int64  \n",
      " 10  type_trans_count_credit      328 non-null    int64  \n",
      " 11  type_trans_mean_withdrawal   328 non-null    float64\n",
      " 12  type_trans_mean_credit       328 non-null    float64\n",
      " 13  type_trans_cov_withdrawal    328 non-null    float64\n",
      " 14  type_trans_cov_credit        328 non-null    float64\n",
      " 15  operation_count              328 non-null    int64  \n",
      " 16  amount_trans_mean            328 non-null    float64\n",
      " 17  amount_trans_min             328 non-null    float64\n",
      " 18  amount_trans_max             328 non-null    float64\n",
      " 19  amount_trans_std             328 non-null    float64\n",
      " 20  amount_trans_last            328 non-null    float64\n",
      " 21  amount_trans_abs_min         328 non-null    float64\n",
      " 22  amount_trans_rangev          328 non-null    float64\n",
      " 23  balance_mean                 328 non-null    float64\n",
      " 24  balance_min                  328 non-null    float64\n",
      " 25  balance_max                  328 non-null    float64\n",
      " 26  balance_std                  328 non-null    float64\n",
      " 27  balance_last                 328 non-null    float64\n",
      " 28  balance_abs_min              328 non-null    float64\n",
      " 29  balance_rangev               328 non-null    float64\n",
      "dtypes: float64(18), int64(11), object(1)\n",
      "memory usage: 79.4+ KB\n",
      "None\n",
      "\n",
      "<Test Data>\n",
      "<class 'pandas.core.frame.DataFrame'>\n",
      "Int64Index: 354 entries, 0 to 353\n",
      "Data columns (total 30 columns):\n",
      " #   Column                       Non-Null Count  Dtype  \n",
      "---  ------                       --------------  -----  \n",
      " 0   loan_id                      354 non-null    int64  \n",
      " 1   amount_loan                  354 non-null    int64  \n",
      " 2   duration                     354 non-null    int64  \n",
      " 3   payments                     354 non-null    int64  \n",
      " 4   status                       354 non-null    object \n",
      " 5   age_clt                      354 non-null    int64  \n",
      " 6   gender_clt                   354 non-null    object \n",
      " 7   frequency                    354 non-null    int64  \n",
      " 8   age_acc                      354 non-null    int64  \n",
      " 9   type_trans_count_withdrawal  354 non-null    int64  \n",
      " 10  type_trans_count_credit      354 non-null    int64  \n",
      " 11  type_trans_mean_withdrawal   354 non-null    float64\n",
      " 12  type_trans_mean_credit       354 non-null    float64\n",
      " 13  type_trans_cov_withdrawal    354 non-null    float64\n",
      " 14  type_trans_cov_credit        354 non-null    float64\n",
      " 15  operation_count              354 non-null    int64  \n",
      " 16  amount_trans_mean            354 non-null    float64\n",
      " 17  amount_trans_min             354 non-null    float64\n",
      " 18  amount_trans_max             354 non-null    float64\n",
      " 19  amount_trans_std             354 non-null    float64\n",
      " 20  amount_trans_last            354 non-null    float64\n",
      " 21  amount_trans_abs_min         354 non-null    float64\n",
      " 22  amount_trans_rangev          354 non-null    float64\n",
      " 23  balance_mean                 354 non-null    float64\n",
      " 24  balance_min                  354 non-null    float64\n",
      " 25  balance_max                  354 non-null    float64\n",
      " 26  balance_std                  354 non-null    float64\n",
      " 27  balance_last                 354 non-null    float64\n",
      " 28  balance_abs_min              354 non-null    float64\n",
      " 29  balance_rangev               354 non-null    float64\n",
      "dtypes: float64(18), int64(10), object(2)\n",
      "memory usage: 85.7+ KB\n",
      "None\n"
     ]
    }
   ],
   "source": [
    "keep_columns = ['loan_id', 'amount_loan', 'duration', 'payments', 'status', 'age_clt', 'gender_clt', 'frequency', 'age_acc']\n",
    "\n",
    "train_data_agg = aggregate_data(train_data, keep_columns)\n",
    "test_data.status = test_data.status.fillna('')\n",
    "test_data_agg = aggregate_data(test_data, keep_columns)\n",
    "\n",
    "print(\"<Train Data>\")\n",
    "print(train_data_agg.info())\n",
    "print(\"\\n<Test Data>\")\n",
    "print(test_data_agg.info())"
   ]
  },
  {
   "cell_type": "markdown",
   "metadata": {},
   "source": [
    "**ToDo** : Pôr os ficheiros de baixo dentro de uma pasta `model_data`"
   ]
  },
  {
   "cell_type": "code",
   "execution_count": 16,
   "metadata": {},
   "outputs": [],
   "source": [
    "train_data_agg.to_pickle('train_data.pkl')\n",
    "test_data_agg.to_pickle('test_data.pkl')"
   ]
  }
 ],
 "metadata": {
  "kernelspec": {
   "display_name": "Python 3",
   "language": "python",
   "name": "python3"
  },
  "language_info": {
   "codemirror_mode": {
    "name": "ipython",
    "version": 3
   },
   "file_extension": ".py",
   "mimetype": "text/x-python",
   "name": "python",
   "nbconvert_exporter": "python",
   "pygments_lexer": "ipython3",
   "version": "3.8.5"
  }
 },
 "nbformat": 4,
 "nbformat_minor": 5
}
