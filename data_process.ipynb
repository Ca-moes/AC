{
 "cells": [
  {
   "cell_type": "markdown",
   "id": "fcddeb73-439d-4a50-b87b-7ccc16f1684a",
   "metadata": {
    "tags": []
   },
   "source": [
    "# Data Processing\n",
    "\n",
    "1. Read .csv files\n",
    "2. Clean tables\n",
    "3. Merge Tables\n",
    "4. Feature Selection"
   ]
  },
  {
   "cell_type": "code",
   "execution_count": 1,
   "id": "26a32933-1298-4d68-9f71-43c2d6112104",
   "metadata": {
    "tags": []
   },
   "outputs": [],
   "source": [
    "import pandas as pd\n",
    "import numpy as np\n",
    "from datetime import date as d\n",
    "\n",
    "pd.set_option('display.max_columns', 500)\n",
    "pd.set_option('display.width', 1000)"
   ]
  },
  {
   "cell_type": "markdown",
   "id": "4d8d2f91-e3c1-48fc-9a2b-5dfc55f5ede0",
   "metadata": {},
   "source": [
    "Utils functions"
   ]
  },
  {
   "cell_type": "code",
   "execution_count": 2,
   "id": "736625e9-0e57-4721-b4aa-17e730680ea0",
   "metadata": {},
   "outputs": [],
   "source": [
    "def read_file(file_name):\n",
    "    return pd.read_csv('data/' + file_name + '.csv', sep=';', na_values=['NA', ''], low_memory=False).rename(str.strip, axis = 'columns')"
   ]
  },
  {
   "cell_type": "code",
   "execution_count": 3,
   "id": "6cf02220-187b-42e4-ba31-5c983403246b",
   "metadata": {},
   "outputs": [],
   "source": [
    "# Convert dates in yymmdd format to yyyy-mm-dd\n",
    "def parse_date(date):\n",
    "    return pd.to_datetime('19'+str(date)[0:2] + str(date)[2:4] + str(date)[4:6])\n",
    "\n",
    "# Returns current age given a date in yymmdd\n",
    "def calc_age(date):\n",
    "    date = parse_date(date)\n",
    "    today = d.today()\n",
    "    return today.year - date.year - ((today.month, today.day) < (date.month, date.day))"
   ]
  },
  {
   "cell_type": "markdown",
   "id": "8c88458e-0121-41db-9a6e-93150459a3eb",
   "metadata": {},
   "source": [
    "Read files, clean data and select features"
   ]
  },
  {
   "cell_type": "code",
   "execution_count": 4,
   "id": "b7dc8a5b-c2ce-44b3-96ec-7924fa3abf2c",
   "metadata": {
    "tags": []
   },
   "outputs": [],
   "source": [
    "def process_account():\n",
    "    account_df = read_file('account')\n",
    "    \n",
    "    # Calculate account age\n",
    "    account_df['date'] = account_df['date'].apply(lambda date: calc_age(date))\n",
    "    account_df.rename(columns={'date':'age_acc'}, inplace=True)\n",
    "\n",
    "    \n",
    "    # Simpler values for frequency\n",
    "    account_df.loc[account_df['frequency'] == 'monthly issuance', 'frequency'] = 'monthly'\n",
    "    account_df.loc[account_df['frequency'] == 'weekly issuance', 'frequency'] = 'weekly'\n",
    "    account_df.loc[account_df['frequency'] == 'issuance after transaction', 'frequency'] = 'pos-transaction'\n",
    "    \n",
    "    return account_df"
   ]
  },
  {
   "cell_type": "code",
   "execution_count": 5,
   "id": "2b3205f9-a70a-4ed7-9253-551ea8c573b9",
   "metadata": {},
   "outputs": [],
   "source": [
    "def process_card(type_d):\n",
    "    card_df = read_file('card_'+type_d)\n",
    "    \n",
    "    card_df.rename(columns={'type':'type_card'}, inplace=True)\n",
    "    \n",
    "    # issued date in a better format\n",
    "    #card_df['issued'] = card_df['issued'].apply(lambda date: parse_date(date))\n",
    "    \n",
    "    # Remove issued date\n",
    "    card_df.drop(columns='issued', inplace=True)\n",
    "    \n",
    "    return card_df"
   ]
  },
  {
   "cell_type": "code",
   "execution_count": 6,
   "id": "d2127763-0d5d-4f6d-a8d0-045564d1ced7",
   "metadata": {},
   "outputs": [],
   "source": [
    "def process_client():\n",
    "    client_df = read_file('client')\n",
    "    \n",
    "    # Extract client's age and gender from birthnumber\n",
    "    ages = []\n",
    "    genders = []\n",
    "    for bn in client_df['birth_number']:\n",
    "        month = int(str(bn)[2:4])\n",
    "    \n",
    "        # Gender\n",
    "        if month > 12:\n",
    "            genders.append('F')\n",
    "            bn -= 5000\n",
    "        else:\n",
    "            genders.append('M')\n",
    "\n",
    "        # Age\n",
    "        ages.append(calc_age(bn))\n",
    "    \n",
    "    client_df['age_clt'] = ages\n",
    "    client_df['gender_clt'] = genders\n",
    "    client_df.drop(columns='birth_number', inplace=True)\n",
    "    \n",
    "    return client_df"
   ]
  },
  {
   "cell_type": "code",
   "execution_count": 7,
   "id": "a62f3e0d-aa8c-4baa-88a8-82db6c5e5663",
   "metadata": {},
   "outputs": [],
   "source": [
    "def process_disposition():\n",
    "    disp_df = read_file('disp')\n",
    "    \n",
    "    # Only owners can ask for loans\n",
    "    disp_df = disp_df.loc[disp_df.type == 'OWNER']\n",
    "    disp_df = disp_df.drop(labels='type', axis=1)\n",
    "    disp_df.rename(columns={'type':'type_disp'}, inplace=True)\n",
    "    \n",
    "    return disp_df"
   ]
  },
  {
   "cell_type": "code",
   "execution_count": 8,
   "id": "622960ef-53d0-4efa-afff-fd361eecf7ab",
   "metadata": {},
   "outputs": [],
   "source": [
    "def process_district():\n",
    "    district_df = read_file('district')\n",
    "    \n",
    "    # Assign '96 values to missing values' cells from '95\n",
    "    district_df[\"unemploymant rate '95\"] = np.where(district_df[\"unemploymant rate '95\"] == '?', district_df[\"unemploymant rate '96\"], district_df[\"unemploymant rate '95\"])\n",
    "    district_df[\"no. of commited crimes '95\"] = np.where(district_df[\"no. of commited crimes '95\"] == '?', district_df[\"no. of commited crimes '96\"], district_df[\"no. of commited crimes '95\"])\n",
    "\n",
    "    district_df.rename(columns={'code': 'district_id'}, inplace=True)\n",
    "    \n",
    "    return district_df"
   ]
  },
  {
   "cell_type": "code",
   "execution_count": 9,
   "id": "504430d9-0261-4c05-9f32-705e0274bcd7",
   "metadata": {},
   "outputs": [],
   "source": [
    "def process_loan(type_d):\n",
    "    loan_df = read_file('loan_'+type_d)\n",
    "    \n",
    "    loan_df.rename(columns={'amount': 'amount_loan'}, inplace=True)\n",
    "    loan_df.drop(columns='date', inplace=True)\n",
    "    \n",
    "    return loan_df"
   ]
  },
  {
   "cell_type": "code",
   "execution_count": 10,
   "id": "38992bac-5c84-4b34-80a7-4f0a9d36bf04",
   "metadata": {},
   "outputs": [],
   "source": [
    "def process_trans(type_d):\n",
    "    trans_df = read_file('trans_'+type_d)\n",
    "    \n",
    "    # Rename Operations\n",
    "    trans_df.loc[trans_df['operation']=='credit in cash','operation'] = 'A'\n",
    "    trans_df.loc[trans_df['operation']=='collection from another bank','operation'] = 'B'\n",
    "    trans_df.loc[trans_df['operation']=='withdrawal in cash','operation'] = 'C'\n",
    "    trans_df.loc[trans_df['operation']=='remittance to another bank','operation'] = 'D'\n",
    "    trans_df.loc[trans_df['operation']=='credit card withdrawal','operation'] = 'E'\n",
    "    trans_df.loc[trans_df['operation']=='interest credited','operation'] = 'F'\n",
    "    trans_df.loc[trans_df['operation'].isna(),'operation'] = trans_df.loc[trans_df['operation'].isna(),'k_symbol'] # When the op is Null k_symbol has info\n",
    "    \n",
    "    # Convert 'withdrawal in cash' to 'withdrawal' in type\n",
    "    trans_df.loc[trans_df['type']=='withdrawal in cash','type'] = 'withdrawal'\n",
    "    \n",
    "    trans_df.rename(columns={'amount': 'amount_trans'}, inplace=True)\n",
    "    trans_df.drop(columns=['date', 'k_symbol', 'bank', 'account'], inplace=True)\n",
    "    \n",
    "    return trans_df"
   ]
  },
  {
   "cell_type": "markdown",
   "id": "dad57296-d7aa-41fd-955e-e385c415bd7a",
   "metadata": {},
   "source": [
    "Merge data"
   ]
  },
  {
   "cell_type": "code",
   "execution_count": 11,
   "id": "1057e88d-ca1b-493b-ae8e-b09b7cc364bf",
   "metadata": {
    "tags": []
   },
   "outputs": [],
   "source": [
    "def process_merge_data(type_d):\n",
    "    account_df = process_account()\n",
    "    card_df = process_card(type_d)\n",
    "    client_df = process_client()\n",
    "    disp_df = process_disposition()\n",
    "    district_df = process_district()\n",
    "    loan_df = process_loan(type_d)\n",
    "    trans_df = process_trans(type_d)\n",
    "    \n",
    "    data = loan_df.merge(disp_df, on='account_id')\n",
    "    data = data.merge(client_df, on='client_id')\n",
    "    data = data.merge(account_df, on='account_id', suffixes=('_clt', '_acc'))\n",
    "    #data = data.merge(district_df, on='district_id')\n",
    "    #data = data.merge(trans_df, on='account_id')\n",
    "    #data = data.merge(card_df, on='disp_id')\n",
    "    \n",
    "    return data"
   ]
  },
  {
   "cell_type": "markdown",
   "id": "b5ce2322-29e2-4dad-a16c-aca3e0373930",
   "metadata": {},
   "source": [
    "Get Train and Test Data"
   ]
  },
  {
   "cell_type": "code",
   "execution_count": 12,
   "id": "4f34e442-94e5-470e-80f3-b57f6fa06a30",
   "metadata": {},
   "outputs": [
    {
     "name": "stdout",
     "output_type": "stream",
     "text": [
      "<Train Data>\n",
      "   loan_id  account_id  amount_loan  duration  payments  status  disp_id  client_id  district_id_clt  age_clt gender_clt  district_id_acc frequency  age_acc\n",
      "0     5314        1787        96396        12      8033      -1     2166       2166               30       74          F               30    weekly       28\n",
      "1     5316        1801       165960        36      4610       1     2181       2181               46       53          M               46   monthly       28\n",
      "2     6863        9188       127080        60      2118       1    11006      11314               45       85          M               45   monthly       28\n",
      "3     5325        1843       105804        36      2939       1     2235       2235               14       81          F               12   monthly       28\n",
      "4     7240       11013       274740        60      4579       1    13231      13539               63       43          M                1    weekly       28\n",
      "\n",
      "<Test Data>\n",
      "   loan_id  account_id  amount_loan  duration  payments  status  disp_id  client_id  district_id_clt  age_clt gender_clt  district_id_acc        frequency  age_acc\n",
      "0     5895        4473        93960        60      1566     NaN     5395       5395               45       59          M               45          monthly       26\n",
      "1     7122       10365       260640        36      7240     NaN    12448      12756               22       72          F               22          monthly       26\n",
      "2     6173        5724       232560        48      4845     NaN     6922       6922               14       82          F               14  pos-transaction       26\n",
      "3     6142        5591       221880        60      3698     NaN     6749       6749                9       78          F                9          monthly       25\n",
      "4     5358        2018        38520        12      3210     NaN     2451       2451               42       81          M               42          monthly       26\n"
     ]
    }
   ],
   "source": [
    "train_data = process_merge_data('train')\n",
    "test_data = process_merge_data('test')\n",
    "\n",
    "print(\"<Train Data>\")\n",
    "print(train_data.head())\n",
    "print(\"\\n<Test Data>\")\n",
    "print(test_data.head())"
   ]
  },
  {
   "cell_type": "markdown",
   "id": "1fe6f2aa-8a47-4ceb-9618-ed81f77250ea",
   "metadata": {},
   "source": [
    "**ToDo** : Pôr os ficheiros de baixo dentro de uma pasta `model_data`"
   ]
  },
  {
   "cell_type": "code",
   "execution_count": 13,
   "id": "785d3f88-db12-417c-9b2e-622682f040e9",
   "metadata": {},
   "outputs": [],
   "source": [
    "train_data.to_pickle('train_data.pkl')\n",
    "test_data.to_pickle('test_data.pkl')"
   ]
  }
 ],
 "metadata": {
  "kernelspec": {
   "display_name": "Python 3",
   "language": "python",
   "name": "python3"
  },
  "language_info": {
   "codemirror_mode": {
    "name": "ipython",
    "version": 3
   },
   "file_extension": ".py",
   "mimetype": "text/x-python",
   "name": "python",
   "nbconvert_exporter": "python",
   "pygments_lexer": "ipython3",
   "version": "3.8.8"
  }
 },
 "nbformat": 4,
 "nbformat_minor": 5
}
