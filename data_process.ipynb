{
 "cells": [
  {
   "cell_type": "markdown",
   "id": "fcddeb73-439d-4a50-b87b-7ccc16f1684a",
   "metadata": {
    "tags": []
   },
   "source": [
    "# Data Processing\n",
    "\n",
    "1. Read .csv files\n",
    "2. Clean tables\n",
    "3. Merge Tables\n",
    "4. Feature Selection"
   ]
  },
  {
   "cell_type": "code",
   "execution_count": 1,
   "id": "26a32933-1298-4d68-9f71-43c2d6112104",
   "metadata": {},
   "outputs": [],
   "source": [
    "import pandas as pd"
   ]
  },
  {
   "cell_type": "markdown",
   "id": "eaf84484-2471-4d19-a41b-b64524be3a91",
   "metadata": {},
   "source": [
    "Read all files and rename columns to ..."
   ]
  },
  {
   "cell_type": "code",
   "execution_count": 2,
   "id": "5a7bae68-cb86-4a1f-9f3a-7ec7253ca4e1",
   "metadata": {},
   "outputs": [
    {
     "name": "stderr",
     "output_type": "stream",
     "text": [
      "/home/dani/miniconda3/envs/ac/lib/python3.9/site-packages/IPython/core/interactiveshell.py:3441: DtypeWarning: Columns (8) have mixed types.Specify dtype option on import or set low_memory=False.\n",
      "  exec(code_obj, self.user_global_ns, self.user_ns)\n"
     ]
    }
   ],
   "source": [
    "#Reading CSVs and renaming repeated columns\n",
    "\n",
    "account = pd.read_csv(\"data/account.csv\", sep=\";\")\n",
    "account.rename(columns={\"date\":\"date_acc\"}, inplace=True)\n",
    "\n",
    "card_test = pd.read_csv(\"data/card_test.csv\", sep=\";\")\n",
    "#rename card type\n",
    "card_train = pd.read_csv(\"data/card_train.csv\", sep=\";\")\n",
    "\n",
    "client = pd.read_csv(\"data/client.csv\", sep=\";\")\n",
    "\n",
    "disposition = pd.read_csv(\"data/disp.csv\", sep=\";\")\n",
    "disposition.rename(columns={\"type\":\"type_disp\"}, inplace=True)\n",
    "\n",
    "district = pd.read_csv(\"data/district.csv\", sep=\";\")\n",
    "district.rename(columns={\"code \": \"district_id\"}, inplace=True) #So we can merge later\n",
    "\n",
    "loan_test = pd.read_csv(\"data/loan_test.csv\", sep=\";\")\n",
    "loan_test.rename(columns={\"date\":\"date_loan\", \"amount\":\"amount_loan\"}, inplace=True)\n",
    "loan_train = pd.read_csv(\"data/loan_train.csv\", sep=\";\")\n",
    "loan_train.rename(columns={\"date\":\"date_loan\", \"amount\":\"amount_loan\"}, inplace=True)\n",
    "\n",
    "trans_test = pd.read_csv(\"data/trans_test.csv\", sep=\";\")\n",
    "trans_test.rename(columns={\"date\":\"date_trans\", \"type\":\"type_trans\", \"amount\":\"amount_trans\"}, inplace=True)\n",
    "trans_train = pd.read_csv(\"data/trans_train.csv\", sep=\";\")\n",
    "trans_train.rename(columns={\"date\":\"date_trans\", \"type\":\"type_trans\", \"amount\":\"amount_trans\"}, inplace=True)"
   ]
  },
  {
   "cell_type": "markdown",
   "id": "3d56502b-b1bb-464c-8ff3-744047e40521",
   "metadata": {},
   "source": [
    "Merge tables"
   ]
  },
  {
   "cell_type": "code",
   "execution_count": 3,
   "id": "1be255ef-e05d-4b79-9e42-ca80636c9094",
   "metadata": {},
   "outputs": [],
   "source": [
    "# account.merge(loan_train, on='account_id').merge(disposition, on='account_id').merge(card_train, on='disp_id')\n",
    "train_data = loan_train\n",
    "# train_data = train_data.drop(columns=['account_id','frequency', 'type_disp', 'type'])\n",
    "\n",
    "test_data = loan_test # account.merge(loan_test, on='account_id').merge(disposition, on='account_id').merge(card_test, on='disp_id')\n",
    "# test_data = test_data.drop(columns=['account_id', 'frequency', 'type_disp', 'type'])\n",
    "\n"
   ]
  },
  {
   "cell_type": "code",
   "execution_count": 4,
   "id": "6470e599-0278-4d7c-9e7e-0c03b54302d3",
   "metadata": {},
   "outputs": [
    {
     "data": {
      "text/html": [
       "<div>\n",
       "<style scoped>\n",
       "    .dataframe tbody tr th:only-of-type {\n",
       "        vertical-align: middle;\n",
       "    }\n",
       "\n",
       "    .dataframe tbody tr th {\n",
       "        vertical-align: top;\n",
       "    }\n",
       "\n",
       "    .dataframe thead th {\n",
       "        text-align: right;\n",
       "    }\n",
       "</style>\n",
       "<table border=\"1\" class=\"dataframe\">\n",
       "  <thead>\n",
       "    <tr style=\"text-align: right;\">\n",
       "      <th></th>\n",
       "      <th>loan_id</th>\n",
       "      <th>account_id</th>\n",
       "      <th>date_loan</th>\n",
       "      <th>amount_loan</th>\n",
       "      <th>duration</th>\n",
       "      <th>payments</th>\n",
       "      <th>status</th>\n",
       "    </tr>\n",
       "  </thead>\n",
       "  <tbody>\n",
       "    <tr>\n",
       "      <th>0</th>\n",
       "      <td>5895</td>\n",
       "      <td>4473</td>\n",
       "      <td>970103</td>\n",
       "      <td>93960</td>\n",
       "      <td>60</td>\n",
       "      <td>1566</td>\n",
       "      <td>NaN</td>\n",
       "    </tr>\n",
       "    <tr>\n",
       "      <th>1</th>\n",
       "      <td>7122</td>\n",
       "      <td>10365</td>\n",
       "      <td>970104</td>\n",
       "      <td>260640</td>\n",
       "      <td>36</td>\n",
       "      <td>7240</td>\n",
       "      <td>NaN</td>\n",
       "    </tr>\n",
       "    <tr>\n",
       "      <th>2</th>\n",
       "      <td>6173</td>\n",
       "      <td>5724</td>\n",
       "      <td>970108</td>\n",
       "      <td>232560</td>\n",
       "      <td>48</td>\n",
       "      <td>4845</td>\n",
       "      <td>NaN</td>\n",
       "    </tr>\n",
       "    <tr>\n",
       "      <th>3</th>\n",
       "      <td>6142</td>\n",
       "      <td>5591</td>\n",
       "      <td>970121</td>\n",
       "      <td>221880</td>\n",
       "      <td>60</td>\n",
       "      <td>3698</td>\n",
       "      <td>NaN</td>\n",
       "    </tr>\n",
       "    <tr>\n",
       "      <th>4</th>\n",
       "      <td>5358</td>\n",
       "      <td>2018</td>\n",
       "      <td>970121</td>\n",
       "      <td>38520</td>\n",
       "      <td>12</td>\n",
       "      <td>3210</td>\n",
       "      <td>NaN</td>\n",
       "    </tr>\n",
       "    <tr>\n",
       "      <th>...</th>\n",
       "      <td>...</td>\n",
       "      <td>...</td>\n",
       "      <td>...</td>\n",
       "      <td>...</td>\n",
       "      <td>...</td>\n",
       "      <td>...</td>\n",
       "      <td>...</td>\n",
       "    </tr>\n",
       "    <tr>\n",
       "      <th>349</th>\n",
       "      <td>4989</td>\n",
       "      <td>105</td>\n",
       "      <td>981205</td>\n",
       "      <td>352704</td>\n",
       "      <td>48</td>\n",
       "      <td>7348</td>\n",
       "      <td>NaN</td>\n",
       "    </tr>\n",
       "    <tr>\n",
       "      <th>350</th>\n",
       "      <td>5221</td>\n",
       "      <td>1284</td>\n",
       "      <td>981205</td>\n",
       "      <td>52512</td>\n",
       "      <td>12</td>\n",
       "      <td>4376</td>\n",
       "      <td>NaN</td>\n",
       "    </tr>\n",
       "    <tr>\n",
       "      <th>351</th>\n",
       "      <td>6402</td>\n",
       "      <td>6922</td>\n",
       "      <td>981206</td>\n",
       "      <td>139488</td>\n",
       "      <td>24</td>\n",
       "      <td>5812</td>\n",
       "      <td>NaN</td>\n",
       "    </tr>\n",
       "    <tr>\n",
       "      <th>352</th>\n",
       "      <td>5346</td>\n",
       "      <td>1928</td>\n",
       "      <td>981206</td>\n",
       "      <td>55632</td>\n",
       "      <td>24</td>\n",
       "      <td>2318</td>\n",
       "      <td>NaN</td>\n",
       "    </tr>\n",
       "    <tr>\n",
       "      <th>353</th>\n",
       "      <td>6748</td>\n",
       "      <td>8645</td>\n",
       "      <td>981208</td>\n",
       "      <td>240900</td>\n",
       "      <td>60</td>\n",
       "      <td>4015</td>\n",
       "      <td>NaN</td>\n",
       "    </tr>\n",
       "  </tbody>\n",
       "</table>\n",
       "<p>354 rows × 7 columns</p>\n",
       "</div>"
      ],
      "text/plain": [
       "     loan_id  account_id  date_loan  amount_loan  duration  payments  status\n",
       "0       5895        4473     970103        93960        60      1566     NaN\n",
       "1       7122       10365     970104       260640        36      7240     NaN\n",
       "2       6173        5724     970108       232560        48      4845     NaN\n",
       "3       6142        5591     970121       221880        60      3698     NaN\n",
       "4       5358        2018     970121        38520        12      3210     NaN\n",
       "..       ...         ...        ...          ...       ...       ...     ...\n",
       "349     4989         105     981205       352704        48      7348     NaN\n",
       "350     5221        1284     981205        52512        12      4376     NaN\n",
       "351     6402        6922     981206       139488        24      5812     NaN\n",
       "352     5346        1928     981206        55632        24      2318     NaN\n",
       "353     6748        8645     981208       240900        60      4015     NaN\n",
       "\n",
       "[354 rows x 7 columns]"
      ]
     },
     "execution_count": 4,
     "metadata": {},
     "output_type": "execute_result"
    }
   ],
   "source": [
    "test_data"
   ]
  },
  {
   "cell_type": "markdown",
   "id": "1fe6f2aa-8a47-4ceb-9618-ed81f77250ea",
   "metadata": {},
   "source": [
    "**ToDo** : Pôr os ficheiros de baixo dentro de uma pasta `modal_data`"
   ]
  },
  {
   "cell_type": "code",
   "execution_count": 5,
   "id": "785d3f88-db12-417c-9b2e-622682f040e9",
   "metadata": {},
   "outputs": [],
   "source": [
    "train_data.to_pickle(\"train_data.pkl\")\n",
    "test_data.to_pickle(\"test_data.pkl\")"
   ]
  }
 ],
 "metadata": {
  "kernelspec": {
   "display_name": "Python 3 (ipykernel)",
   "language": "python",
   "name": "python3"
  },
  "language_info": {
   "codemirror_mode": {
    "name": "ipython",
    "version": 3
   },
   "file_extension": ".py",
   "mimetype": "text/x-python",
   "name": "python",
   "nbconvert_exporter": "python",
   "pygments_lexer": "ipython3",
   "version": "3.9.7"
  }
 },
 "nbformat": 4,
 "nbformat_minor": 5
}
